{
  "nbformat": 4,
  "nbformat_minor": 0,
  "metadata": {
    "colab": {
      "name": "AutoencoderForThesis.ipynb",
      "version": "0.3.2",
      "provenance": [],
      "collapsed_sections": [],
      "include_colab_link": true
    },
    "kernelspec": {
      "name": "python3",
      "display_name": "Python 3"
    },
    "accelerator": "GPU"
  },
  "cells": [
    {
      "cell_type": "markdown",
      "metadata": {
        "id": "view-in-github",
        "colab_type": "text"
      },
      "source": [
        "<a href=\"https://colab.research.google.com/github/s1230038/autoencoder/blob/master/AutoencoderForThesis.ipynb\" target=\"_parent\"><img src=\"https://colab.research.google.com/assets/colab-badge.svg\" alt=\"Open In Colab\"/></a>"
      ]
    },
    {
      "metadata": {
        "id": "42k_7hqZp7yx",
        "colab_type": "code",
        "colab": {
          "base_uri": "https://localhost:8080/",
          "height": 35
        },
        "outputId": "090234c0-1553-46eb-a9ce-3a3f7cc337db"
      },
      "cell_type": "code",
      "source": [
        "rm *txt *h5 *png *zip"
      ],
      "execution_count": 1,
      "outputs": [
        {
          "output_type": "stream",
          "text": [
            "rm: cannot remove '*zip': No such file or directory\n"
          ],
          "name": "stdout"
        }
      ]
    },
    {
      "metadata": {
        "id": "d5NaL7in5Jc1",
        "colab_type": "code",
        "outputId": "c29aaeb6-ac5f-4b8a-baeb-8aee6fe61976",
        "colab": {
          "base_uri": "https://localhost:8080/",
          "height": 690
        }
      },
      "cell_type": "code",
      "source": [
        "# Simple Autoencoder using Other Loss Function\n",
        "# Original: https://elix-tech.github.io/ja/2016/07/17/autoencoder.html\n",
        "# https://colab.research.google.com/drive/1Z_d8APkMUDwXDQIg3OI7E13vH8IZhusM?authuser=1#scrollTo=WmBfOis_mWCH\n",
        "from keras.layers import Input, Dense\n",
        "from keras.models import Model\n",
        "from keras.datasets import mnist\n",
        "import numpy as np\n",
        "from keras.datasets import mnist\n",
        "from keras import backend as K\n",
        "from keras import metrics\n",
        "import matplotlib.pyplot as plt\n",
        "from keras import losses\n",
        "from tensorflow.python import debug as tf_debug\n",
        "from itertools import product\n",
        "from google.colab import files\n",
        "from keras import optimizers\n",
        "\n",
        "# imititing mean_squared_error():\n",
        "# 青イルカ P.57では二乗誤差の総和を使用しているが、これをKerasで実装する場合は平均二乗誤差（mean_squared_error)\n",
        "# をloss に渡す必要がある。なぜなら、Kerasはミニバッチでfit()を計算するからである。青イルカ P.27参照。\n",
        "# 𝒙 ̂_𝑛 :y_pred,  𝒙_𝑛 : y_true, because x_n is training data which means label.\n",
        "def i_divergence1(y_true, y_pred):\n",
        "  y_true = K.clip(y_true, K.epsilon(), 1)\n",
        "  y_pred = K.clip(y_pred, K.epsilon(), 1)\n",
        "  return K.mean(y_pred * K.log(y_pred / y_true) - y_pred + y_true, axis=-1)\n",
        "\n",
        "def i_divergence2(y_true, y_pred):\n",
        "  y_true = K.clip(y_true, K.epsilon(), 1)\n",
        "  y_pred = K.clip(y_pred, K.epsilon(), 1)\n",
        "  return K.mean(y_true * K.log(y_true / y_pred) - y_true + y_pred, axis=-1)\n",
        "\n",
        "def is_divergence1(y_true, y_pred):\n",
        "  y_true = K.clip(y_true, K.epsilon(), 1)\n",
        "  y_pred = K.clip(y_pred, K.epsilon(), 1)\n",
        "  return K.mean( (y_pred / y_true) - K.log(y_pred / y_true) - 1, axis=-1)\n",
        "\n",
        "def is_divergence2(y_true, y_pred):\n",
        "  y_true = K.clip(y_true, K.epsilon(), 1)\n",
        "  y_pred = K.clip(y_pred, K.epsilon(), 1)\n",
        "  return K.mean( (y_true / y_pred) - K.log(y_true / y_pred) - 1, axis=-1)\n",
        "\n",
        "# https://qiita.com/hiroyuki827/items/213146d551a6e2227810\n",
        "def plot_history_loss(np_loss, np_vloss, name):\n",
        "    # Plot the loss in the history\n",
        "    fig, axL = plt.subplots(figsize=(8,6), dpi=500) # グラフの表示準備\n",
        "    axL.plot(np_loss, label=\"loss for training\")\n",
        "    axL.plot(np_vloss, label=\"loss for validation\")\n",
        "    axL.set_title('model loss: ' + name)\n",
        "    axL.set_xlabel('epoch')\n",
        "    axL.set_ylabel('loss')\n",
        "    axL.legend(loc='upper right')\n",
        "    return fig\n",
        "\n",
        "\n",
        "epochs = 50\n",
        "# Download MNIST and standardize, learning\n",
        "(x_train, y_train), (x_test, y_test) = mnist.load_data()\n",
        "# we will restrict domain of definition of the input data to the below expression with normalization of the input.\n",
        "x_train = x_train.astype('float32') / 255. # 画像データは0から1の実数値を取るように規格化\n",
        "x_test = x_test.astype('float32') / 255.   # {0,1}の二値ではなく実数値であることに注意\n",
        "# x_trainは (60000, 28, 28) という形をしていますが、784次元の入力になるように (60000, 784) に変形\n",
        "x_train = x_train.reshape((len(x_train), np.prod(x_train.shape[1:])))\n",
        "x_test = x_test.reshape((len(x_test), np.prod(x_test.shape[1:])))\n",
        "# hyper parameter combination\n",
        "'''\n",
        "lossfs = [losses.mean_squared_error, i_divergence1, i_divergence2, is_divergence1, is_divergence2]\n",
        "acts = [\"relu\", \"sigmoid\"]\n",
        "opzs = [\"SGD\", \"RMSprop\", \"Adagrad\", \"Adadelta\", \"Adam\", \"Adamax\", \"Nadam\"]\n",
        "'''\n",
        "lossfs = [i_divergence1]\n",
        "acts   = [\"relu\"]\n",
        "list1  = [0.0005, 0.001]\n",
        "list2  = np.arange(0.7, 0.99, 0.1)\n",
        "list3  = np.arange(0.7, 0.999, 0.1)\n",
        "list4  = [0.0]\n",
        "list5  = [True, False]\n",
        "# ------------------------------------------\n",
        "for loss, dact, op1, op2, op3, op4, op5 in product(lossfs, acts, list1, list2, list3, list4, list5):\n",
        "  optimizer = optimizers.Adam(lr=op1, beta_1=op2, beta_2=op3, decay=op4, amsgrad=op5 )\n",
        "  file_prefix = (loss.__name__ + '_' + dact + '_' + optimizer.__class__.__name__ + '_'  +\n",
        "                str(op1) + '_' + str(op2) + '_' + str(op3) + '_' + str(op4) + '_' + str(op5) + '_')\n",
        "  print(\"start: \" + file_prefix )\n",
        "  encoding_dim = 32\n",
        "  input_img = Input(shape=(784,))\n",
        "  encoded = Dense(encoding_dim, activation='relu')(input_img) \n",
        "  decoded = Dense(784, activation=dact)(encoded)\n",
        "  autoencoder = Model(inputs=input_img, outputs=decoded) # https://medium.com/@zhuixiyou/userwarning-update-your-model-call-to-the-keras-2-api-8a6a5955daac\n",
        "  # autoencoderでは、教師データにラベルを使わないためaccuracyの計算は不要。\n",
        "  autoencoder.compile(optimizer=optimizer, loss=loss)\n",
        "  # ------------------------------------------\n",
        "  fit = autoencoder.fit(x_train, x_train,\n",
        "                  epochs=epochs,\n",
        "                  batch_size=256,\n",
        "                  shuffle=True,\n",
        "                  verbose=0,\n",
        "                  validation_data=(x_test, x_test))\n",
        "\n",
        "  # lossのCSVファイルの保存\n",
        "  loss_his = fit.history['loss']\n",
        "  vloss_his = fit.history['val_loss']\n",
        "  np_loss = np.array(loss_his)\n",
        "  np_vloss = np.array(vloss_his)\n",
        "  np.savetxt(file_prefix + \"loss_history.txt\",     np_loss,  delimiter=\",\")\n",
        "  np.savetxt(file_prefix + \"val_loss_history.txt\", np_vloss, delimiter=\",\")\n",
        "  \n",
        "  # グラフの保存\n",
        "  fig = plot_history_loss(np_loss, np_vloss, loss.__name__)\n",
        "  fig.savefig(file_prefix + \"loss_history.png\")\n",
        "  plt.close()\n",
        "  \n",
        "  # 学習した重みを保存\n",
        "  autoencoder.save_weights(file_prefix + 'autoencoder.h5')\n",
        "  \n",
        "  autoencoder.reset_states()"
      ],
      "execution_count": 2,
      "outputs": [
        {
          "output_type": "stream",
          "text": [
            "Using TensorFlow backend.\n"
          ],
          "name": "stderr"
        },
        {
          "output_type": "stream",
          "text": [
            "start: i_divergence1_relu_Adam_0.0005_0.7_0.7_0.0_True_\n",
            "start: i_divergence1_relu_Adam_0.0005_0.7_0.7_0.0_False_\n",
            "start: i_divergence1_relu_Adam_0.0005_0.7_0.7999999999999999_0.0_True_\n",
            "start: i_divergence1_relu_Adam_0.0005_0.7_0.7999999999999999_0.0_False_\n",
            "start: i_divergence1_relu_Adam_0.0005_0.7_0.8999999999999999_0.0_True_\n",
            "start: i_divergence1_relu_Adam_0.0005_0.7_0.8999999999999999_0.0_False_\n",
            "start: i_divergence1_relu_Adam_0.0005_0.7999999999999999_0.7_0.0_True_\n",
            "start: i_divergence1_relu_Adam_0.0005_0.7999999999999999_0.7_0.0_False_\n",
            "start: i_divergence1_relu_Adam_0.0005_0.7999999999999999_0.7999999999999999_0.0_True_\n",
            "start: i_divergence1_relu_Adam_0.0005_0.7999999999999999_0.7999999999999999_0.0_False_\n",
            "start: i_divergence1_relu_Adam_0.0005_0.7999999999999999_0.8999999999999999_0.0_True_\n",
            "start: i_divergence1_relu_Adam_0.0005_0.7999999999999999_0.8999999999999999_0.0_False_\n",
            "start: i_divergence1_relu_Adam_0.0005_0.8999999999999999_0.7_0.0_True_\n",
            "start: i_divergence1_relu_Adam_0.0005_0.8999999999999999_0.7_0.0_False_\n",
            "start: i_divergence1_relu_Adam_0.0005_0.8999999999999999_0.7999999999999999_0.0_True_\n",
            "start: i_divergence1_relu_Adam_0.0005_0.8999999999999999_0.7999999999999999_0.0_False_\n",
            "start: i_divergence1_relu_Adam_0.0005_0.8999999999999999_0.8999999999999999_0.0_True_\n",
            "start: i_divergence1_relu_Adam_0.0005_0.8999999999999999_0.8999999999999999_0.0_False_\n",
            "start: i_divergence1_relu_Adam_0.001_0.7_0.7_0.0_True_\n",
            "start: i_divergence1_relu_Adam_0.001_0.7_0.7_0.0_False_\n",
            "start: i_divergence1_relu_Adam_0.001_0.7_0.7999999999999999_0.0_True_\n",
            "start: i_divergence1_relu_Adam_0.001_0.7_0.7999999999999999_0.0_False_\n",
            "start: i_divergence1_relu_Adam_0.001_0.7_0.8999999999999999_0.0_True_\n",
            "start: i_divergence1_relu_Adam_0.001_0.7_0.8999999999999999_0.0_False_\n",
            "start: i_divergence1_relu_Adam_0.001_0.7999999999999999_0.7_0.0_True_\n",
            "start: i_divergence1_relu_Adam_0.001_0.7999999999999999_0.7_0.0_False_\n",
            "start: i_divergence1_relu_Adam_0.001_0.7999999999999999_0.7999999999999999_0.0_True_\n",
            "start: i_divergence1_relu_Adam_0.001_0.7999999999999999_0.7999999999999999_0.0_False_\n",
            "start: i_divergence1_relu_Adam_0.001_0.7999999999999999_0.8999999999999999_0.0_True_\n",
            "start: i_divergence1_relu_Adam_0.001_0.7999999999999999_0.8999999999999999_0.0_False_\n",
            "start: i_divergence1_relu_Adam_0.001_0.8999999999999999_0.7_0.0_True_\n",
            "start: i_divergence1_relu_Adam_0.001_0.8999999999999999_0.7_0.0_False_\n",
            "start: i_divergence1_relu_Adam_0.001_0.8999999999999999_0.7999999999999999_0.0_True_\n",
            "start: i_divergence1_relu_Adam_0.001_0.8999999999999999_0.7999999999999999_0.0_False_\n",
            "start: i_divergence1_relu_Adam_0.001_0.8999999999999999_0.8999999999999999_0.0_True_\n",
            "start: i_divergence1_relu_Adam_0.001_0.8999999999999999_0.8999999999999999_0.0_False_\n"
          ],
          "name": "stdout"
        }
      ]
    },
    {
      "metadata": {
        "id": "mVwTIp0j2BUE",
        "colab_type": "code",
        "outputId": "9a911106-8c34-42bf-d668-60016ab872a7",
        "colab": {
          "base_uri": "https://localhost:8080/",
          "height": 10354
        }
      },
      "cell_type": "code",
      "source": [
        "import matplotlib\n",
        "matplotlib.use('Agg')\n",
        "import matplotlib.pyplot as plt\n",
        "\n",
        "# ------------------------------------------\n",
        "for loss, dact, op1, op2, op3, op4, op5 in product(lossfs, acts, list1, list2, list3, list4, list5):\n",
        "  optimizer = optimizers.Adam(lr=op1, beta_1=op2, beta_2=op3, decay=op4, amsgrad=op5 )\n",
        "  file_prefix = (loss.__name__ + '_' + dact + '_' + optimizer.__class__.__name__ + '_'  +\n",
        "                str(op1) + '_' + str(op2) + '_' + str(op3) + '_' + str(op4) + '_' + str(op5) + '_')\n",
        "  print(\"start: \" + file_prefix )\n",
        "  encoding_dim = 32\n",
        "  input_img = Input(shape=(784,))\n",
        "  encoded = Dense(encoding_dim, activation='relu')(input_img) \n",
        "  decoded = Dense(784, activation=dact)(encoded)\n",
        "  autoencoder = Model(inputs=input_img, outputs=decoded) # https://medium.com/@zhuixiyou/userwarning-update-your-model-call-to-the-keras-2-api-8a6a5955daac\n",
        "  # autoencoderでは、教師データにラベルを使わないためaccuracyの計算は不要。\n",
        "  autoencoder.compile(optimizer=optimizer, loss=loss)\n",
        "  # ------------------------------------------\n",
        "  # 保存した重みを読み込み\n",
        "  autoencoder.load_weights(file_prefix + 'autoencoder.h5')\n",
        "  decoded_imgs = autoencoder.predict(x_test)\n",
        "  # 0-9を表示する\n",
        "  plt.figure(figsize=(20, 4))\n",
        "  label = 0\n",
        "  for i in range(1000):\n",
        "      if label > 10:\n",
        "          break\n",
        "      elif label != y_test[i]:\n",
        "          continue\n",
        "      # オリジナルのテスト画像を表示\n",
        "      plt.imshow(x_test[i].reshape(28, 28))\n",
        "      plt.gray()\n",
        "      plt.savefig(file_prefix + str(i) + '_x_test_numbers.png')\n",
        "\n",
        "      # 変換された画像を表示\n",
        "      plt.imshow(decoded_imgs[i].reshape(28, 28))\n",
        "      plt.gray()\n",
        "      plt.savefig(file_prefix + str(i) + '_decoded_numbers.png')\n",
        "      \n",
        "      label+=1\n",
        "  #  plt.show() #show()するとファイルに保存できないことに注意。\n",
        "  autoencoder.reset_states()\n"
      ],
      "execution_count": 9,
      "outputs": [
        {
          "output_type": "stream",
          "text": [
            "/usr/local/lib/python3.6/dist-packages/ipykernel_launcher.py:2: UserWarning: \n",
            "This call to matplotlib.use() has no effect because the backend has already\n",
            "been chosen; matplotlib.use() must be called *before* pylab, matplotlib.pyplot,\n",
            "or matplotlib.backends is imported for the first time.\n",
            "\n",
            "The backend was *originally* set to 'module://ipykernel.pylab.backend_inline' by the following code:\n",
            "  File \"/usr/lib/python3.6/runpy.py\", line 193, in _run_module_as_main\n",
            "    \"__main__\", mod_spec)\n",
            "  File \"/usr/lib/python3.6/runpy.py\", line 85, in _run_code\n",
            "    exec(code, run_globals)\n",
            "  File \"/usr/local/lib/python3.6/dist-packages/ipykernel_launcher.py\", line 16, in <module>\n",
            "    app.launch_new_instance()\n",
            "  File \"/usr/local/lib/python3.6/dist-packages/traitlets/config/application.py\", line 657, in launch_instance\n",
            "    app.initialize(argv)\n",
            "  File \"<decorator-gen-121>\", line 2, in initialize\n",
            "  File \"/usr/local/lib/python3.6/dist-packages/traitlets/config/application.py\", line 87, in catch_config_error\n",
            "    return method(app, *args, **kwargs)\n",
            "  File \"/usr/local/lib/python3.6/dist-packages/ipykernel/kernelapp.py\", line 462, in initialize\n",
            "    self.init_gui_pylab()\n",
            "  File \"/usr/local/lib/python3.6/dist-packages/ipykernel/kernelapp.py\", line 403, in init_gui_pylab\n",
            "    InteractiveShellApp.init_gui_pylab(self)\n",
            "  File \"/usr/local/lib/python3.6/dist-packages/IPython/core/shellapp.py\", line 213, in init_gui_pylab\n",
            "    r = enable(key)\n",
            "  File \"/usr/local/lib/python3.6/dist-packages/IPython/core/interactiveshell.py\", line 2950, in enable_matplotlib\n",
            "    pt.activate_matplotlib(backend)\n",
            "  File \"/usr/local/lib/python3.6/dist-packages/IPython/core/pylabtools.py\", line 309, in activate_matplotlib\n",
            "    matplotlib.pyplot.switch_backend(backend)\n",
            "  File \"/usr/local/lib/python3.6/dist-packages/matplotlib/pyplot.py\", line 232, in switch_backend\n",
            "    matplotlib.use(newbackend, warn=False, force=True)\n",
            "  File \"/usr/local/lib/python3.6/dist-packages/matplotlib/__init__.py\", line 1305, in use\n",
            "    reload(sys.modules['matplotlib.backends'])\n",
            "  File \"/usr/lib/python3.6/importlib/__init__.py\", line 166, in reload\n",
            "    _bootstrap._exec(spec, module)\n",
            "  File \"/usr/local/lib/python3.6/dist-packages/matplotlib/backends/__init__.py\", line 14, in <module>\n",
            "    line for line in traceback.format_stack()\n",
            "\n",
            "\n",
            "  \n"
          ],
          "name": "stderr"
        },
        {
          "output_type": "stream",
          "text": [
            "start: i_divergence1_relu_Adam_0.0005_0.7_0.7_0.0_True_\n",
            "start: i_divergence1_relu_Adam_0.0005_0.7_0.7_0.0_False_\n",
            "start: i_divergence1_relu_Adam_0.0005_0.7_0.7999999999999999_0.0_True_\n",
            "start: i_divergence1_relu_Adam_0.0005_0.7_0.7999999999999999_0.0_False_\n",
            "start: i_divergence1_relu_Adam_0.0005_0.7_0.8999999999999999_0.0_True_\n",
            "start: i_divergence1_relu_Adam_0.0005_0.7_0.8999999999999999_0.0_False_\n",
            "start: i_divergence1_relu_Adam_0.0005_0.7999999999999999_0.7_0.0_True_\n",
            "start: i_divergence1_relu_Adam_0.0005_0.7999999999999999_0.7_0.0_False_\n",
            "start: i_divergence1_relu_Adam_0.0005_0.7999999999999999_0.7999999999999999_0.0_True_\n",
            "start: i_divergence1_relu_Adam_0.0005_0.7999999999999999_0.7999999999999999_0.0_False_\n",
            "start: i_divergence1_relu_Adam_0.0005_0.7999999999999999_0.8999999999999999_0.0_True_\n",
            "start: i_divergence1_relu_Adam_0.0005_0.7999999999999999_0.8999999999999999_0.0_False_\n",
            "start: i_divergence1_relu_Adam_0.0005_0.8999999999999999_0.7_0.0_True_\n",
            "start: i_divergence1_relu_Adam_0.0005_0.8999999999999999_0.7_0.0_False_\n",
            "start: i_divergence1_relu_Adam_0.0005_0.8999999999999999_0.7999999999999999_0.0_True_\n",
            "start: i_divergence1_relu_Adam_0.0005_0.8999999999999999_0.7999999999999999_0.0_False_\n",
            "start: i_divergence1_relu_Adam_0.0005_0.8999999999999999_0.8999999999999999_0.0_True_\n",
            "start: i_divergence1_relu_Adam_0.0005_0.8999999999999999_0.8999999999999999_0.0_False_\n",
            "start: i_divergence1_relu_Adam_0.001_0.7_0.7_0.0_True_\n",
            "start: i_divergence1_relu_Adam_0.001_0.7_0.7_0.0_False_\n",
            "start: i_divergence1_relu_Adam_0.001_0.7_0.7999999999999999_0.0_True_\n"
          ],
          "name": "stdout"
        },
        {
          "output_type": "stream",
          "text": [
            "/usr/local/lib/python3.6/dist-packages/matplotlib/pyplot.py:528: RuntimeWarning: More than 20 figures have been opened. Figures created through the pyplot interface (`matplotlib.pyplot.figure`) are retained until explicitly closed and may consume too much memory. (To control this warning, see the rcParam `figure.max_open_warning`).\n",
            "  max_open_warning, RuntimeWarning)\n"
          ],
          "name": "stderr"
        },
        {
          "output_type": "stream",
          "text": [
            "start: i_divergence1_relu_Adam_0.001_0.7_0.7999999999999999_0.0_False_\n",
            "start: i_divergence1_relu_Adam_0.001_0.7_0.8999999999999999_0.0_True_\n",
            "start: i_divergence1_relu_Adam_0.001_0.7_0.8999999999999999_0.0_False_\n",
            "start: i_divergence1_relu_Adam_0.001_0.7999999999999999_0.7_0.0_True_\n",
            "start: i_divergence1_relu_Adam_0.001_0.7999999999999999_0.7_0.0_False_\n",
            "start: i_divergence1_relu_Adam_0.001_0.7999999999999999_0.7999999999999999_0.0_True_\n",
            "start: i_divergence1_relu_Adam_0.001_0.7999999999999999_0.7999999999999999_0.0_False_\n",
            "start: i_divergence1_relu_Adam_0.001_0.7999999999999999_0.8999999999999999_0.0_True_\n",
            "start: i_divergence1_relu_Adam_0.001_0.7999999999999999_0.8999999999999999_0.0_False_\n",
            "start: i_divergence1_relu_Adam_0.001_0.8999999999999999_0.7_0.0_True_\n",
            "start: i_divergence1_relu_Adam_0.001_0.8999999999999999_0.7_0.0_False_\n",
            "start: i_divergence1_relu_Adam_0.001_0.8999999999999999_0.7999999999999999_0.0_True_\n",
            "start: i_divergence1_relu_Adam_0.001_0.8999999999999999_0.7999999999999999_0.0_False_\n",
            "start: i_divergence1_relu_Adam_0.001_0.8999999999999999_0.8999999999999999_0.0_True_\n",
            "start: i_divergence1_relu_Adam_0.001_0.8999999999999999_0.8999999999999999_0.0_False_\n"
          ],
          "name": "stdout"
        },
        {
          "output_type": "display_data",
          "data": {
            "image/png": "[encoded data removed]",
            "text/plain": [
              "<matplotlib.figure.Figure at 0x7f08070f1dd8>"
            ]
          },
          "metadata": {
            "tags": []
          }
        },
        {
          "output_type": "display_data",
          "data": {
            "image/png": "[encoded data removed]",
            "text/plain": [
              "<matplotlib.figure.Figure at 0x7f0808108208>"
            ]
          },
          "metadata": {
            "tags": []
          }
        },
        {
          "output_type": "display_data",
          "data": {
            "image/png": "[encoded data removed]",
            "text/plain": [
              "<matplotlib.figure.Figure at 0x7f0820b62fd0>"
            ]
          },
          "metadata": {
            "tags": []
          }
        },
        {
          "output_type": "display_data",
          "data": {
            "image/png": "[encoded data removed]",
            "text/plain": [
              "<matplotlib.figure.Figure at 0x7f08209bd668>"
            ]
          },
          "metadata": {
            "tags": []
          }
        },
        {
          "output_type": "display_data",
          "data": {
            "image/png": "[encoded data removed]",
            "text/plain": [
              "<matplotlib.figure.Figure at 0x7f08205164e0>"
            ]
          },
          "metadata": {
            "tags": []
          }
        },
        {
          "output_type": "display_data",
          "data": {
            "image/png": "[encoded data removed]",
            "text/plain": [
              "<matplotlib.figure.Figure at 0x7f08203904a8>"
            ]
          },
          "metadata": {
            "tags": []
          }
        },
        {
          "output_type": "display_data",
          "data": {
            "image/png": "[encoded data removed]",
            "text/plain": [
              "<matplotlib.figure.Figure at 0x7f080fb0b358>"
            ]
          },
          "metadata": {
            "tags": []
          }
        },
        {
          "output_type": "display_data",
          "data": {
            "image/png": "[encoded data removed]",
            "text/plain": [
              "<matplotlib.figure.Figure at 0x7f080f9608d0>"
            ]
          },
          "metadata": {
            "tags": []
          }
        },
        {
          "output_type": "display_data",
          "data": {
            "image/png": "[encoded data removed]",
            "text/plain": [
              "<matplotlib.figure.Figure at 0x7f080f662be0>"
            ]
          },
          "metadata": {
            "tags": []
          }
        },
        {
          "output_type": "display_data",
          "data": {
            "image/png": "[encoded data removed]",
            "text/plain": [
              "<matplotlib.figure.Figure at 0x7f080f4ecd30>"
            ]
          },
          "metadata": {
            "tags": []
          }
        },
        {
          "output_type": "display_data",
          "data": {
            "image/png": "[encoded data removed]",
            "text/plain": [
              "<matplotlib.figure.Figure at 0x7f080ef2a470>"
            ]
          },
          "metadata": {
            "tags": []
          }
        },
        {
          "output_type": "display_data",
          "data": {
            "image/png": "[encoded data removed]",
            "text/plain": [
              "<matplotlib.figure.Figure at 0x7f080ee32860>"
            ]
          },
          "metadata": {
            "tags": []
          }
        },
        {
          "output_type": "display_data",
          "data": {
            "image/png": "[encoded data removed]",
            "text/plain": [
              "<matplotlib.figure.Figure at 0x7f080e87bf60>"
            ]
          },
          "metadata": {
            "tags": []
          }
        },
        {
          "output_type": "display_data",
          "data": {
            "image/png": "[encoded data removed]",
            "text/plain": [
              "<matplotlib.figure.Figure at 0x7f080dfa5e48>"
            ]
          },
          "metadata": {
            "tags": []
          }
        },
        {
          "output_type": "display_data",
          "data": {
            "image/png": "[encoded data removed]",
            "text/plain": [
              "<matplotlib.figure.Figure at 0x7f080da4a208>"
            ]
          },
          "metadata": {
            "tags": []
          }
        },
        {
          "output_type": "display_data",
          "data": {
            "image/png": "[encoded data removed]",
            "text/plain": [
              "<matplotlib.figure.Figure at 0x7f080d523e80>"
            ]
          },
          "metadata": {
            "tags": []
          }
        },
        {
          "output_type": "display_data",
          "data": {
            "image/png": "[encoded data removed]",
            "text/plain": [
              "<matplotlib.figure.Figure at 0x7f080cf13470>"
            ]
          },
          "metadata": {
            "tags": []
          }
        },
        {
          "output_type": "display_data",
          "data": {
            "image/png": "[encoded data removed]",
            "text/plain": [
              "<matplotlib.figure.Figure at 0x7f080cdda860>"
            ]
          },
          "metadata": {
            "tags": []
          }
        },
        {
          "output_type": "display_data",
          "data": {
            "image/png": "[encoded data removed]",
            "text/plain": [
              "<matplotlib.figure.Figure at 0x7f080c961f60>"
            ]
          },
          "metadata": {
            "tags": []
          }
        },
        {
          "output_type": "display_data",
          "data": {
            "image/png": "[encoded data removed]",
            "text/plain": [
              "<matplotlib.figure.Figure at 0x7f080c491e48>"
            ]
          },
          "metadata": {
            "tags": []
          }
        },
        {
          "output_type": "display_data",
          "data": {
            "image/png": "[encoded data removed]",
            "text/plain": [
              "<matplotlib.figure.Figure at 0x7f080c133240>"
            ]
          },
          "metadata": {
            "tags": []
          }
        },
        {
          "output_type": "display_data",
          "data": {
            "image/png": "[encoded data removed]",
            "text/plain": [
              "<matplotlib.figure.Figure at 0x7f080bdbe550>"
            ]
          },
          "metadata": {
            "tags": []
          }
        },
        {
          "output_type": "display_data",
          "data": {
            "image/png": "[encoded data removed]",
            "text/plain": [
              "<matplotlib.figure.Figure at 0x7f080babd5c0>"
            ]
          },
          "metadata": {
            "tags": []
          }
        },
        {
          "output_type": "display_data",
          "data": {
            "image/png": "[encoded data removed]",
            "text/plain": [
              "<matplotlib.figure.Figure at 0x7f080b915da0>"
            ]
          },
          "metadata": {
            "tags": []
          }
        },
        {
          "output_type": "display_data",
          "data": {
            "image/png": "[encoded data removed]",
            "text/plain": [
              "<matplotlib.figure.Figure at 0x7f080b458780>"
            ]
          },
          "metadata": {
            "tags": []
          }
        },
        {
          "output_type": "display_data",
          "data": {
            "image/png": "[encoded data removed]",
            "text/plain": [
              "<matplotlib.figure.Figure at 0x7f080b011ef0>"
            ]
          },
          "metadata": {
            "tags": []
          }
        },
        {
          "output_type": "display_data",
          "data": {
            "image/png": "[encoded data removed]",
            "text/plain": [
              "<matplotlib.figure.Figure at 0x7f080af5c4a8>"
            ]
          },
          "metadata": {
            "tags": []
          }
        },
        {
          "output_type": "display_data",
          "data": {
            "image/png": "[encoded data removed]",
            "text/plain": [
              "<matplotlib.figure.Figure at 0x7f080a9aaf98>"
            ]
          },
          "metadata": {
            "tags": []
          }
        },
        {
          "output_type": "display_data",
          "data": {
            "image/png": "[encoded data removed]",
            "text/plain": [
              "<matplotlib.figure.Figure at 0x7f080a54ad30>"
            ]
          },
          "metadata": {
            "tags": []
          }
        },
        {
          "output_type": "display_data",
          "data": {
            "image/png": "[encoded data removed]",
            "text/plain": [
              "<matplotlib.figure.Figure at 0x7f080a117cc0>"
            ]
          },
          "metadata": {
            "tags": []
          }
        },
        {
          "output_type": "display_data",
          "data": {
            "image/png": "[encoded data removed]",
            "text/plain": [
              "<matplotlib.figure.Figure at 0x7f0809e82080>"
            ]
          },
          "metadata": {
            "tags": []
          }
        },
        {
          "output_type": "display_data",
          "data": {
            "image/png": "[encoded data removed]",
            "text/plain": [
              "<matplotlib.figure.Figure at 0x7f0809a61e48>"
            ]
          },
          "metadata": {
            "tags": []
          }
        },
        {
          "output_type": "display_data",
          "data": {
            "image/png": "[encoded data removed]",
            "text/plain": [
              "<matplotlib.figure.Figure at 0x7f0809686240>"
            ]
          },
          "metadata": {
            "tags": []
          }
        },
        {
          "output_type": "display_data",
          "data": {
            "image/png": "[encoded data removed]",
            "text/plain": [
              "<matplotlib.figure.Figure at 0x7f080950e860>"
            ]
          },
          "metadata": {
            "tags": []
          }
        },
        {
          "output_type": "display_data",
          "data": {
            "image/png": "[encoded data removed]",
            "text/plain": [
              "<matplotlib.figure.Figure at 0x7f080904e5c0>"
            ]
          },
          "metadata": {
            "tags": []
          }
        },
        {
          "output_type": "display_data",
          "data": {
            "image/png": "[encoded data removed]",
            "text/plain": [
              "<matplotlib.figure.Figure at 0x7f0808f27da0>"
            ]
          },
          "metadata": {
            "tags": []
          }
        }
      ]
    },
    {
      "metadata": {
        "id": "LK23VO2zjflG",
        "colab_type": "code",
        "outputId": "3d62756a-d6bc-498d-abb6-c35a297d0bd4",
        "colab": {
          "base_uri": "https://localhost:8080/",
          "height": 15092
        }
      },
      "cell_type": "code",
      "source": [
        "# 保存した重みのダウンロード\n",
        "from google.colab import files\n",
        "!zip -r h5.zip *.h5\n",
        "!zip -r png.zip *.png\n",
        "!zip -r txt.zip *.txt\n",
        "files.download('h5.zip')\n",
        "files.download('png.zip')\n",
        "files.download('txt.zip')"
      ],
      "execution_count": 10,
      "outputs": [
        {
          "output_type": "stream",
          "text": [
            "  adding: i_divergence1_relu_Adam_0.0005_0.7_0.7_0.0_False_autoencoder.h5 (deflated 13%)\n",
            "  adding: i_divergence1_relu_Adam_0.0005_0.7_0.7_0.0_True_autoencoder.h5 (deflated 14%)\n",
            "  adding: i_divergence1_relu_Adam_0.0005_0.7_0.7999999999999999_0.0_False_autoencoder.h5 (deflated 13%)\n",
            "  adding: i_divergence1_relu_Adam_0.0005_0.7_0.7999999999999999_0.0_True_autoencoder.h5 (deflated 14%)\n",
            "  adding: i_divergence1_relu_Adam_0.0005_0.7_0.8999999999999999_0.0_False_autoencoder.h5 (deflated 13%)\n",
            "  adding: i_divergence1_relu_Adam_0.0005_0.7_0.8999999999999999_0.0_True_autoencoder.h5 (deflated 13%)\n",
            "  adding: i_divergence1_relu_Adam_0.0005_0.7999999999999999_0.7_0.0_False_autoencoder.h5 (deflated 14%)\n",
            "  adding: i_divergence1_relu_Adam_0.0005_0.7999999999999999_0.7_0.0_True_autoencoder.h5 (deflated 14%)\n",
            "  adding: i_divergence1_relu_Adam_0.0005_0.7999999999999999_0.7999999999999999_0.0_False_autoencoder.h5 (deflated 13%)\n",
            "  adding: i_divergence1_relu_Adam_0.0005_0.7999999999999999_0.7999999999999999_0.0_True_autoencoder.h5 (deflated 14%)\n",
            "  adding: i_divergence1_relu_Adam_0.0005_0.7999999999999999_0.8999999999999999_0.0_False_autoencoder.h5 (deflated 13%)\n",
            "  adding: i_divergence1_relu_Adam_0.0005_0.7999999999999999_0.8999999999999999_0.0_True_autoencoder.h5 (deflated 14%)\n",
            "  adding: i_divergence1_relu_Adam_0.0005_0.8999999999999999_0.7_0.0_False_autoencoder.h5 (deflated 14%)\n",
            "  adding: i_divergence1_relu_Adam_0.0005_0.8999999999999999_0.7_0.0_True_autoencoder.h5 (deflated 14%)\n",
            "  adding: i_divergence1_relu_Adam_0.0005_0.8999999999999999_0.7999999999999999_0.0_False_autoencoder.h5 (deflated 14%)\n",
            "  adding: i_divergence1_relu_Adam_0.0005_0.8999999999999999_0.7999999999999999_0.0_True_autoencoder.h5 (deflated 14%)\n",
            "  adding: i_divergence1_relu_Adam_0.0005_0.8999999999999999_0.8999999999999999_0.0_False_autoencoder.h5 (deflated 13%)\n",
            "  adding: i_divergence1_relu_Adam_0.0005_0.8999999999999999_0.8999999999999999_0.0_True_autoencoder.h5 (deflated 14%)\n",
            "  adding: i_divergence1_relu_Adam_0.001_0.7_0.7_0.0_False_autoencoder.h5 (deflated 13%)\n",
            "  adding: i_divergence1_relu_Adam_0.001_0.7_0.7_0.0_True_autoencoder.h5 (deflated 13%)\n",
            "  adding: i_divergence1_relu_Adam_0.001_0.7_0.7999999999999999_0.0_False_autoencoder.h5 (deflated 13%)\n",
            "  adding: i_divergence1_relu_Adam_0.001_0.7_0.7999999999999999_0.0_True_autoencoder.h5 (deflated 13%)\n",
            "  adding: i_divergence1_relu_Adam_0.001_0.7_0.8999999999999999_0.0_False_autoencoder.h5 (deflated 13%)\n",
            "  adding: i_divergence1_relu_Adam_0.001_0.7_0.8999999999999999_0.0_True_autoencoder.h5 (deflated 13%)\n",
            "  adding: i_divergence1_relu_Adam_0.001_0.7999999999999999_0.7_0.0_False_autoencoder.h5 (deflated 14%)\n",
            "  adding: i_divergence1_relu_Adam_0.001_0.7999999999999999_0.7_0.0_True_autoencoder.h5 (deflated 14%)\n",
            "  adding: i_divergence1_relu_Adam_0.001_0.7999999999999999_0.7999999999999999_0.0_False_autoencoder.h5 (deflated 13%)\n",
            "  adding: i_divergence1_relu_Adam_0.001_0.7999999999999999_0.7999999999999999_0.0_True_autoencoder.h5 (deflated 14%)\n",
            "  adding: i_divergence1_relu_Adam_0.001_0.7999999999999999_0.8999999999999999_0.0_False_autoencoder.h5 (deflated 13%)\n",
            "  adding: i_divergence1_relu_Adam_0.001_0.7999999999999999_0.8999999999999999_0.0_True_autoencoder.h5 (deflated 13%)\n",
            "  adding: i_divergence1_relu_Adam_0.001_0.8999999999999999_0.7_0.0_False_autoencoder.h5 (deflated 15%)\n",
            "  adding: i_divergence1_relu_Adam_0.001_0.8999999999999999_0.7_0.0_True_autoencoder.h5 (deflated 14%)\n",
            "  adding: i_divergence1_relu_Adam_0.001_0.8999999999999999_0.7999999999999999_0.0_False_autoencoder.h5 (deflated 14%)\n",
            "  adding: i_divergence1_relu_Adam_0.001_0.8999999999999999_0.7999999999999999_0.0_True_autoencoder.h5 (deflated 14%)\n",
            "  adding: i_divergence1_relu_Adam_0.001_0.8999999999999999_0.8999999999999999_0.0_False_autoencoder.h5 (deflated 14%)\n",
            "  adding: i_divergence1_relu_Adam_0.001_0.8999999999999999_0.8999999999999999_0.0_True_autoencoder.h5 (deflated 14%)\n",
            "  adding: i_divergence1_relu_Adam_0.0005_0.7_0.7_0.0_False_35_decoded_numbers.png (deflated 31%)\n",
            "  adding: i_divergence1_relu_Adam_0.0005_0.7_0.7_0.0_False_35_x_test_numbers.png (deflated 30%)\n",
            "  adding: i_divergence1_relu_Adam_0.0005_0.7_0.7_0.0_False_3_decoded_numbers.png (deflated 31%)\n",
            "  adding: i_divergence1_relu_Adam_0.0005_0.7_0.7_0.0_False_3_x_test_numbers.png (deflated 31%)\n",
            "  adding: i_divergence1_relu_Adam_0.0005_0.7_0.7_0.0_False_44_decoded_numbers.png (deflated 34%)\n",
            "  adding: i_divergence1_relu_Adam_0.0005_0.7_0.7_0.0_False_44_x_test_numbers.png (deflated 32%)\n",
            "  adding: i_divergence1_relu_Adam_0.0005_0.7_0.7_0.0_False_48_decoded_numbers.png (deflated 31%)\n",
            "  adding: i_divergence1_relu_Adam_0.0005_0.7_0.7_0.0_False_48_x_test_numbers.png (deflated 31%)\n",
            "  adding: i_divergence1_relu_Adam_0.0005_0.7_0.7_0.0_False_52_decoded_numbers.png (deflated 31%)\n",
            "  adding: i_divergence1_relu_Adam_0.0005_0.7_0.7_0.0_False_52_x_test_numbers.png (deflated 31%)\n",
            "  adding: i_divergence1_relu_Adam_0.0005_0.7_0.7_0.0_False_54_decoded_numbers.png (deflated 32%)\n",
            "  adding: i_divergence1_relu_Adam_0.0005_0.7_0.7_0.0_False_54_x_test_numbers.png (deflated 31%)\n",
            "  adding: i_divergence1_relu_Adam_0.0005_0.7_0.7_0.0_False_5_decoded_numbers.png (deflated 34%)\n",
            "  adding: i_divergence1_relu_Adam_0.0005_0.7_0.7_0.0_False_5_x_test_numbers.png (deflated 34%)\n",
            "  adding: i_divergence1_relu_Adam_0.0005_0.7_0.7_0.0_False_60_decoded_numbers.png (deflated 32%)\n",
            "  adding: i_divergence1_relu_Adam_0.0005_0.7_0.7_0.0_False_60_x_test_numbers.png (deflated 34%)\n",
            "  adding: i_divergence1_relu_Adam_0.0005_0.7_0.7_0.0_False_61_decoded_numbers.png (deflated 31%)\n",
            "  adding: i_divergence1_relu_Adam_0.0005_0.7_0.7_0.0_False_61_x_test_numbers.png (deflated 31%)\n",
            "  adding: i_divergence1_relu_Adam_0.0005_0.7_0.7_0.0_False_62_decoded_numbers.png (deflated 33%)\n",
            "  adding: i_divergence1_relu_Adam_0.0005_0.7_0.7_0.0_False_62_x_test_numbers.png (deflated 31%)\n",
            "  adding: i_divergence1_relu_Adam_0.0005_0.7_0.7_0.0_True_35_decoded_numbers.png (deflated 35%)\n",
            "  adding: i_divergence1_relu_Adam_0.0005_0.7_0.7_0.0_True_35_x_test_numbers.png (deflated 30%)\n",
            "  adding: i_divergence1_relu_Adam_0.0005_0.7_0.7_0.0_True_3_decoded_numbers.png (deflated 34%)\n",
            "  adding: i_divergence1_relu_Adam_0.0005_0.7_0.7_0.0_True_3_x_test_numbers.png (deflated 31%)\n",
            "  adding: i_divergence1_relu_Adam_0.0005_0.7_0.7_0.0_True_44_decoded_numbers.png (deflated 34%)\n",
            "  adding: i_divergence1_relu_Adam_0.0005_0.7_0.7_0.0_True_44_x_test_numbers.png (deflated 32%)\n",
            "  adding: i_divergence1_relu_Adam_0.0005_0.7_0.7_0.0_True_48_decoded_numbers.png (deflated 34%)\n",
            "  adding: i_divergence1_relu_Adam_0.0005_0.7_0.7_0.0_True_48_x_test_numbers.png (deflated 31%)\n",
            "  adding: i_divergence1_relu_Adam_0.0005_0.7_0.7_0.0_True_52_decoded_numbers.png (deflated 33%)\n",
            "  adding: i_divergence1_relu_Adam_0.0005_0.7_0.7_0.0_True_52_x_test_numbers.png (deflated 31%)\n",
            "  adding: i_divergence1_relu_Adam_0.0005_0.7_0.7_0.0_True_54_decoded_numbers.png (deflated 34%)\n",
            "  adding: i_divergence1_relu_Adam_0.0005_0.7_0.7_0.0_True_54_x_test_numbers.png (deflated 31%)\n",
            "  adding: i_divergence1_relu_Adam_0.0005_0.7_0.7_0.0_True_5_decoded_numbers.png (deflated 33%)\n",
            "  adding: i_divergence1_relu_Adam_0.0005_0.7_0.7_0.0_True_5_x_test_numbers.png (deflated 34%)\n",
            "  adding: i_divergence1_relu_Adam_0.0005_0.7_0.7_0.0_True_60_decoded_numbers.png (deflated 36%)\n",
            "  adding: i_divergence1_relu_Adam_0.0005_0.7_0.7_0.0_True_60_x_test_numbers.png (deflated 34%)\n",
            "  adding: i_divergence1_relu_Adam_0.0005_0.7_0.7_0.0_True_61_decoded_numbers.png (deflated 34%)\n",
            "  adding: i_divergence1_relu_Adam_0.0005_0.7_0.7_0.0_True_61_x_test_numbers.png (deflated 31%)\n",
            "  adding: i_divergence1_relu_Adam_0.0005_0.7_0.7_0.0_True_62_decoded_numbers.png (deflated 37%)\n",
            "  adding: i_divergence1_relu_Adam_0.0005_0.7_0.7_0.0_True_62_x_test_numbers.png (deflated 31%)\n",
            "  adding: i_divergence1_relu_Adam_0.0005_0.7_0.7999999999999999_0.0_False_35_decoded_numbers.png (deflated 32%)\n",
            "  adding: i_divergence1_relu_Adam_0.0005_0.7_0.7999999999999999_0.0_False_35_x_test_numbers.png (deflated 30%)\n",
            "  adding: i_divergence1_relu_Adam_0.0005_0.7_0.7999999999999999_0.0_False_3_decoded_numbers.png (deflated 31%)\n",
            "  adding: i_divergence1_relu_Adam_0.0005_0.7_0.7999999999999999_0.0_False_3_x_test_numbers.png (deflated 31%)\n",
            "  adding: i_divergence1_relu_Adam_0.0005_0.7_0.7999999999999999_0.0_False_44_decoded_numbers.png (deflated 33%)\n",
            "  adding: i_divergence1_relu_Adam_0.0005_0.7_0.7999999999999999_0.0_False_44_x_test_numbers.png (deflated 32%)\n",
            "  adding: i_divergence1_relu_Adam_0.0005_0.7_0.7999999999999999_0.0_False_48_decoded_numbers.png (deflated 30%)\n",
            "  adding: i_divergence1_relu_Adam_0.0005_0.7_0.7999999999999999_0.0_False_48_x_test_numbers.png (deflated 31%)\n",
            "  adding: i_divergence1_relu_Adam_0.0005_0.7_0.7999999999999999_0.0_False_52_decoded_numbers.png (deflated 33%)\n",
            "  adding: i_divergence1_relu_Adam_0.0005_0.7_0.7999999999999999_0.0_False_52_x_test_numbers.png (deflated 31%)\n",
            "  adding: i_divergence1_relu_Adam_0.0005_0.7_0.7999999999999999_0.0_False_54_decoded_numbers.png (deflated 32%)\n",
            "  adding: i_divergence1_relu_Adam_0.0005_0.7_0.7999999999999999_0.0_False_54_x_test_numbers.png (deflated 31%)\n",
            "  adding: i_divergence1_relu_Adam_0.0005_0.7_0.7999999999999999_0.0_False_5_decoded_numbers.png (deflated 33%)\n",
            "  adding: i_divergence1_relu_Adam_0.0005_0.7_0.7999999999999999_0.0_False_5_x_test_numbers.png (deflated 34%)\n",
            "  adding: i_divergence1_relu_Adam_0.0005_0.7_0.7999999999999999_0.0_False_60_decoded_numbers.png (deflated 32%)\n",
            "  adding: i_divergence1_relu_Adam_0.0005_0.7_0.7999999999999999_0.0_False_60_x_test_numbers.png (deflated 34%)\n",
            "  adding: i_divergence1_relu_Adam_0.0005_0.7_0.7999999999999999_0.0_False_61_decoded_numbers.png (deflated 30%)\n",
            "  adding: i_divergence1_relu_Adam_0.0005_0.7_0.7999999999999999_0.0_False_61_x_test_numbers.png (deflated 31%)\n",
            "  adding: i_divergence1_relu_Adam_0.0005_0.7_0.7999999999999999_0.0_False_62_decoded_numbers.png (deflated 34%)\n",
            "  adding: i_divergence1_relu_Adam_0.0005_0.7_0.7999999999999999_0.0_False_62_x_test_numbers.png (deflated 31%)\n",
            "  adding: i_divergence1_relu_Adam_0.0005_0.7_0.7999999999999999_0.0_True_35_decoded_numbers.png (deflated 36%)\n",
            "  adding: i_divergence1_relu_Adam_0.0005_0.7_0.7999999999999999_0.0_True_35_x_test_numbers.png (deflated 30%)\n",
            "  adding: i_divergence1_relu_Adam_0.0005_0.7_0.7999999999999999_0.0_True_3_decoded_numbers.png (deflated 33%)\n",
            "  adding: i_divergence1_relu_Adam_0.0005_0.7_0.7999999999999999_0.0_True_3_x_test_numbers.png (deflated 31%)\n",
            "  adding: i_divergence1_relu_Adam_0.0005_0.7_0.7999999999999999_0.0_True_44_decoded_numbers.png (deflated 34%)\n",
            "  adding: i_divergence1_relu_Adam_0.0005_0.7_0.7999999999999999_0.0_True_44_x_test_numbers.png (deflated 32%)\n",
            "  adding: i_divergence1_relu_Adam_0.0005_0.7_0.7999999999999999_0.0_True_48_decoded_numbers.png (deflated 34%)\n",
            "  adding: i_divergence1_relu_Adam_0.0005_0.7_0.7999999999999999_0.0_True_48_x_test_numbers.png (deflated 31%)\n",
            "  adding: i_divergence1_relu_Adam_0.0005_0.7_0.7999999999999999_0.0_True_52_decoded_numbers.png (deflated 34%)\n",
            "  adding: i_divergence1_relu_Adam_0.0005_0.7_0.7999999999999999_0.0_True_52_x_test_numbers.png (deflated 31%)\n",
            "  adding: i_divergence1_relu_Adam_0.0005_0.7_0.7999999999999999_0.0_True_54_decoded_numbers.png (deflated 35%)\n",
            "  adding: i_divergence1_relu_Adam_0.0005_0.7_0.7999999999999999_0.0_True_54_x_test_numbers.png (deflated 31%)\n",
            "  adding: i_divergence1_relu_Adam_0.0005_0.7_0.7999999999999999_0.0_True_5_decoded_numbers.png (deflated 33%)\n",
            "  adding: i_divergence1_relu_Adam_0.0005_0.7_0.7999999999999999_0.0_True_5_x_test_numbers.png (deflated 34%)\n",
            "  adding: i_divergence1_relu_Adam_0.0005_0.7_0.7999999999999999_0.0_True_60_decoded_numbers.png (deflated 34%)\n",
            "  adding: i_divergence1_relu_Adam_0.0005_0.7_0.7999999999999999_0.0_True_60_x_test_numbers.png (deflated 34%)\n",
            "  adding: i_divergence1_relu_Adam_0.0005_0.7_0.7999999999999999_0.0_True_61_decoded_numbers.png (deflated 32%)\n",
            "  adding: i_divergence1_relu_Adam_0.0005_0.7_0.7999999999999999_0.0_True_61_x_test_numbers.png (deflated 31%)\n",
            "  adding: i_divergence1_relu_Adam_0.0005_0.7_0.7999999999999999_0.0_True_62_decoded_numbers.png (deflated 34%)\n",
            "  adding: i_divergence1_relu_Adam_0.0005_0.7_0.7999999999999999_0.0_True_62_x_test_numbers.png (deflated 31%)\n",
            "  adding: i_divergence1_relu_Adam_0.0005_0.7_0.8999999999999999_0.0_False_35_decoded_numbers.png (deflated 32%)\n",
            "  adding: i_divergence1_relu_Adam_0.0005_0.7_0.8999999999999999_0.0_False_35_x_test_numbers.png (deflated 30%)\n",
            "  adding: i_divergence1_relu_Adam_0.0005_0.7_0.8999999999999999_0.0_False_3_decoded_numbers.png (deflated 29%)\n",
            "  adding: i_divergence1_relu_Adam_0.0005_0.7_0.8999999999999999_0.0_False_3_x_test_numbers.png (deflated 31%)\n",
            "  adding: i_divergence1_relu_Adam_0.0005_0.7_0.8999999999999999_0.0_False_44_decoded_numbers.png (deflated 32%)\n",
            "  adding: i_divergence1_relu_Adam_0.0005_0.7_0.8999999999999999_0.0_False_44_x_test_numbers.png (deflated 32%)\n",
            "  adding: i_divergence1_relu_Adam_0.0005_0.7_0.8999999999999999_0.0_False_48_decoded_numbers.png (deflated 32%)\n",
            "  adding: i_divergence1_relu_Adam_0.0005_0.7_0.8999999999999999_0.0_False_48_x_test_numbers.png (deflated 31%)\n",
            "  adding: i_divergence1_relu_Adam_0.0005_0.7_0.8999999999999999_0.0_False_52_decoded_numbers.png (deflated 32%)\n",
            "  adding: i_divergence1_relu_Adam_0.0005_0.7_0.8999999999999999_0.0_False_52_x_test_numbers.png (deflated 31%)\n",
            "  adding: i_divergence1_relu_Adam_0.0005_0.7_0.8999999999999999_0.0_False_54_decoded_numbers.png (deflated 32%)\n",
            "  adding: i_divergence1_relu_Adam_0.0005_0.7_0.8999999999999999_0.0_False_54_x_test_numbers.png (deflated 31%)\n",
            "  adding: i_divergence1_relu_Adam_0.0005_0.7_0.8999999999999999_0.0_False_5_decoded_numbers.png (deflated 33%)\n",
            "  adding: i_divergence1_relu_Adam_0.0005_0.7_0.8999999999999999_0.0_False_5_x_test_numbers.png (deflated 34%)\n",
            "  adding: i_divergence1_relu_Adam_0.0005_0.7_0.8999999999999999_0.0_False_60_decoded_numbers.png (deflated 33%)\n",
            "  adding: i_divergence1_relu_Adam_0.0005_0.7_0.8999999999999999_0.0_False_60_x_test_numbers.png (deflated 34%)\n",
            "  adding: i_divergence1_relu_Adam_0.0005_0.7_0.8999999999999999_0.0_False_61_decoded_numbers.png (deflated 30%)\n",
            "  adding: i_divergence1_relu_Adam_0.0005_0.7_0.8999999999999999_0.0_False_61_x_test_numbers.png (deflated 31%)\n",
            "  adding: i_divergence1_relu_Adam_0.0005_0.7_0.8999999999999999_0.0_False_62_decoded_numbers.png (deflated 32%)\n",
            "  adding: i_divergence1_relu_Adam_0.0005_0.7_0.8999999999999999_0.0_False_62_x_test_numbers.png (deflated 31%)\n",
            "  adding: i_divergence1_relu_Adam_0.0005_0.7_0.8999999999999999_0.0_True_35_decoded_numbers.png (deflated 33%)\n",
            "  adding: i_divergence1_relu_Adam_0.0005_0.7_0.8999999999999999_0.0_True_35_x_test_numbers.png (deflated 30%)\n",
            "  adding: i_divergence1_relu_Adam_0.0005_0.7_0.8999999999999999_0.0_True_3_decoded_numbers.png (deflated 31%)\n",
            "  adding: i_divergence1_relu_Adam_0.0005_0.7_0.8999999999999999_0.0_True_3_x_test_numbers.png (deflated 31%)\n",
            "  adding: i_divergence1_relu_Adam_0.0005_0.7_0.8999999999999999_0.0_True_44_decoded_numbers.png (deflated 33%)\n",
            "  adding: i_divergence1_relu_Adam_0.0005_0.7_0.8999999999999999_0.0_True_44_x_test_numbers.png (deflated 32%)\n",
            "  adding: i_divergence1_relu_Adam_0.0005_0.7_0.8999999999999999_0.0_True_48_decoded_numbers.png (deflated 33%)\n",
            "  adding: i_divergence1_relu_Adam_0.0005_0.7_0.8999999999999999_0.0_True_48_x_test_numbers.png (deflated 31%)\n",
            "  adding: i_divergence1_relu_Adam_0.0005_0.7_0.8999999999999999_0.0_True_52_decoded_numbers.png (deflated 33%)\n",
            "  adding: i_divergence1_relu_Adam_0.0005_0.7_0.8999999999999999_0.0_True_52_x_test_numbers.png (deflated 31%)\n",
            "  adding: i_divergence1_relu_Adam_0.0005_0.7_0.8999999999999999_0.0_True_54_decoded_numbers.png (deflated 33%)\n",
            "  adding: i_divergence1_relu_Adam_0.0005_0.7_0.8999999999999999_0.0_True_54_x_test_numbers.png (deflated 31%)\n",
            "  adding: i_divergence1_relu_Adam_0.0005_0.7_0.8999999999999999_0.0_True_5_decoded_numbers.png (deflated 34%)\n",
            "  adding: i_divergence1_relu_Adam_0.0005_0.7_0.8999999999999999_0.0_True_5_x_test_numbers.png (deflated 34%)\n",
            "  adding: i_divergence1_relu_Adam_0.0005_0.7_0.8999999999999999_0.0_True_60_decoded_numbers.png (deflated 33%)\n",
            "  adding: i_divergence1_relu_Adam_0.0005_0.7_0.8999999999999999_0.0_True_60_x_test_numbers.png (deflated 34%)\n",
            "  adding: i_divergence1_relu_Adam_0.0005_0.7_0.8999999999999999_0.0_True_61_decoded_numbers.png (deflated 33%)\n",
            "  adding: i_divergence1_relu_Adam_0.0005_0.7_0.8999999999999999_0.0_True_61_x_test_numbers.png (deflated 31%)\n",
            "  adding: i_divergence1_relu_Adam_0.0005_0.7_0.8999999999999999_0.0_True_62_decoded_numbers.png (deflated 32%)\n",
            "  adding: i_divergence1_relu_Adam_0.0005_0.7_0.8999999999999999_0.0_True_62_x_test_numbers.png (deflated 31%)\n",
            "  adding: i_divergence1_relu_Adam_0.0005_0.7999999999999999_0.7_0.0_False_35_decoded_numbers.png (deflated 35%)\n",
            "  adding: i_divergence1_relu_Adam_0.0005_0.7999999999999999_0.7_0.0_False_35_x_test_numbers.png (deflated 30%)\n",
            "  adding: i_divergence1_relu_Adam_0.0005_0.7999999999999999_0.7_0.0_False_3_decoded_numbers.png (deflated 31%)\n",
            "  adding: i_divergence1_relu_Adam_0.0005_0.7999999999999999_0.7_0.0_False_3_x_test_numbers.png (deflated 31%)\n",
            "  adding: i_divergence1_relu_Adam_0.0005_0.7999999999999999_0.7_0.0_False_44_decoded_numbers.png (deflated 33%)\n",
            "  adding: i_divergence1_relu_Adam_0.0005_0.7999999999999999_0.7_0.0_False_44_x_test_numbers.png (deflated 32%)\n",
            "  adding: i_divergence1_relu_Adam_0.0005_0.7999999999999999_0.7_0.0_False_48_decoded_numbers.png (deflated 33%)\n",
            "  adding: i_divergence1_relu_Adam_0.0005_0.7999999999999999_0.7_0.0_False_48_x_test_numbers.png (deflated 31%)\n",
            "  adding: i_divergence1_relu_Adam_0.0005_0.7999999999999999_0.7_0.0_False_52_decoded_numbers.png (deflated 35%)\n",
            "  adding: i_divergence1_relu_Adam_0.0005_0.7999999999999999_0.7_0.0_False_52_x_test_numbers.png (deflated 31%)\n",
            "  adding: i_divergence1_relu_Adam_0.0005_0.7999999999999999_0.7_0.0_False_54_decoded_numbers.png (deflated 35%)\n",
            "  adding: i_divergence1_relu_Adam_0.0005_0.7999999999999999_0.7_0.0_False_54_x_test_numbers.png (deflated 31%)\n",
            "  adding: i_divergence1_relu_Adam_0.0005_0.7999999999999999_0.7_0.0_False_5_decoded_numbers.png (deflated 35%)\n",
            "  adding: i_divergence1_relu_Adam_0.0005_0.7999999999999999_0.7_0.0_False_5_x_test_numbers.png (deflated 34%)\n",
            "  adding: i_divergence1_relu_Adam_0.0005_0.7999999999999999_0.7_0.0_False_60_decoded_numbers.png (deflated 35%)\n",
            "  adding: i_divergence1_relu_Adam_0.0005_0.7999999999999999_0.7_0.0_False_60_x_test_numbers.png (deflated 34%)\n",
            "  adding: i_divergence1_relu_Adam_0.0005_0.7999999999999999_0.7_0.0_False_61_decoded_numbers.png (deflated 35%)\n",
            "  adding: i_divergence1_relu_Adam_0.0005_0.7999999999999999_0.7_0.0_False_61_x_test_numbers.png (deflated 31%)\n",
            "  adding: i_divergence1_relu_Adam_0.0005_0.7999999999999999_0.7_0.0_False_62_decoded_numbers.png (deflated 36%)\n",
            "  adding: i_divergence1_relu_Adam_0.0005_0.7999999999999999_0.7_0.0_False_62_x_test_numbers.png (deflated 31%)\n",
            "  adding: i_divergence1_relu_Adam_0.0005_0.7999999999999999_0.7_0.0_True_35_decoded_numbers.png (deflated 34%)\n",
            "  adding: i_divergence1_relu_Adam_0.0005_0.7999999999999999_0.7_0.0_True_35_x_test_numbers.png (deflated 30%)\n",
            "  adding: i_divergence1_relu_Adam_0.0005_0.7999999999999999_0.7_0.0_True_3_decoded_numbers.png (deflated 33%)\n",
            "  adding: i_divergence1_relu_Adam_0.0005_0.7999999999999999_0.7_0.0_True_3_x_test_numbers.png (deflated 31%)\n",
            "  adding: i_divergence1_relu_Adam_0.0005_0.7999999999999999_0.7_0.0_True_44_decoded_numbers.png (deflated 35%)\n",
            "  adding: i_divergence1_relu_Adam_0.0005_0.7999999999999999_0.7_0.0_True_44_x_test_numbers.png (deflated 32%)\n",
            "  adding: i_divergence1_relu_Adam_0.0005_0.7999999999999999_0.7_0.0_True_48_decoded_numbers.png (deflated 32%)\n",
            "  adding: i_divergence1_relu_Adam_0.0005_0.7999999999999999_0.7_0.0_True_48_x_test_numbers.png (deflated 31%)\n",
            "  adding: i_divergence1_relu_Adam_0.0005_0.7999999999999999_0.7_0.0_True_52_decoded_numbers.png (deflated 34%)\n",
            "  adding: i_divergence1_relu_Adam_0.0005_0.7999999999999999_0.7_0.0_True_52_x_test_numbers.png (deflated 31%)\n",
            "  adding: i_divergence1_relu_Adam_0.0005_0.7999999999999999_0.7_0.0_True_54_decoded_numbers.png (deflated 36%)\n",
            "  adding: i_divergence1_relu_Adam_0.0005_0.7999999999999999_0.7_0.0_True_54_x_test_numbers.png (deflated 31%)\n",
            "  adding: i_divergence1_relu_Adam_0.0005_0.7999999999999999_0.7_0.0_True_5_decoded_numbers.png (deflated 34%)\n",
            "  adding: i_divergence1_relu_Adam_0.0005_0.7999999999999999_0.7_0.0_True_5_x_test_numbers.png (deflated 34%)\n",
            "  adding: i_divergence1_relu_Adam_0.0005_0.7999999999999999_0.7_0.0_True_60_decoded_numbers.png (deflated 36%)\n",
            "  adding: i_divergence1_relu_Adam_0.0005_0.7999999999999999_0.7_0.0_True_60_x_test_numbers.png (deflated 34%)\n",
            "  adding: i_divergence1_relu_Adam_0.0005_0.7999999999999999_0.7_0.0_True_61_decoded_numbers.png (deflated 36%)\n",
            "  adding: i_divergence1_relu_Adam_0.0005_0.7999999999999999_0.7_0.0_True_61_x_test_numbers.png (deflated 31%)\n",
            "  adding: i_divergence1_relu_Adam_0.0005_0.7999999999999999_0.7_0.0_True_62_decoded_numbers.png (deflated 34%)\n",
            "  adding: i_divergence1_relu_Adam_0.0005_0.7999999999999999_0.7_0.0_True_62_x_test_numbers.png (deflated 31%)\n",
            "  adding: i_divergence1_relu_Adam_0.0005_0.7999999999999999_0.7999999999999999_0.0_False_35_decoded_numbers.png (deflated 31%)\n",
            "  adding: i_divergence1_relu_Adam_0.0005_0.7999999999999999_0.7999999999999999_0.0_False_35_x_test_numbers.png (deflated 30%)\n",
            "  adding: i_divergence1_relu_Adam_0.0005_0.7999999999999999_0.7999999999999999_0.0_False_3_decoded_numbers.png (deflated 31%)\n",
            "  adding: i_divergence1_relu_Adam_0.0005_0.7999999999999999_0.7999999999999999_0.0_False_3_x_test_numbers.png (deflated 31%)\n",
            "  adding: i_divergence1_relu_Adam_0.0005_0.7999999999999999_0.7999999999999999_0.0_False_44_decoded_numbers.png (deflated 33%)\n",
            "  adding: i_divergence1_relu_Adam_0.0005_0.7999999999999999_0.7999999999999999_0.0_False_44_x_test_numbers.png (deflated 32%)\n",
            "  adding: i_divergence1_relu_Adam_0.0005_0.7999999999999999_0.7999999999999999_0.0_False_48_decoded_numbers.png (deflated 31%)\n",
            "  adding: i_divergence1_relu_Adam_0.0005_0.7999999999999999_0.7999999999999999_0.0_False_48_x_test_numbers.png (deflated 31%)\n",
            "  adding: i_divergence1_relu_Adam_0.0005_0.7999999999999999_0.7999999999999999_0.0_False_52_decoded_numbers.png (deflated 32%)\n",
            "  adding: i_divergence1_relu_Adam_0.0005_0.7999999999999999_0.7999999999999999_0.0_False_52_x_test_numbers.png (deflated 31%)\n",
            "  adding: i_divergence1_relu_Adam_0.0005_0.7999999999999999_0.7999999999999999_0.0_False_54_decoded_numbers.png (deflated 33%)\n",
            "  adding: i_divergence1_relu_Adam_0.0005_0.7999999999999999_0.7999999999999999_0.0_False_54_x_test_numbers.png (deflated 31%)\n",
            "  adding: i_divergence1_relu_Adam_0.0005_0.7999999999999999_0.7999999999999999_0.0_False_5_decoded_numbers.png (deflated 34%)\n",
            "  adding: i_divergence1_relu_Adam_0.0005_0.7999999999999999_0.7999999999999999_0.0_False_5_x_test_numbers.png (deflated 34%)\n",
            "  adding: i_divergence1_relu_Adam_0.0005_0.7999999999999999_0.7999999999999999_0.0_False_60_decoded_numbers.png (deflated 32%)\n",
            "  adding: i_divergence1_relu_Adam_0.0005_0.7999999999999999_0.7999999999999999_0.0_False_60_x_test_numbers.png (deflated 34%)\n",
            "  adding: i_divergence1_relu_Adam_0.0005_0.7999999999999999_0.7999999999999999_0.0_False_61_decoded_numbers.png (deflated 32%)\n",
            "  adding: i_divergence1_relu_Adam_0.0005_0.7999999999999999_0.7999999999999999_0.0_False_61_x_test_numbers.png (deflated 31%)\n",
            "  adding: i_divergence1_relu_Adam_0.0005_0.7999999999999999_0.7999999999999999_0.0_False_62_decoded_numbers.png (deflated 33%)\n",
            "  adding: i_divergence1_relu_Adam_0.0005_0.7999999999999999_0.7999999999999999_0.0_False_62_x_test_numbers.png (deflated 31%)\n",
            "  adding: i_divergence1_relu_Adam_0.0005_0.7999999999999999_0.7999999999999999_0.0_True_35_decoded_numbers.png (deflated 35%)\n",
            "  adding: i_divergence1_relu_Adam_0.0005_0.7999999999999999_0.7999999999999999_0.0_True_35_x_test_numbers.png (deflated 30%)\n",
            "  adding: i_divergence1_relu_Adam_0.0005_0.7999999999999999_0.7999999999999999_0.0_True_3_decoded_numbers.png (deflated 33%)\n",
            "  adding: i_divergence1_relu_Adam_0.0005_0.7999999999999999_0.7999999999999999_0.0_True_3_x_test_numbers.png (deflated 31%)\n",
            "  adding: i_divergence1_relu_Adam_0.0005_0.7999999999999999_0.7999999999999999_0.0_True_44_decoded_numbers.png (deflated 33%)\n",
            "  adding: i_divergence1_relu_Adam_0.0005_0.7999999999999999_0.7999999999999999_0.0_True_44_x_test_numbers.png (deflated 32%)\n",
            "  adding: i_divergence1_relu_Adam_0.0005_0.7999999999999999_0.7999999999999999_0.0_True_48_decoded_numbers.png (deflated 34%)\n",
            "  adding: i_divergence1_relu_Adam_0.0005_0.7999999999999999_0.7999999999999999_0.0_True_48_x_test_numbers.png (deflated 31%)\n",
            "  adding: i_divergence1_relu_Adam_0.0005_0.7999999999999999_0.7999999999999999_0.0_True_52_decoded_numbers.png (deflated 35%)\n",
            "  adding: i_divergence1_relu_Adam_0.0005_0.7999999999999999_0.7999999999999999_0.0_True_52_x_test_numbers.png (deflated 31%)\n",
            "  adding: i_divergence1_relu_Adam_0.0005_0.7999999999999999_0.7999999999999999_0.0_True_54_decoded_numbers.png (deflated 36%)\n",
            "  adding: i_divergence1_relu_Adam_0.0005_0.7999999999999999_0.7999999999999999_0.0_True_54_x_test_numbers.png (deflated 31%)\n",
            "  adding: i_divergence1_relu_Adam_0.0005_0.7999999999999999_0.7999999999999999_0.0_True_5_decoded_numbers.png (deflated 32%)\n",
            "  adding: i_divergence1_relu_Adam_0.0005_0.7999999999999999_0.7999999999999999_0.0_True_5_x_test_numbers.png (deflated 34%)\n",
            "  adding: i_divergence1_relu_Adam_0.0005_0.7999999999999999_0.7999999999999999_0.0_True_60_decoded_numbers.png (deflated 34%)\n",
            "  adding: i_divergence1_relu_Adam_0.0005_0.7999999999999999_0.7999999999999999_0.0_True_60_x_test_numbers.png (deflated 34%)\n",
            "  adding: i_divergence1_relu_Adam_0.0005_0.7999999999999999_0.7999999999999999_0.0_True_61_decoded_numbers.png (deflated 33%)\n",
            "  adding: i_divergence1_relu_Adam_0.0005_0.7999999999999999_0.7999999999999999_0.0_True_61_x_test_numbers.png (deflated 31%)\n",
            "  adding: i_divergence1_relu_Adam_0.0005_0.7999999999999999_0.7999999999999999_0.0_True_62_decoded_numbers.png (deflated 34%)\n",
            "  adding: i_divergence1_relu_Adam_0.0005_0.7999999999999999_0.7999999999999999_0.0_True_62_x_test_numbers.png (deflated 31%)\n",
            "  adding: i_divergence1_relu_Adam_0.0005_0.7999999999999999_0.8999999999999999_0.0_False_35_decoded_numbers.png (deflated 32%)\n",
            "  adding: i_divergence1_relu_Adam_0.0005_0.7999999999999999_0.8999999999999999_0.0_False_35_x_test_numbers.png (deflated 30%)\n",
            "  adding: i_divergence1_relu_Adam_0.0005_0.7999999999999999_0.8999999999999999_0.0_False_3_decoded_numbers.png (deflated 32%)\n",
            "  adding: i_divergence1_relu_Adam_0.0005_0.7999999999999999_0.8999999999999999_0.0_False_3_x_test_numbers.png (deflated 31%)\n",
            "  adding: i_divergence1_relu_Adam_0.0005_0.7999999999999999_0.8999999999999999_0.0_False_44_decoded_numbers.png (deflated 33%)\n",
            "  adding: i_divergence1_relu_Adam_0.0005_0.7999999999999999_0.8999999999999999_0.0_False_44_x_test_numbers.png (deflated 32%)\n",
            "  adding: i_divergence1_relu_Adam_0.0005_0.7999999999999999_0.8999999999999999_0.0_False_48_decoded_numbers.png (deflated 31%)\n",
            "  adding: i_divergence1_relu_Adam_0.0005_0.7999999999999999_0.8999999999999999_0.0_False_48_x_test_numbers.png (deflated 31%)\n",
            "  adding: i_divergence1_relu_Adam_0.0005_0.7999999999999999_0.8999999999999999_0.0_False_52_decoded_numbers.png (deflated 31%)\n",
            "  adding: i_divergence1_relu_Adam_0.0005_0.7999999999999999_0.8999999999999999_0.0_False_52_x_test_numbers.png (deflated 31%)\n",
            "  adding: i_divergence1_relu_Adam_0.0005_0.7999999999999999_0.8999999999999999_0.0_False_54_decoded_numbers.png (deflated 33%)\n",
            "  adding: i_divergence1_relu_Adam_0.0005_0.7999999999999999_0.8999999999999999_0.0_False_54_x_test_numbers.png (deflated 31%)\n",
            "  adding: i_divergence1_relu_Adam_0.0005_0.7999999999999999_0.8999999999999999_0.0_False_5_decoded_numbers.png (deflated 35%)\n",
            "  adding: i_divergence1_relu_Adam_0.0005_0.7999999999999999_0.8999999999999999_0.0_False_5_x_test_numbers.png (deflated 34%)\n",
            "  adding: i_divergence1_relu_Adam_0.0005_0.7999999999999999_0.8999999999999999_0.0_False_60_decoded_numbers.png (deflated 33%)\n",
            "  adding: i_divergence1_relu_Adam_0.0005_0.7999999999999999_0.8999999999999999_0.0_False_60_x_test_numbers.png (deflated 34%)\n",
            "  adding: i_divergence1_relu_Adam_0.0005_0.7999999999999999_0.8999999999999999_0.0_False_61_decoded_numbers.png (deflated 31%)\n",
            "  adding: i_divergence1_relu_Adam_0.0005_0.7999999999999999_0.8999999999999999_0.0_False_61_x_test_numbers.png (deflated 31%)\n",
            "  adding: i_divergence1_relu_Adam_0.0005_0.7999999999999999_0.8999999999999999_0.0_False_62_decoded_numbers.png (deflated 34%)\n",
            "  adding: i_divergence1_relu_Adam_0.0005_0.7999999999999999_0.8999999999999999_0.0_False_62_x_test_numbers.png (deflated 31%)\n",
            "  adding: i_divergence1_relu_Adam_0.0005_0.7999999999999999_0.8999999999999999_0.0_True_35_decoded_numbers.png (deflated 36%)\n",
            "  adding: i_divergence1_relu_Adam_0.0005_0.7999999999999999_0.8999999999999999_0.0_True_35_x_test_numbers.png (deflated 30%)\n",
            "  adding: i_divergence1_relu_Adam_0.0005_0.7999999999999999_0.8999999999999999_0.0_True_3_decoded_numbers.png (deflated 33%)\n",
            "  adding: i_divergence1_relu_Adam_0.0005_0.7999999999999999_0.8999999999999999_0.0_True_3_x_test_numbers.png (deflated 31%)\n",
            "  adding: i_divergence1_relu_Adam_0.0005_0.7999999999999999_0.8999999999999999_0.0_True_44_decoded_numbers.png (deflated 35%)\n",
            "  adding: i_divergence1_relu_Adam_0.0005_0.7999999999999999_0.8999999999999999_0.0_True_44_x_test_numbers.png (deflated 32%)\n",
            "  adding: i_divergence1_relu_Adam_0.0005_0.7999999999999999_0.8999999999999999_0.0_True_48_decoded_numbers.png (deflated 35%)\n",
            "  adding: i_divergence1_relu_Adam_0.0005_0.7999999999999999_0.8999999999999999_0.0_True_48_x_test_numbers.png (deflated 31%)\n",
            "  adding: i_divergence1_relu_Adam_0.0005_0.7999999999999999_0.8999999999999999_0.0_True_52_decoded_numbers.png (deflated 38%)\n",
            "  adding: i_divergence1_relu_Adam_0.0005_0.7999999999999999_0.8999999999999999_0.0_True_52_x_test_numbers.png (deflated 31%)\n",
            "  adding: i_divergence1_relu_Adam_0.0005_0.7999999999999999_0.8999999999999999_0.0_True_54_decoded_numbers.png (deflated 35%)\n",
            "  adding: i_divergence1_relu_Adam_0.0005_0.7999999999999999_0.8999999999999999_0.0_True_54_x_test_numbers.png (deflated 31%)\n",
            "  adding: i_divergence1_relu_Adam_0.0005_0.7999999999999999_0.8999999999999999_0.0_True_5_decoded_numbers.png (deflated 35%)\n",
            "  adding: i_divergence1_relu_Adam_0.0005_0.7999999999999999_0.8999999999999999_0.0_True_5_x_test_numbers.png (deflated 34%)\n",
            "  adding: i_divergence1_relu_Adam_0.0005_0.7999999999999999_0.8999999999999999_0.0_True_60_decoded_numbers.png (deflated 38%)\n",
            "  adding: i_divergence1_relu_Adam_0.0005_0.7999999999999999_0.8999999999999999_0.0_True_60_x_test_numbers.png (deflated 34%)\n",
            "  adding: i_divergence1_relu_Adam_0.0005_0.7999999999999999_0.8999999999999999_0.0_True_61_decoded_numbers.png (deflated 35%)\n",
            "  adding: i_divergence1_relu_Adam_0.0005_0.7999999999999999_0.8999999999999999_0.0_True_61_x_test_numbers.png (deflated 31%)\n",
            "  adding: i_divergence1_relu_Adam_0.0005_0.7999999999999999_0.8999999999999999_0.0_True_62_decoded_numbers.png (deflated 36%)\n",
            "  adding: i_divergence1_relu_Adam_0.0005_0.7999999999999999_0.8999999999999999_0.0_True_62_x_test_numbers.png (deflated 31%)\n",
            "  adding: i_divergence1_relu_Adam_0.0005_0.8999999999999999_0.7_0.0_False_35_decoded_numbers.png (deflated 36%)\n",
            "  adding: i_divergence1_relu_Adam_0.0005_0.8999999999999999_0.7_0.0_False_35_x_test_numbers.png (deflated 30%)\n",
            "  adding: i_divergence1_relu_Adam_0.0005_0.8999999999999999_0.7_0.0_False_3_decoded_numbers.png (deflated 36%)\n",
            "  adding: i_divergence1_relu_Adam_0.0005_0.8999999999999999_0.7_0.0_False_3_x_test_numbers.png (deflated 31%)\n",
            "  adding: i_divergence1_relu_Adam_0.0005_0.8999999999999999_0.7_0.0_False_44_decoded_numbers.png (deflated 36%)\n",
            "  adding: i_divergence1_relu_Adam_0.0005_0.8999999999999999_0.7_0.0_False_44_x_test_numbers.png (deflated 32%)\n",
            "  adding: i_divergence1_relu_Adam_0.0005_0.8999999999999999_0.7_0.0_False_48_decoded_numbers.png (deflated 36%)\n",
            "  adding: i_divergence1_relu_Adam_0.0005_0.8999999999999999_0.7_0.0_False_48_x_test_numbers.png (deflated 31%)\n",
            "  adding: i_divergence1_relu_Adam_0.0005_0.8999999999999999_0.7_0.0_False_52_decoded_numbers.png (deflated 36%)\n",
            "  adding: i_divergence1_relu_Adam_0.0005_0.8999999999999999_0.7_0.0_False_52_x_test_numbers.png (deflated 31%)\n",
            "  adding: i_divergence1_relu_Adam_0.0005_0.8999999999999999_0.7_0.0_False_54_decoded_numbers.png (deflated 36%)\n",
            "  adding: i_divergence1_relu_Adam_0.0005_0.8999999999999999_0.7_0.0_False_54_x_test_numbers.png (deflated 31%)\n",
            "  adding: i_divergence1_relu_Adam_0.0005_0.8999999999999999_0.7_0.0_False_5_decoded_numbers.png (deflated 36%)\n",
            "  adding: i_divergence1_relu_Adam_0.0005_0.8999999999999999_0.7_0.0_False_5_x_test_numbers.png (deflated 34%)\n",
            "  adding: i_divergence1_relu_Adam_0.0005_0.8999999999999999_0.7_0.0_False_60_decoded_numbers.png (deflated 36%)\n",
            "  adding: i_divergence1_relu_Adam_0.0005_0.8999999999999999_0.7_0.0_False_60_x_test_numbers.png (deflated 34%)\n",
            "  adding: i_divergence1_relu_Adam_0.0005_0.8999999999999999_0.7_0.0_False_61_decoded_numbers.png (deflated 36%)\n",
            "  adding: i_divergence1_relu_Adam_0.0005_0.8999999999999999_0.7_0.0_False_61_x_test_numbers.png (deflated 31%)\n",
            "  adding: i_divergence1_relu_Adam_0.0005_0.8999999999999999_0.7_0.0_False_62_decoded_numbers.png (deflated 36%)\n",
            "  adding: i_divergence1_relu_Adam_0.0005_0.8999999999999999_0.7_0.0_False_62_x_test_numbers.png (deflated 31%)\n",
            "  adding: i_divergence1_relu_Adam_0.0005_0.8999999999999999_0.7_0.0_True_35_decoded_numbers.png (deflated 36%)\n",
            "  adding: i_divergence1_relu_Adam_0.0005_0.8999999999999999_0.7_0.0_True_35_x_test_numbers.png (deflated 30%)\n",
            "  adding: i_divergence1_relu_Adam_0.0005_0.8999999999999999_0.7_0.0_True_3_decoded_numbers.png (deflated 32%)\n",
            "  adding: i_divergence1_relu_Adam_0.0005_0.8999999999999999_0.7_0.0_True_3_x_test_numbers.png (deflated 31%)\n",
            "  adding: i_divergence1_relu_Adam_0.0005_0.8999999999999999_0.7_0.0_True_44_decoded_numbers.png (deflated 34%)\n",
            "  adding: i_divergence1_relu_Adam_0.0005_0.8999999999999999_0.7_0.0_True_44_x_test_numbers.png (deflated 32%)\n",
            "  adding: i_divergence1_relu_Adam_0.0005_0.8999999999999999_0.7_0.0_True_48_decoded_numbers.png (deflated 35%)\n",
            "  adding: i_divergence1_relu_Adam_0.0005_0.8999999999999999_0.7_0.0_True_48_x_test_numbers.png (deflated 31%)\n",
            "  adding: i_divergence1_relu_Adam_0.0005_0.8999999999999999_0.7_0.0_True_52_decoded_numbers.png (deflated 34%)\n",
            "  adding: i_divergence1_relu_Adam_0.0005_0.8999999999999999_0.7_0.0_True_52_x_test_numbers.png (deflated 31%)\n",
            "  adding: i_divergence1_relu_Adam_0.0005_0.8999999999999999_0.7_0.0_True_54_decoded_numbers.png (deflated 35%)\n",
            "  adding: i_divergence1_relu_Adam_0.0005_0.8999999999999999_0.7_0.0_True_54_x_test_numbers.png (deflated 31%)\n",
            "  adding: i_divergence1_relu_Adam_0.0005_0.8999999999999999_0.7_0.0_True_5_decoded_numbers.png (deflated 33%)\n",
            "  adding: i_divergence1_relu_Adam_0.0005_0.8999999999999999_0.7_0.0_True_5_x_test_numbers.png (deflated 34%)\n",
            "  adding: i_divergence1_relu_Adam_0.0005_0.8999999999999999_0.7_0.0_True_60_decoded_numbers.png (deflated 36%)\n",
            "  adding: i_divergence1_relu_Adam_0.0005_0.8999999999999999_0.7_0.0_True_60_x_test_numbers.png (deflated 34%)\n",
            "  adding: i_divergence1_relu_Adam_0.0005_0.8999999999999999_0.7_0.0_True_61_decoded_numbers.png (deflated 33%)\n",
            "  adding: i_divergence1_relu_Adam_0.0005_0.8999999999999999_0.7_0.0_True_61_x_test_numbers.png (deflated 31%)\n",
            "  adding: i_divergence1_relu_Adam_0.0005_0.8999999999999999_0.7_0.0_True_62_decoded_numbers.png (deflated 35%)\n",
            "  adding: i_divergence1_relu_Adam_0.0005_0.8999999999999999_0.7_0.0_True_62_x_test_numbers.png (deflated 31%)\n",
            "  adding: i_divergence1_relu_Adam_0.0005_0.8999999999999999_0.7999999999999999_0.0_False_35_decoded_numbers.png (deflated 37%)\n",
            "  adding: i_divergence1_relu_Adam_0.0005_0.8999999999999999_0.7999999999999999_0.0_False_35_x_test_numbers.png (deflated 30%)\n",
            "  adding: i_divergence1_relu_Adam_0.0005_0.8999999999999999_0.7999999999999999_0.0_False_3_decoded_numbers.png (deflated 37%)\n",
            "  adding: i_divergence1_relu_Adam_0.0005_0.8999999999999999_0.7999999999999999_0.0_False_3_x_test_numbers.png (deflated 31%)\n",
            "  adding: i_divergence1_relu_Adam_0.0005_0.8999999999999999_0.7999999999999999_0.0_False_44_decoded_numbers.png (deflated 38%)\n",
            "  adding: i_divergence1_relu_Adam_0.0005_0.8999999999999999_0.7999999999999999_0.0_False_44_x_test_numbers.png (deflated 32%)\n",
            "  adding: i_divergence1_relu_Adam_0.0005_0.8999999999999999_0.7999999999999999_0.0_False_48_decoded_numbers.png (deflated 38%)\n",
            "  adding: i_divergence1_relu_Adam_0.0005_0.8999999999999999_0.7999999999999999_0.0_False_48_x_test_numbers.png (deflated 31%)\n",
            "  adding: i_divergence1_relu_Adam_0.0005_0.8999999999999999_0.7999999999999999_0.0_False_52_decoded_numbers.png (deflated 39%)\n",
            "  adding: i_divergence1_relu_Adam_0.0005_0.8999999999999999_0.7999999999999999_0.0_False_52_x_test_numbers.png (deflated 31%)\n",
            "  adding: i_divergence1_relu_Adam_0.0005_0.8999999999999999_0.7999999999999999_0.0_False_54_decoded_numbers.png (deflated 38%)\n",
            "  adding: i_divergence1_relu_Adam_0.0005_0.8999999999999999_0.7999999999999999_0.0_False_54_x_test_numbers.png (deflated 31%)\n",
            "  adding: i_divergence1_relu_Adam_0.0005_0.8999999999999999_0.7999999999999999_0.0_False_5_decoded_numbers.png (deflated 36%)\n",
            "  adding: i_divergence1_relu_Adam_0.0005_0.8999999999999999_0.7999999999999999_0.0_False_5_x_test_numbers.png (deflated 34%)\n",
            "  adding: i_divergence1_relu_Adam_0.0005_0.8999999999999999_0.7999999999999999_0.0_False_60_decoded_numbers.png (deflated 38%)\n",
            "  adding: i_divergence1_relu_Adam_0.0005_0.8999999999999999_0.7999999999999999_0.0_False_60_x_test_numbers.png (deflated 34%)\n",
            "  adding: i_divergence1_relu_Adam_0.0005_0.8999999999999999_0.7999999999999999_0.0_False_61_decoded_numbers.png (deflated 37%)\n",
            "  adding: i_divergence1_relu_Adam_0.0005_0.8999999999999999_0.7999999999999999_0.0_False_61_x_test_numbers.png (deflated 31%)\n",
            "  adding: i_divergence1_relu_Adam_0.0005_0.8999999999999999_0.7999999999999999_0.0_False_62_decoded_numbers.png (deflated 38%)\n",
            "  adding: i_divergence1_relu_Adam_0.0005_0.8999999999999999_0.7999999999999999_0.0_False_62_x_test_numbers.png (deflated 31%)\n",
            "  adding: i_divergence1_relu_Adam_0.0005_0.8999999999999999_0.7999999999999999_0.0_True_35_decoded_numbers.png (deflated 35%)\n",
            "  adding: i_divergence1_relu_Adam_0.0005_0.8999999999999999_0.7999999999999999_0.0_True_35_x_test_numbers.png (deflated 30%)\n",
            "  adding: i_divergence1_relu_Adam_0.0005_0.8999999999999999_0.7999999999999999_0.0_True_3_decoded_numbers.png (deflated 32%)\n",
            "  adding: i_divergence1_relu_Adam_0.0005_0.8999999999999999_0.7999999999999999_0.0_True_3_x_test_numbers.png (deflated 31%)\n",
            "  adding: i_divergence1_relu_Adam_0.0005_0.8999999999999999_0.7999999999999999_0.0_True_44_decoded_numbers.png (deflated 34%)\n",
            "  adding: i_divergence1_relu_Adam_0.0005_0.8999999999999999_0.7999999999999999_0.0_True_44_x_test_numbers.png (deflated 32%)\n",
            "  adding: i_divergence1_relu_Adam_0.0005_0.8999999999999999_0.7999999999999999_0.0_True_48_decoded_numbers.png (deflated 34%)\n",
            "  adding: i_divergence1_relu_Adam_0.0005_0.8999999999999999_0.7999999999999999_0.0_True_48_x_test_numbers.png (deflated 31%)\n",
            "  adding: i_divergence1_relu_Adam_0.0005_0.8999999999999999_0.7999999999999999_0.0_True_52_decoded_numbers.png (deflated 33%)\n",
            "  adding: i_divergence1_relu_Adam_0.0005_0.8999999999999999_0.7999999999999999_0.0_True_52_x_test_numbers.png (deflated 31%)\n",
            "  adding: i_divergence1_relu_Adam_0.0005_0.8999999999999999_0.7999999999999999_0.0_True_54_decoded_numbers.png (deflated 35%)\n",
            "  adding: i_divergence1_relu_Adam_0.0005_0.8999999999999999_0.7999999999999999_0.0_True_54_x_test_numbers.png (deflated 31%)\n",
            "  adding: i_divergence1_relu_Adam_0.0005_0.8999999999999999_0.7999999999999999_0.0_True_5_decoded_numbers.png (deflated 33%)\n",
            "  adding: i_divergence1_relu_Adam_0.0005_0.8999999999999999_0.7999999999999999_0.0_True_5_x_test_numbers.png (deflated 34%)\n",
            "  adding: i_divergence1_relu_Adam_0.0005_0.8999999999999999_0.7999999999999999_0.0_True_60_decoded_numbers.png (deflated 37%)\n",
            "  adding: i_divergence1_relu_Adam_0.0005_0.8999999999999999_0.7999999999999999_0.0_True_60_x_test_numbers.png (deflated 34%)\n",
            "  adding: i_divergence1_relu_Adam_0.0005_0.8999999999999999_0.7999999999999999_0.0_True_61_decoded_numbers.png (deflated 33%)\n",
            "  adding: i_divergence1_relu_Adam_0.0005_0.8999999999999999_0.7999999999999999_0.0_True_61_x_test_numbers.png (deflated 31%)\n",
            "  adding: i_divergence1_relu_Adam_0.0005_0.8999999999999999_0.7999999999999999_0.0_True_62_decoded_numbers.png (deflated 35%)\n",
            "  adding: i_divergence1_relu_Adam_0.0005_0.8999999999999999_0.7999999999999999_0.0_True_62_x_test_numbers.png (deflated 31%)\n",
            "  adding: i_divergence1_relu_Adam_0.0005_0.8999999999999999_0.8999999999999999_0.0_False_35_decoded_numbers.png (deflated 31%)\n",
            "  adding: i_divergence1_relu_Adam_0.0005_0.8999999999999999_0.8999999999999999_0.0_False_35_x_test_numbers.png (deflated 30%)\n",
            "  adding: i_divergence1_relu_Adam_0.0005_0.8999999999999999_0.8999999999999999_0.0_False_3_decoded_numbers.png (deflated 30%)\n",
            "  adding: i_divergence1_relu_Adam_0.0005_0.8999999999999999_0.8999999999999999_0.0_False_3_x_test_numbers.png (deflated 31%)\n",
            "  adding: i_divergence1_relu_Adam_0.0005_0.8999999999999999_0.8999999999999999_0.0_False_44_decoded_numbers.png (deflated 33%)\n",
            "  adding: i_divergence1_relu_Adam_0.0005_0.8999999999999999_0.8999999999999999_0.0_False_44_x_test_numbers.png (deflated 32%)\n",
            "  adding: i_divergence1_relu_Adam_0.0005_0.8999999999999999_0.8999999999999999_0.0_False_48_decoded_numbers.png (deflated 31%)\n",
            "  adding: i_divergence1_relu_Adam_0.0005_0.8999999999999999_0.8999999999999999_0.0_False_48_x_test_numbers.png (deflated 31%)\n",
            "  adding: i_divergence1_relu_Adam_0.0005_0.8999999999999999_0.8999999999999999_0.0_False_52_decoded_numbers.png (deflated 33%)\n",
            "  adding: i_divergence1_relu_Adam_0.0005_0.8999999999999999_0.8999999999999999_0.0_False_52_x_test_numbers.png (deflated 31%)\n",
            "  adding: i_divergence1_relu_Adam_0.0005_0.8999999999999999_0.8999999999999999_0.0_False_54_decoded_numbers.png (deflated 32%)\n",
            "  adding: i_divergence1_relu_Adam_0.0005_0.8999999999999999_0.8999999999999999_0.0_False_54_x_test_numbers.png (deflated 31%)\n",
            "  adding: i_divergence1_relu_Adam_0.0005_0.8999999999999999_0.8999999999999999_0.0_False_5_decoded_numbers.png (deflated 34%)\n",
            "  adding: i_divergence1_relu_Adam_0.0005_0.8999999999999999_0.8999999999999999_0.0_False_5_x_test_numbers.png (deflated 34%)\n",
            "  adding: i_divergence1_relu_Adam_0.0005_0.8999999999999999_0.8999999999999999_0.0_False_60_decoded_numbers.png (deflated 32%)\n",
            "  adding: i_divergence1_relu_Adam_0.0005_0.8999999999999999_0.8999999999999999_0.0_False_60_x_test_numbers.png (deflated 34%)\n",
            "  adding: i_divergence1_relu_Adam_0.0005_0.8999999999999999_0.8999999999999999_0.0_False_61_decoded_numbers.png (deflated 30%)\n",
            "  adding: i_divergence1_relu_Adam_0.0005_0.8999999999999999_0.8999999999999999_0.0_False_61_x_test_numbers.png (deflated 31%)\n",
            "  adding: i_divergence1_relu_Adam_0.0005_0.8999999999999999_0.8999999999999999_0.0_False_62_decoded_numbers.png (deflated 33%)\n",
            "  adding: i_divergence1_relu_Adam_0.0005_0.8999999999999999_0.8999999999999999_0.0_False_62_x_test_numbers.png (deflated 31%)\n",
            "  adding: i_divergence1_relu_Adam_0.0005_0.8999999999999999_0.8999999999999999_0.0_True_35_decoded_numbers.png (deflated 35%)\n",
            "  adding: i_divergence1_relu_Adam_0.0005_0.8999999999999999_0.8999999999999999_0.0_True_35_x_test_numbers.png (deflated 30%)\n",
            "  adding: i_divergence1_relu_Adam_0.0005_0.8999999999999999_0.8999999999999999_0.0_True_3_decoded_numbers.png (deflated 32%)\n",
            "  adding: i_divergence1_relu_Adam_0.0005_0.8999999999999999_0.8999999999999999_0.0_True_3_x_test_numbers.png (deflated 31%)\n",
            "  adding: i_divergence1_relu_Adam_0.0005_0.8999999999999999_0.8999999999999999_0.0_True_44_decoded_numbers.png (deflated 35%)\n",
            "  adding: i_divergence1_relu_Adam_0.0005_0.8999999999999999_0.8999999999999999_0.0_True_44_x_test_numbers.png (deflated 32%)\n",
            "  adding: i_divergence1_relu_Adam_0.0005_0.8999999999999999_0.8999999999999999_0.0_True_48_decoded_numbers.png (deflated 33%)\n",
            "  adding: i_divergence1_relu_Adam_0.0005_0.8999999999999999_0.8999999999999999_0.0_True_48_x_test_numbers.png (deflated 31%)\n",
            "  adding: i_divergence1_relu_Adam_0.0005_0.8999999999999999_0.8999999999999999_0.0_True_52_decoded_numbers.png (deflated 34%)\n",
            "  adding: i_divergence1_relu_Adam_0.0005_0.8999999999999999_0.8999999999999999_0.0_True_52_x_test_numbers.png (deflated 31%)\n",
            "  adding: i_divergence1_relu_Adam_0.0005_0.8999999999999999_0.8999999999999999_0.0_True_54_decoded_numbers.png (deflated 35%)\n",
            "  adding: i_divergence1_relu_Adam_0.0005_0.8999999999999999_0.8999999999999999_0.0_True_54_x_test_numbers.png (deflated 31%)\n",
            "  adding: i_divergence1_relu_Adam_0.0005_0.8999999999999999_0.8999999999999999_0.0_True_5_decoded_numbers.png (deflated 34%)\n",
            "  adding: i_divergence1_relu_Adam_0.0005_0.8999999999999999_0.8999999999999999_0.0_True_5_x_test_numbers.png (deflated 34%)\n",
            "  adding: i_divergence1_relu_Adam_0.0005_0.8999999999999999_0.8999999999999999_0.0_True_60_decoded_numbers.png (deflated 34%)\n",
            "  adding: i_divergence1_relu_Adam_0.0005_0.8999999999999999_0.8999999999999999_0.0_True_60_x_test_numbers.png (deflated 34%)\n",
            "  adding: i_divergence1_relu_Adam_0.0005_0.8999999999999999_0.8999999999999999_0.0_True_61_decoded_numbers.png (deflated 33%)\n",
            "  adding: i_divergence1_relu_Adam_0.0005_0.8999999999999999_0.8999999999999999_0.0_True_61_x_test_numbers.png (deflated 31%)\n",
            "  adding: i_divergence1_relu_Adam_0.0005_0.8999999999999999_0.8999999999999999_0.0_True_62_decoded_numbers.png (deflated 35%)\n",
            "  adding: i_divergence1_relu_Adam_0.0005_0.8999999999999999_0.8999999999999999_0.0_True_62_x_test_numbers.png (deflated 31%)\n",
            "  adding: i_divergence1_relu_Adam_0.001_0.7_0.7_0.0_False_35_decoded_numbers.png (deflated 32%)\n",
            "  adding: i_divergence1_relu_Adam_0.001_0.7_0.7_0.0_False_35_x_test_numbers.png (deflated 30%)\n",
            "  adding: i_divergence1_relu_Adam_0.001_0.7_0.7_0.0_False_3_decoded_numbers.png (deflated 30%)\n",
            "  adding: i_divergence1_relu_Adam_0.001_0.7_0.7_0.0_False_3_x_test_numbers.png (deflated 31%)\n",
            "  adding: i_divergence1_relu_Adam_0.001_0.7_0.7_0.0_False_44_decoded_numbers.png (deflated 32%)\n",
            "  adding: i_divergence1_relu_Adam_0.001_0.7_0.7_0.0_False_44_x_test_numbers.png (deflated 32%)\n",
            "  adding: i_divergence1_relu_Adam_0.001_0.7_0.7_0.0_False_48_decoded_numbers.png (deflated 31%)\n",
            "  adding: i_divergence1_relu_Adam_0.001_0.7_0.7_0.0_False_48_x_test_numbers.png (deflated 31%)\n",
            "  adding: i_divergence1_relu_Adam_0.001_0.7_0.7_0.0_False_52_decoded_numbers.png (deflated 33%)\n",
            "  adding: i_divergence1_relu_Adam_0.001_0.7_0.7_0.0_False_52_x_test_numbers.png (deflated 31%)\n",
            "  adding: i_divergence1_relu_Adam_0.001_0.7_0.7_0.0_False_54_decoded_numbers.png (deflated 34%)\n",
            "  adding: i_divergence1_relu_Adam_0.001_0.7_0.7_0.0_False_54_x_test_numbers.png (deflated 31%)\n",
            "  adding: i_divergence1_relu_Adam_0.001_0.7_0.7_0.0_False_5_decoded_numbers.png (deflated 33%)\n",
            "  adding: i_divergence1_relu_Adam_0.001_0.7_0.7_0.0_False_5_x_test_numbers.png (deflated 34%)\n",
            "  adding: i_divergence1_relu_Adam_0.001_0.7_0.7_0.0_False_60_decoded_numbers.png (deflated 33%)\n",
            "  adding: i_divergence1_relu_Adam_0.001_0.7_0.7_0.0_False_60_x_test_numbers.png (deflated 34%)\n",
            "  adding: i_divergence1_relu_Adam_0.001_0.7_0.7_0.0_False_61_decoded_numbers.png (deflated 33%)\n",
            "  adding: i_divergence1_relu_Adam_0.001_0.7_0.7_0.0_False_61_x_test_numbers.png (deflated 31%)\n",
            "  adding: i_divergence1_relu_Adam_0.001_0.7_0.7_0.0_False_62_decoded_numbers.png (deflated 35%)\n",
            "  adding: i_divergence1_relu_Adam_0.001_0.7_0.7_0.0_False_62_x_test_numbers.png (deflated 31%)\n",
            "  adding: i_divergence1_relu_Adam_0.001_0.7_0.7_0.0_True_35_decoded_numbers.png (deflated 34%)\n",
            "  adding: i_divergence1_relu_Adam_0.001_0.7_0.7_0.0_True_35_x_test_numbers.png (deflated 30%)\n",
            "  adding: i_divergence1_relu_Adam_0.001_0.7_0.7_0.0_True_3_decoded_numbers.png (deflated 31%)\n",
            "  adding: i_divergence1_relu_Adam_0.001_0.7_0.7_0.0_True_3_x_test_numbers.png (deflated 31%)\n",
            "  adding: i_divergence1_relu_Adam_0.001_0.7_0.7_0.0_True_44_decoded_numbers.png (deflated 33%)\n",
            "  adding: i_divergence1_relu_Adam_0.001_0.7_0.7_0.0_True_44_x_test_numbers.png (deflated 32%)\n",
            "  adding: i_divergence1_relu_Adam_0.001_0.7_0.7_0.0_True_48_decoded_numbers.png (deflated 32%)\n",
            "  adding: i_divergence1_relu_Adam_0.001_0.7_0.7_0.0_True_48_x_test_numbers.png (deflated 31%)\n",
            "  adding: i_divergence1_relu_Adam_0.001_0.7_0.7_0.0_True_52_decoded_numbers.png (deflated 32%)\n",
            "  adding: i_divergence1_relu_Adam_0.001_0.7_0.7_0.0_True_52_x_test_numbers.png (deflated 31%)\n",
            "  adding: i_divergence1_relu_Adam_0.001_0.7_0.7_0.0_True_54_decoded_numbers.png (deflated 34%)\n",
            "  adding: i_divergence1_relu_Adam_0.001_0.7_0.7_0.0_True_54_x_test_numbers.png (deflated 31%)\n",
            "  adding: i_divergence1_relu_Adam_0.001_0.7_0.7_0.0_True_5_decoded_numbers.png (deflated 34%)\n",
            "  adding: i_divergence1_relu_Adam_0.001_0.7_0.7_0.0_True_5_x_test_numbers.png (deflated 34%)\n",
            "  adding: i_divergence1_relu_Adam_0.001_0.7_0.7_0.0_True_60_decoded_numbers.png (deflated 34%)\n",
            "  adding: i_divergence1_relu_Adam_0.001_0.7_0.7_0.0_True_60_x_test_numbers.png (deflated 34%)\n",
            "  adding: i_divergence1_relu_Adam_0.001_0.7_0.7_0.0_True_61_decoded_numbers.png (deflated 31%)\n",
            "  adding: i_divergence1_relu_Adam_0.001_0.7_0.7_0.0_True_61_x_test_numbers.png (deflated 31%)\n",
            "  adding: i_divergence1_relu_Adam_0.001_0.7_0.7_0.0_True_62_decoded_numbers.png (deflated 33%)\n",
            "  adding: i_divergence1_relu_Adam_0.001_0.7_0.7_0.0_True_62_x_test_numbers.png (deflated 31%)\n",
            "  adding: i_divergence1_relu_Adam_0.001_0.7_0.7999999999999999_0.0_False_35_decoded_numbers.png (deflated 33%)\n",
            "  adding: i_divergence1_relu_Adam_0.001_0.7_0.7999999999999999_0.0_False_35_x_test_numbers.png (deflated 30%)\n",
            "  adding: i_divergence1_relu_Adam_0.001_0.7_0.7999999999999999_0.0_False_3_decoded_numbers.png (deflated 31%)\n",
            "  adding: i_divergence1_relu_Adam_0.001_0.7_0.7999999999999999_0.0_False_3_x_test_numbers.png (deflated 31%)\n",
            "  adding: i_divergence1_relu_Adam_0.001_0.7_0.7999999999999999_0.0_False_44_decoded_numbers.png (deflated 33%)\n",
            "  adding: i_divergence1_relu_Adam_0.001_0.7_0.7999999999999999_0.0_False_44_x_test_numbers.png (deflated 32%)\n",
            "  adding: i_divergence1_relu_Adam_0.001_0.7_0.7999999999999999_0.0_False_48_decoded_numbers.png (deflated 31%)\n",
            "  adding: i_divergence1_relu_Adam_0.001_0.7_0.7999999999999999_0.0_False_48_x_test_numbers.png (deflated 31%)\n",
            "  adding: i_divergence1_relu_Adam_0.001_0.7_0.7999999999999999_0.0_False_52_decoded_numbers.png (deflated 33%)\n",
            "  adding: i_divergence1_relu_Adam_0.001_0.7_0.7999999999999999_0.0_False_52_x_test_numbers.png (deflated 31%)\n",
            "  adding: i_divergence1_relu_Adam_0.001_0.7_0.7999999999999999_0.0_False_54_decoded_numbers.png (deflated 32%)\n",
            "  adding: i_divergence1_relu_Adam_0.001_0.7_0.7999999999999999_0.0_False_54_x_test_numbers.png (deflated 31%)\n",
            "  adding: i_divergence1_relu_Adam_0.001_0.7_0.7999999999999999_0.0_False_5_decoded_numbers.png (deflated 33%)\n",
            "  adding: i_divergence1_relu_Adam_0.001_0.7_0.7999999999999999_0.0_False_5_x_test_numbers.png (deflated 34%)\n",
            "  adding: i_divergence1_relu_Adam_0.001_0.7_0.7999999999999999_0.0_False_60_decoded_numbers.png (deflated 33%)\n",
            "  adding: i_divergence1_relu_Adam_0.001_0.7_0.7999999999999999_0.0_False_60_x_test_numbers.png (deflated 34%)\n",
            "  adding: i_divergence1_relu_Adam_0.001_0.7_0.7999999999999999_0.0_False_61_decoded_numbers.png (deflated 32%)\n",
            "  adding: i_divergence1_relu_Adam_0.001_0.7_0.7999999999999999_0.0_False_61_x_test_numbers.png (deflated 31%)\n",
            "  adding: i_divergence1_relu_Adam_0.001_0.7_0.7999999999999999_0.0_False_62_decoded_numbers.png (deflated 34%)\n",
            "  adding: i_divergence1_relu_Adam_0.001_0.7_0.7999999999999999_0.0_False_62_x_test_numbers.png (deflated 31%)\n",
            "  adding: i_divergence1_relu_Adam_0.001_0.7_0.7999999999999999_0.0_True_35_decoded_numbers.png (deflated 33%)\n",
            "  adding: i_divergence1_relu_Adam_0.001_0.7_0.7999999999999999_0.0_True_35_x_test_numbers.png (deflated 30%)\n",
            "  adding: i_divergence1_relu_Adam_0.001_0.7_0.7999999999999999_0.0_True_3_decoded_numbers.png (deflated 32%)\n",
            "  adding: i_divergence1_relu_Adam_0.001_0.7_0.7999999999999999_0.0_True_3_x_test_numbers.png (deflated 31%)\n",
            "  adding: i_divergence1_relu_Adam_0.001_0.7_0.7999999999999999_0.0_True_44_decoded_numbers.png (deflated 33%)\n",
            "  adding: i_divergence1_relu_Adam_0.001_0.7_0.7999999999999999_0.0_True_44_x_test_numbers.png (deflated 32%)\n",
            "  adding: i_divergence1_relu_Adam_0.001_0.7_0.7999999999999999_0.0_True_48_decoded_numbers.png (deflated 31%)\n",
            "  adding: i_divergence1_relu_Adam_0.001_0.7_0.7999999999999999_0.0_True_48_x_test_numbers.png (deflated 31%)\n",
            "  adding: i_divergence1_relu_Adam_0.001_0.7_0.7999999999999999_0.0_True_52_decoded_numbers.png (deflated 32%)\n",
            "  adding: i_divergence1_relu_Adam_0.001_0.7_0.7999999999999999_0.0_True_52_x_test_numbers.png (deflated 31%)\n",
            "  adding: i_divergence1_relu_Adam_0.001_0.7_0.7999999999999999_0.0_True_54_decoded_numbers.png (deflated 34%)\n",
            "  adding: i_divergence1_relu_Adam_0.001_0.7_0.7999999999999999_0.0_True_54_x_test_numbers.png (deflated 31%)\n",
            "  adding: i_divergence1_relu_Adam_0.001_0.7_0.7999999999999999_0.0_True_5_decoded_numbers.png (deflated 34%)\n",
            "  adding: i_divergence1_relu_Adam_0.001_0.7_0.7999999999999999_0.0_True_5_x_test_numbers.png (deflated 34%)\n",
            "  adding: i_divergence1_relu_Adam_0.001_0.7_0.7999999999999999_0.0_True_60_decoded_numbers.png (deflated 34%)\n",
            "  adding: i_divergence1_relu_Adam_0.001_0.7_0.7999999999999999_0.0_True_60_x_test_numbers.png (deflated 34%)\n",
            "  adding: i_divergence1_relu_Adam_0.001_0.7_0.7999999999999999_0.0_True_61_decoded_numbers.png (deflated 33%)\n",
            "  adding: i_divergence1_relu_Adam_0.001_0.7_0.7999999999999999_0.0_True_61_x_test_numbers.png (deflated 31%)\n",
            "  adding: i_divergence1_relu_Adam_0.001_0.7_0.7999999999999999_0.0_True_62_decoded_numbers.png (deflated 32%)\n",
            "  adding: i_divergence1_relu_Adam_0.001_0.7_0.7999999999999999_0.0_True_62_x_test_numbers.png (deflated 31%)\n",
            "  adding: i_divergence1_relu_Adam_0.001_0.7_0.8999999999999999_0.0_False_35_decoded_numbers.png (deflated 31%)\n",
            "  adding: i_divergence1_relu_Adam_0.001_0.7_0.8999999999999999_0.0_False_35_x_test_numbers.png (deflated 30%)\n",
            "  adding: i_divergence1_relu_Adam_0.001_0.7_0.8999999999999999_0.0_False_3_decoded_numbers.png (deflated 30%)\n",
            "  adding: i_divergence1_relu_Adam_0.001_0.7_0.8999999999999999_0.0_False_3_x_test_numbers.png (deflated 31%)\n",
            "  adding: i_divergence1_relu_Adam_0.001_0.7_0.8999999999999999_0.0_False_44_decoded_numbers.png (deflated 33%)\n",
            "  adding: i_divergence1_relu_Adam_0.001_0.7_0.8999999999999999_0.0_False_44_x_test_numbers.png (deflated 32%)\n",
            "  adding: i_divergence1_relu_Adam_0.001_0.7_0.8999999999999999_0.0_False_48_decoded_numbers.png (deflated 31%)\n",
            "  adding: i_divergence1_relu_Adam_0.001_0.7_0.8999999999999999_0.0_False_48_x_test_numbers.png (deflated 31%)\n",
            "  adding: i_divergence1_relu_Adam_0.001_0.7_0.8999999999999999_0.0_False_52_decoded_numbers.png (deflated 31%)\n",
            "  adding: i_divergence1_relu_Adam_0.001_0.7_0.8999999999999999_0.0_False_52_x_test_numbers.png (deflated 31%)\n",
            "  adding: i_divergence1_relu_Adam_0.001_0.7_0.8999999999999999_0.0_False_54_decoded_numbers.png (deflated 31%)\n",
            "  adding: i_divergence1_relu_Adam_0.001_0.7_0.8999999999999999_0.0_False_54_x_test_numbers.png (deflated 31%)\n",
            "  adding: i_divergence1_relu_Adam_0.001_0.7_0.8999999999999999_0.0_False_5_decoded_numbers.png (deflated 34%)\n",
            "  adding: i_divergence1_relu_Adam_0.001_0.7_0.8999999999999999_0.0_False_5_x_test_numbers.png (deflated 34%)\n",
            "  adding: i_divergence1_relu_Adam_0.001_0.7_0.8999999999999999_0.0_False_60_decoded_numbers.png (deflated 32%)\n",
            "  adding: i_divergence1_relu_Adam_0.001_0.7_0.8999999999999999_0.0_False_60_x_test_numbers.png (deflated 34%)\n",
            "  adding: i_divergence1_relu_Adam_0.001_0.7_0.8999999999999999_0.0_False_61_decoded_numbers.png (deflated 31%)\n",
            "  adding: i_divergence1_relu_Adam_0.001_0.7_0.8999999999999999_0.0_False_61_x_test_numbers.png (deflated 31%)\n",
            "  adding: i_divergence1_relu_Adam_0.001_0.7_0.8999999999999999_0.0_False_62_decoded_numbers.png (deflated 35%)\n",
            "  adding: i_divergence1_relu_Adam_0.001_0.7_0.8999999999999999_0.0_False_62_x_test_numbers.png (deflated 31%)\n",
            "  adding: i_divergence1_relu_Adam_0.001_0.7_0.8999999999999999_0.0_True_35_decoded_numbers.png (deflated 32%)\n",
            "  adding: i_divergence1_relu_Adam_0.001_0.7_0.8999999999999999_0.0_True_35_x_test_numbers.png (deflated 30%)\n",
            "  adding: i_divergence1_relu_Adam_0.001_0.7_0.8999999999999999_0.0_True_3_decoded_numbers.png (deflated 31%)\n",
            "  adding: i_divergence1_relu_Adam_0.001_0.7_0.8999999999999999_0.0_True_3_x_test_numbers.png (deflated 31%)\n",
            "  adding: i_divergence1_relu_Adam_0.001_0.7_0.8999999999999999_0.0_True_44_decoded_numbers.png (deflated 34%)\n",
            "  adding: i_divergence1_relu_Adam_0.001_0.7_0.8999999999999999_0.0_True_44_x_test_numbers.png (deflated 32%)\n",
            "  adding: i_divergence1_relu_Adam_0.001_0.7_0.8999999999999999_0.0_True_48_decoded_numbers.png (deflated 32%)\n",
            "  adding: i_divergence1_relu_Adam_0.001_0.7_0.8999999999999999_0.0_True_48_x_test_numbers.png (deflated 31%)\n",
            "  adding: i_divergence1_relu_Adam_0.001_0.7_0.8999999999999999_0.0_True_52_decoded_numbers.png (deflated 33%)\n",
            "  adding: i_divergence1_relu_Adam_0.001_0.7_0.8999999999999999_0.0_True_52_x_test_numbers.png (deflated 31%)\n",
            "  adding: i_divergence1_relu_Adam_0.001_0.7_0.8999999999999999_0.0_True_54_decoded_numbers.png (deflated 33%)\n",
            "  adding: i_divergence1_relu_Adam_0.001_0.7_0.8999999999999999_0.0_True_54_x_test_numbers.png (deflated 31%)\n",
            "  adding: i_divergence1_relu_Adam_0.001_0.7_0.8999999999999999_0.0_True_5_decoded_numbers.png (deflated 34%)\n",
            "  adding: i_divergence1_relu_Adam_0.001_0.7_0.8999999999999999_0.0_True_5_x_test_numbers.png (deflated 34%)\n",
            "  adding: i_divergence1_relu_Adam_0.001_0.7_0.8999999999999999_0.0_True_60_decoded_numbers.png (deflated 33%)\n",
            "  adding: i_divergence1_relu_Adam_0.001_0.7_0.8999999999999999_0.0_True_60_x_test_numbers.png (deflated 34%)\n",
            "  adding: i_divergence1_relu_Adam_0.001_0.7_0.8999999999999999_0.0_True_61_decoded_numbers.png (deflated 31%)\n",
            "  adding: i_divergence1_relu_Adam_0.001_0.7_0.8999999999999999_0.0_True_61_x_test_numbers.png (deflated 31%)\n",
            "  adding: i_divergence1_relu_Adam_0.001_0.7_0.8999999999999999_0.0_True_62_decoded_numbers.png (deflated 33%)\n",
            "  adding: i_divergence1_relu_Adam_0.001_0.7_0.8999999999999999_0.0_True_62_x_test_numbers.png (deflated 31%)\n",
            "  adding: i_divergence1_relu_Adam_0.001_0.7999999999999999_0.7_0.0_False_35_decoded_numbers.png (deflated 38%)\n",
            "  adding: i_divergence1_relu_Adam_0.001_0.7999999999999999_0.7_0.0_False_35_x_test_numbers.png (deflated 30%)\n",
            "  adding: i_divergence1_relu_Adam_0.001_0.7999999999999999_0.7_0.0_False_3_decoded_numbers.png (deflated 37%)\n",
            "  adding: i_divergence1_relu_Adam_0.001_0.7999999999999999_0.7_0.0_False_3_x_test_numbers.png (deflated 31%)\n",
            "  adding: i_divergence1_relu_Adam_0.001_0.7999999999999999_0.7_0.0_False_44_decoded_numbers.png (deflated 39%)\n",
            "  adding: i_divergence1_relu_Adam_0.001_0.7999999999999999_0.7_0.0_False_44_x_test_numbers.png (deflated 32%)\n",
            "  adding: i_divergence1_relu_Adam_0.001_0.7999999999999999_0.7_0.0_False_48_decoded_numbers.png (deflated 36%)\n",
            "  adding: i_divergence1_relu_Adam_0.001_0.7999999999999999_0.7_0.0_False_48_x_test_numbers.png (deflated 31%)\n",
            "  adding: i_divergence1_relu_Adam_0.001_0.7999999999999999_0.7_0.0_False_52_decoded_numbers.png (deflated 37%)\n",
            "  adding: i_divergence1_relu_Adam_0.001_0.7999999999999999_0.7_0.0_False_52_x_test_numbers.png (deflated 31%)\n",
            "  adding: i_divergence1_relu_Adam_0.001_0.7999999999999999_0.7_0.0_False_54_decoded_numbers.png (deflated 35%)\n",
            "  adding: i_divergence1_relu_Adam_0.001_0.7999999999999999_0.7_0.0_False_54_x_test_numbers.png (deflated 31%)\n",
            "  adding: i_divergence1_relu_Adam_0.001_0.7999999999999999_0.7_0.0_False_5_decoded_numbers.png (deflated 36%)\n",
            "  adding: i_divergence1_relu_Adam_0.001_0.7999999999999999_0.7_0.0_False_5_x_test_numbers.png (deflated 34%)\n",
            "  adding: i_divergence1_relu_Adam_0.001_0.7999999999999999_0.7_0.0_False_60_decoded_numbers.png (deflated 38%)\n",
            "  adding: i_divergence1_relu_Adam_0.001_0.7999999999999999_0.7_0.0_False_60_x_test_numbers.png (deflated 34%)\n",
            "  adding: i_divergence1_relu_Adam_0.001_0.7999999999999999_0.7_0.0_False_61_decoded_numbers.png (deflated 37%)\n",
            "  adding: i_divergence1_relu_Adam_0.001_0.7999999999999999_0.7_0.0_False_61_x_test_numbers.png (deflated 31%)\n",
            "  adding: i_divergence1_relu_Adam_0.001_0.7999999999999999_0.7_0.0_False_62_decoded_numbers.png (deflated 38%)\n",
            "  adding: i_divergence1_relu_Adam_0.001_0.7999999999999999_0.7_0.0_False_62_x_test_numbers.png (deflated 31%)\n",
            "  adding: i_divergence1_relu_Adam_0.001_0.7999999999999999_0.7_0.0_True_35_decoded_numbers.png (deflated 34%)\n",
            "  adding: i_divergence1_relu_Adam_0.001_0.7999999999999999_0.7_0.0_True_35_x_test_numbers.png (deflated 30%)\n",
            "  adding: i_divergence1_relu_Adam_0.001_0.7999999999999999_0.7_0.0_True_3_decoded_numbers.png (deflated 32%)\n",
            "  adding: i_divergence1_relu_Adam_0.001_0.7999999999999999_0.7_0.0_True_3_x_test_numbers.png (deflated 31%)\n",
            "  adding: i_divergence1_relu_Adam_0.001_0.7999999999999999_0.7_0.0_True_44_decoded_numbers.png (deflated 34%)\n",
            "  adding: i_divergence1_relu_Adam_0.001_0.7999999999999999_0.7_0.0_True_44_x_test_numbers.png (deflated 32%)\n",
            "  adding: i_divergence1_relu_Adam_0.001_0.7999999999999999_0.7_0.0_True_48_decoded_numbers.png (deflated 34%)\n",
            "  adding: i_divergence1_relu_Adam_0.001_0.7999999999999999_0.7_0.0_True_48_x_test_numbers.png (deflated 31%)\n",
            "  adding: i_divergence1_relu_Adam_0.001_0.7999999999999999_0.7_0.0_True_52_decoded_numbers.png (deflated 33%)\n",
            "  adding: i_divergence1_relu_Adam_0.001_0.7999999999999999_0.7_0.0_True_52_x_test_numbers.png (deflated 31%)\n",
            "  adding: i_divergence1_relu_Adam_0.001_0.7999999999999999_0.7_0.0_True_54_decoded_numbers.png (deflated 35%)\n",
            "  adding: i_divergence1_relu_Adam_0.001_0.7999999999999999_0.7_0.0_True_54_x_test_numbers.png (deflated 31%)\n",
            "  adding: i_divergence1_relu_Adam_0.001_0.7999999999999999_0.7_0.0_True_5_decoded_numbers.png (deflated 33%)\n",
            "  adding: i_divergence1_relu_Adam_0.001_0.7999999999999999_0.7_0.0_True_5_x_test_numbers.png (deflated 34%)\n",
            "  adding: i_divergence1_relu_Adam_0.001_0.7999999999999999_0.7_0.0_True_60_decoded_numbers.png (deflated 33%)\n",
            "  adding: i_divergence1_relu_Adam_0.001_0.7999999999999999_0.7_0.0_True_60_x_test_numbers.png (deflated 34%)\n",
            "  adding: i_divergence1_relu_Adam_0.001_0.7999999999999999_0.7_0.0_True_61_decoded_numbers.png (deflated 32%)\n",
            "  adding: i_divergence1_relu_Adam_0.001_0.7999999999999999_0.7_0.0_True_61_x_test_numbers.png (deflated 31%)\n",
            "  adding: i_divergence1_relu_Adam_0.001_0.7999999999999999_0.7_0.0_True_62_decoded_numbers.png (deflated 35%)\n",
            "  adding: i_divergence1_relu_Adam_0.001_0.7999999999999999_0.7_0.0_True_62_x_test_numbers.png (deflated 31%)\n",
            "  adding: i_divergence1_relu_Adam_0.001_0.7999999999999999_0.7999999999999999_0.0_False_35_decoded_numbers.png (deflated 32%)\n",
            "  adding: i_divergence1_relu_Adam_0.001_0.7999999999999999_0.7999999999999999_0.0_False_35_x_test_numbers.png (deflated 30%)\n",
            "  adding: i_divergence1_relu_Adam_0.001_0.7999999999999999_0.7999999999999999_0.0_False_3_decoded_numbers.png (deflated 29%)\n",
            "  adding: i_divergence1_relu_Adam_0.001_0.7999999999999999_0.7999999999999999_0.0_False_3_x_test_numbers.png (deflated 31%)\n",
            "  adding: i_divergence1_relu_Adam_0.001_0.7999999999999999_0.7999999999999999_0.0_False_44_decoded_numbers.png (deflated 32%)\n",
            "  adding: i_divergence1_relu_Adam_0.001_0.7999999999999999_0.7999999999999999_0.0_False_44_x_test_numbers.png (deflated 32%)\n",
            "  adding: i_divergence1_relu_Adam_0.001_0.7999999999999999_0.7999999999999999_0.0_False_48_decoded_numbers.png (deflated 31%)\n",
            "  adding: i_divergence1_relu_Adam_0.001_0.7999999999999999_0.7999999999999999_0.0_False_48_x_test_numbers.png (deflated 31%)\n",
            "  adding: i_divergence1_relu_Adam_0.001_0.7999999999999999_0.7999999999999999_0.0_False_52_decoded_numbers.png (deflated 32%)\n",
            "  adding: i_divergence1_relu_Adam_0.001_0.7999999999999999_0.7999999999999999_0.0_False_52_x_test_numbers.png (deflated 31%)\n",
            "  adding: i_divergence1_relu_Adam_0.001_0.7999999999999999_0.7999999999999999_0.0_False_54_decoded_numbers.png (deflated 33%)\n",
            "  adding: i_divergence1_relu_Adam_0.001_0.7999999999999999_0.7999999999999999_0.0_False_54_x_test_numbers.png (deflated 31%)\n",
            "  adding: i_divergence1_relu_Adam_0.001_0.7999999999999999_0.7999999999999999_0.0_False_5_decoded_numbers.png (deflated 33%)\n",
            "  adding: i_divergence1_relu_Adam_0.001_0.7999999999999999_0.7999999999999999_0.0_False_5_x_test_numbers.png (deflated 34%)\n",
            "  adding: i_divergence1_relu_Adam_0.001_0.7999999999999999_0.7999999999999999_0.0_False_60_decoded_numbers.png (deflated 33%)\n",
            "  adding: i_divergence1_relu_Adam_0.001_0.7999999999999999_0.7999999999999999_0.0_False_60_x_test_numbers.png (deflated 34%)\n",
            "  adding: i_divergence1_relu_Adam_0.001_0.7999999999999999_0.7999999999999999_0.0_False_61_decoded_numbers.png (deflated 31%)\n",
            "  adding: i_divergence1_relu_Adam_0.001_0.7999999999999999_0.7999999999999999_0.0_False_61_x_test_numbers.png (deflated 31%)\n",
            "  adding: i_divergence1_relu_Adam_0.001_0.7999999999999999_0.7999999999999999_0.0_False_62_decoded_numbers.png (deflated 33%)\n",
            "  adding: i_divergence1_relu_Adam_0.001_0.7999999999999999_0.7999999999999999_0.0_False_62_x_test_numbers.png (deflated 31%)\n",
            "  adding: i_divergence1_relu_Adam_0.001_0.7999999999999999_0.7999999999999999_0.0_True_35_decoded_numbers.png (deflated 34%)\n",
            "  adding: i_divergence1_relu_Adam_0.001_0.7999999999999999_0.7999999999999999_0.0_True_35_x_test_numbers.png (deflated 30%)\n",
            "  adding: i_divergence1_relu_Adam_0.001_0.7999999999999999_0.7999999999999999_0.0_True_3_decoded_numbers.png (deflated 30%)\n",
            "  adding: i_divergence1_relu_Adam_0.001_0.7999999999999999_0.7999999999999999_0.0_True_3_x_test_numbers.png (deflated 31%)\n",
            "  adding: i_divergence1_relu_Adam_0.001_0.7999999999999999_0.7999999999999999_0.0_True_44_decoded_numbers.png (deflated 35%)\n",
            "  adding: i_divergence1_relu_Adam_0.001_0.7999999999999999_0.7999999999999999_0.0_True_44_x_test_numbers.png (deflated 32%)\n",
            "  adding: i_divergence1_relu_Adam_0.001_0.7999999999999999_0.7999999999999999_0.0_True_48_decoded_numbers.png (deflated 34%)\n",
            "  adding: i_divergence1_relu_Adam_0.001_0.7999999999999999_0.7999999999999999_0.0_True_48_x_test_numbers.png (deflated 31%)\n",
            "  adding: i_divergence1_relu_Adam_0.001_0.7999999999999999_0.7999999999999999_0.0_True_52_decoded_numbers.png (deflated 33%)\n",
            "  adding: i_divergence1_relu_Adam_0.001_0.7999999999999999_0.7999999999999999_0.0_True_52_x_test_numbers.png (deflated 31%)\n",
            "  adding: i_divergence1_relu_Adam_0.001_0.7999999999999999_0.7999999999999999_0.0_True_54_decoded_numbers.png (deflated 34%)\n",
            "  adding: i_divergence1_relu_Adam_0.001_0.7999999999999999_0.7999999999999999_0.0_True_54_x_test_numbers.png (deflated 31%)\n",
            "  adding: i_divergence1_relu_Adam_0.001_0.7999999999999999_0.7999999999999999_0.0_True_5_decoded_numbers.png (deflated 34%)\n",
            "  adding: i_divergence1_relu_Adam_0.001_0.7999999999999999_0.7999999999999999_0.0_True_5_x_test_numbers.png (deflated 34%)\n",
            "  adding: i_divergence1_relu_Adam_0.001_0.7999999999999999_0.7999999999999999_0.0_True_60_decoded_numbers.png (deflated 30%)\n",
            "  adding: i_divergence1_relu_Adam_0.001_0.7999999999999999_0.7999999999999999_0.0_True_60_x_test_numbers.png (deflated 34%)\n",
            "  adding: i_divergence1_relu_Adam_0.001_0.7999999999999999_0.7999999999999999_0.0_True_61_decoded_numbers.png (deflated 33%)\n",
            "  adding: i_divergence1_relu_Adam_0.001_0.7999999999999999_0.7999999999999999_0.0_True_61_x_test_numbers.png (deflated 31%)\n",
            "  adding: i_divergence1_relu_Adam_0.001_0.7999999999999999_0.7999999999999999_0.0_True_62_decoded_numbers.png (deflated 37%)\n",
            "  adding: i_divergence1_relu_Adam_0.001_0.7999999999999999_0.7999999999999999_0.0_True_62_x_test_numbers.png (deflated 31%)\n",
            "  adding: i_divergence1_relu_Adam_0.001_0.7999999999999999_0.8999999999999999_0.0_False_35_decoded_numbers.png (deflated 32%)\n",
            "  adding: i_divergence1_relu_Adam_0.001_0.7999999999999999_0.8999999999999999_0.0_False_35_x_test_numbers.png (deflated 30%)\n",
            "  adding: i_divergence1_relu_Adam_0.001_0.7999999999999999_0.8999999999999999_0.0_False_3_decoded_numbers.png (deflated 32%)\n",
            "  adding: i_divergence1_relu_Adam_0.001_0.7999999999999999_0.8999999999999999_0.0_False_3_x_test_numbers.png (deflated 31%)\n",
            "  adding: i_divergence1_relu_Adam_0.001_0.7999999999999999_0.8999999999999999_0.0_False_44_decoded_numbers.png (deflated 34%)\n",
            "  adding: i_divergence1_relu_Adam_0.001_0.7999999999999999_0.8999999999999999_0.0_False_44_x_test_numbers.png (deflated 32%)\n",
            "  adding: i_divergence1_relu_Adam_0.001_0.7999999999999999_0.8999999999999999_0.0_False_48_decoded_numbers.png (deflated 31%)\n",
            "  adding: i_divergence1_relu_Adam_0.001_0.7999999999999999_0.8999999999999999_0.0_False_48_x_test_numbers.png (deflated 31%)\n",
            "  adding: i_divergence1_relu_Adam_0.001_0.7999999999999999_0.8999999999999999_0.0_False_52_decoded_numbers.png (deflated 33%)\n",
            "  adding: i_divergence1_relu_Adam_0.001_0.7999999999999999_0.8999999999999999_0.0_False_52_x_test_numbers.png (deflated 31%)\n",
            "  adding: i_divergence1_relu_Adam_0.001_0.7999999999999999_0.8999999999999999_0.0_False_54_decoded_numbers.png (deflated 33%)\n",
            "  adding: i_divergence1_relu_Adam_0.001_0.7999999999999999_0.8999999999999999_0.0_False_54_x_test_numbers.png (deflated 31%)\n",
            "  adding: i_divergence1_relu_Adam_0.001_0.7999999999999999_0.8999999999999999_0.0_False_5_decoded_numbers.png (deflated 34%)\n",
            "  adding: i_divergence1_relu_Adam_0.001_0.7999999999999999_0.8999999999999999_0.0_False_5_x_test_numbers.png (deflated 34%)\n",
            "  adding: i_divergence1_relu_Adam_0.001_0.7999999999999999_0.8999999999999999_0.0_False_60_decoded_numbers.png (deflated 33%)\n",
            "  adding: i_divergence1_relu_Adam_0.001_0.7999999999999999_0.8999999999999999_0.0_False_60_x_test_numbers.png (deflated 34%)\n",
            "  adding: i_divergence1_relu_Adam_0.001_0.7999999999999999_0.8999999999999999_0.0_False_61_decoded_numbers.png (deflated 31%)\n",
            "  adding: i_divergence1_relu_Adam_0.001_0.7999999999999999_0.8999999999999999_0.0_False_61_x_test_numbers.png (deflated 31%)\n",
            "  adding: i_divergence1_relu_Adam_0.001_0.7999999999999999_0.8999999999999999_0.0_False_62_decoded_numbers.png (deflated 34%)\n",
            "  adding: i_divergence1_relu_Adam_0.001_0.7999999999999999_0.8999999999999999_0.0_False_62_x_test_numbers.png (deflated 31%)\n",
            "  adding: i_divergence1_relu_Adam_0.001_0.7999999999999999_0.8999999999999999_0.0_True_35_decoded_numbers.png (deflated 32%)\n",
            "  adding: i_divergence1_relu_Adam_0.001_0.7999999999999999_0.8999999999999999_0.0_True_35_x_test_numbers.png (deflated 30%)\n",
            "  adding: i_divergence1_relu_Adam_0.001_0.7999999999999999_0.8999999999999999_0.0_True_3_decoded_numbers.png (deflated 33%)\n",
            "  adding: i_divergence1_relu_Adam_0.001_0.7999999999999999_0.8999999999999999_0.0_True_3_x_test_numbers.png (deflated 31%)\n",
            "  adding: i_divergence1_relu_Adam_0.001_0.7999999999999999_0.8999999999999999_0.0_True_44_decoded_numbers.png (deflated 34%)\n",
            "  adding: i_divergence1_relu_Adam_0.001_0.7999999999999999_0.8999999999999999_0.0_True_44_x_test_numbers.png (deflated 32%)\n",
            "  adding: i_divergence1_relu_Adam_0.001_0.7999999999999999_0.8999999999999999_0.0_True_48_decoded_numbers.png (deflated 31%)\n",
            "  adding: i_divergence1_relu_Adam_0.001_0.7999999999999999_0.8999999999999999_0.0_True_48_x_test_numbers.png (deflated 31%)\n",
            "  adding: i_divergence1_relu_Adam_0.001_0.7999999999999999_0.8999999999999999_0.0_True_52_decoded_numbers.png (deflated 32%)\n",
            "  adding: i_divergence1_relu_Adam_0.001_0.7999999999999999_0.8999999999999999_0.0_True_52_x_test_numbers.png (deflated 31%)\n",
            "  adding: i_divergence1_relu_Adam_0.001_0.7999999999999999_0.8999999999999999_0.0_True_54_decoded_numbers.png (deflated 33%)\n",
            "  adding: i_divergence1_relu_Adam_0.001_0.7999999999999999_0.8999999999999999_0.0_True_54_x_test_numbers.png (deflated 31%)\n",
            "  adding: i_divergence1_relu_Adam_0.001_0.7999999999999999_0.8999999999999999_0.0_True_5_decoded_numbers.png (deflated 33%)\n",
            "  adding: i_divergence1_relu_Adam_0.001_0.7999999999999999_0.8999999999999999_0.0_True_5_x_test_numbers.png (deflated 34%)\n",
            "  adding: i_divergence1_relu_Adam_0.001_0.7999999999999999_0.8999999999999999_0.0_True_60_decoded_numbers.png (deflated 33%)\n",
            "  adding: i_divergence1_relu_Adam_0.001_0.7999999999999999_0.8999999999999999_0.0_True_60_x_test_numbers.png (deflated 34%)\n",
            "  adding: i_divergence1_relu_Adam_0.001_0.7999999999999999_0.8999999999999999_0.0_True_61_decoded_numbers.png (deflated 32%)\n",
            "  adding: i_divergence1_relu_Adam_0.001_0.7999999999999999_0.8999999999999999_0.0_True_61_x_test_numbers.png (deflated 31%)\n",
            "  adding: i_divergence1_relu_Adam_0.001_0.7999999999999999_0.8999999999999999_0.0_True_62_decoded_numbers.png (deflated 34%)\n",
            "  adding: i_divergence1_relu_Adam_0.001_0.7999999999999999_0.8999999999999999_0.0_True_62_x_test_numbers.png (deflated 31%)\n",
            "  adding: i_divergence1_relu_Adam_0.001_0.8999999999999999_0.7_0.0_False_35_decoded_numbers.png (deflated 39%)\n",
            "  adding: i_divergence1_relu_Adam_0.001_0.8999999999999999_0.7_0.0_False_35_x_test_numbers.png (deflated 30%)\n",
            "  adding: i_divergence1_relu_Adam_0.001_0.8999999999999999_0.7_0.0_False_3_decoded_numbers.png (deflated 39%)\n",
            "  adding: i_divergence1_relu_Adam_0.001_0.8999999999999999_0.7_0.0_False_3_x_test_numbers.png (deflated 31%)\n",
            "  adding: i_divergence1_relu_Adam_0.001_0.8999999999999999_0.7_0.0_False_44_decoded_numbers.png (deflated 39%)\n",
            "  adding: i_divergence1_relu_Adam_0.001_0.8999999999999999_0.7_0.0_False_44_x_test_numbers.png (deflated 32%)\n",
            "  adding: i_divergence1_relu_Adam_0.001_0.8999999999999999_0.7_0.0_False_48_decoded_numbers.png (deflated 39%)\n",
            "  adding: i_divergence1_relu_Adam_0.001_0.8999999999999999_0.7_0.0_False_48_x_test_numbers.png (deflated 31%)\n",
            "  adding: i_divergence1_relu_Adam_0.001_0.8999999999999999_0.7_0.0_False_52_decoded_numbers.png (deflated 39%)\n",
            "  adding: i_divergence1_relu_Adam_0.001_0.8999999999999999_0.7_0.0_False_52_x_test_numbers.png (deflated 31%)\n",
            "  adding: i_divergence1_relu_Adam_0.001_0.8999999999999999_0.7_0.0_False_54_decoded_numbers.png (deflated 39%)\n",
            "  adding: i_divergence1_relu_Adam_0.001_0.8999999999999999_0.7_0.0_False_54_x_test_numbers.png (deflated 31%)\n",
            "  adding: i_divergence1_relu_Adam_0.001_0.8999999999999999_0.7_0.0_False_5_decoded_numbers.png (deflated 39%)\n",
            "  adding: i_divergence1_relu_Adam_0.001_0.8999999999999999_0.7_0.0_False_5_x_test_numbers.png (deflated 34%)\n",
            "  adding: i_divergence1_relu_Adam_0.001_0.8999999999999999_0.7_0.0_False_60_decoded_numbers.png (deflated 39%)\n",
            "  adding: i_divergence1_relu_Adam_0.001_0.8999999999999999_0.7_0.0_False_60_x_test_numbers.png (deflated 34%)\n",
            "  adding: i_divergence1_relu_Adam_0.001_0.8999999999999999_0.7_0.0_False_61_decoded_numbers.png (deflated 39%)\n",
            "  adding: i_divergence1_relu_Adam_0.001_0.8999999999999999_0.7_0.0_False_61_x_test_numbers.png (deflated 31%)\n",
            "  adding: i_divergence1_relu_Adam_0.001_0.8999999999999999_0.7_0.0_False_62_decoded_numbers.png (deflated 39%)\n",
            "  adding: i_divergence1_relu_Adam_0.001_0.8999999999999999_0.7_0.0_False_62_x_test_numbers.png (deflated 31%)\n",
            "  adding: i_divergence1_relu_Adam_0.001_0.8999999999999999_0.7_0.0_True_35_decoded_numbers.png (deflated 35%)\n",
            "  adding: i_divergence1_relu_Adam_0.001_0.8999999999999999_0.7_0.0_True_35_x_test_numbers.png (deflated 30%)\n",
            "  adding: i_divergence1_relu_Adam_0.001_0.8999999999999999_0.7_0.0_True_3_decoded_numbers.png (deflated 34%)\n",
            "  adding: i_divergence1_relu_Adam_0.001_0.8999999999999999_0.7_0.0_True_3_x_test_numbers.png (deflated 31%)\n",
            "  adding: i_divergence1_relu_Adam_0.001_0.8999999999999999_0.7_0.0_True_44_decoded_numbers.png (deflated 34%)\n",
            "  adding: i_divergence1_relu_Adam_0.001_0.8999999999999999_0.7_0.0_True_44_x_test_numbers.png (deflated 32%)\n",
            "  adding: i_divergence1_relu_Adam_0.001_0.8999999999999999_0.7_0.0_True_48_decoded_numbers.png (deflated 34%)\n",
            "  adding: i_divergence1_relu_Adam_0.001_0.8999999999999999_0.7_0.0_True_48_x_test_numbers.png (deflated 31%)\n",
            "  adding: i_divergence1_relu_Adam_0.001_0.8999999999999999_0.7_0.0_True_52_decoded_numbers.png (deflated 34%)\n",
            "  adding: i_divergence1_relu_Adam_0.001_0.8999999999999999_0.7_0.0_True_52_x_test_numbers.png (deflated 31%)\n",
            "  adding: i_divergence1_relu_Adam_0.001_0.8999999999999999_0.7_0.0_True_54_decoded_numbers.png (deflated 36%)\n",
            "  adding: i_divergence1_relu_Adam_0.001_0.8999999999999999_0.7_0.0_True_54_x_test_numbers.png (deflated 31%)\n",
            "  adding: i_divergence1_relu_Adam_0.001_0.8999999999999999_0.7_0.0_True_5_decoded_numbers.png (deflated 33%)\n",
            "  adding: i_divergence1_relu_Adam_0.001_0.8999999999999999_0.7_0.0_True_5_x_test_numbers.png (deflated 34%)\n",
            "  adding: i_divergence1_relu_Adam_0.001_0.8999999999999999_0.7_0.0_True_60_decoded_numbers.png (deflated 35%)\n",
            "  adding: i_divergence1_relu_Adam_0.001_0.8999999999999999_0.7_0.0_True_60_x_test_numbers.png (deflated 34%)\n",
            "  adding: i_divergence1_relu_Adam_0.001_0.8999999999999999_0.7_0.0_True_61_decoded_numbers.png (deflated 35%)\n",
            "  adding: i_divergence1_relu_Adam_0.001_0.8999999999999999_0.7_0.0_True_61_x_test_numbers.png (deflated 31%)\n",
            "  adding: i_divergence1_relu_Adam_0.001_0.8999999999999999_0.7_0.0_True_62_decoded_numbers.png (deflated 37%)\n",
            "  adding: i_divergence1_relu_Adam_0.001_0.8999999999999999_0.7_0.0_True_62_x_test_numbers.png (deflated 31%)\n",
            "  adding: i_divergence1_relu_Adam_0.001_0.8999999999999999_0.7999999999999999_0.0_False_35_decoded_numbers.png (deflated 39%)\n",
            "  adding: i_divergence1_relu_Adam_0.001_0.8999999999999999_0.7999999999999999_0.0_False_35_x_test_numbers.png (deflated 30%)\n",
            "  adding: i_divergence1_relu_Adam_0.001_0.8999999999999999_0.7999999999999999_0.0_False_3_decoded_numbers.png (deflated 39%)\n",
            "  adding: i_divergence1_relu_Adam_0.001_0.8999999999999999_0.7999999999999999_0.0_False_3_x_test_numbers.png (deflated 31%)\n",
            "  adding: i_divergence1_relu_Adam_0.001_0.8999999999999999_0.7999999999999999_0.0_False_44_decoded_numbers.png (deflated 37%)\n",
            "  adding: i_divergence1_relu_Adam_0.001_0.8999999999999999_0.7999999999999999_0.0_False_44_x_test_numbers.png (deflated 32%)\n",
            "  adding: i_divergence1_relu_Adam_0.001_0.8999999999999999_0.7999999999999999_0.0_False_48_decoded_numbers.png (deflated 38%)\n",
            "  adding: i_divergence1_relu_Adam_0.001_0.8999999999999999_0.7999999999999999_0.0_False_48_x_test_numbers.png (deflated 31%)\n",
            "  adding: i_divergence1_relu_Adam_0.001_0.8999999999999999_0.7999999999999999_0.0_False_52_decoded_numbers.png (deflated 37%)\n",
            "  adding: i_divergence1_relu_Adam_0.001_0.8999999999999999_0.7999999999999999_0.0_False_52_x_test_numbers.png (deflated 31%)\n",
            "  adding: i_divergence1_relu_Adam_0.001_0.8999999999999999_0.7999999999999999_0.0_False_54_decoded_numbers.png (deflated 39%)\n",
            "  adding: i_divergence1_relu_Adam_0.001_0.8999999999999999_0.7999999999999999_0.0_False_54_x_test_numbers.png (deflated 31%)\n",
            "  adding: i_divergence1_relu_Adam_0.001_0.8999999999999999_0.7999999999999999_0.0_False_5_decoded_numbers.png (deflated 37%)\n",
            "  adding: i_divergence1_relu_Adam_0.001_0.8999999999999999_0.7999999999999999_0.0_False_5_x_test_numbers.png (deflated 34%)\n",
            "  adding: i_divergence1_relu_Adam_0.001_0.8999999999999999_0.7999999999999999_0.0_False_60_decoded_numbers.png (deflated 39%)\n",
            "  adding: i_divergence1_relu_Adam_0.001_0.8999999999999999_0.7999999999999999_0.0_False_60_x_test_numbers.png (deflated 34%)\n",
            "  adding: i_divergence1_relu_Adam_0.001_0.8999999999999999_0.7999999999999999_0.0_False_61_decoded_numbers.png (deflated 38%)\n",
            "  adding: i_divergence1_relu_Adam_0.001_0.8999999999999999_0.7999999999999999_0.0_False_61_x_test_numbers.png (deflated 31%)\n",
            "  adding: i_divergence1_relu_Adam_0.001_0.8999999999999999_0.7999999999999999_0.0_False_62_decoded_numbers.png (deflated 39%)\n",
            "  adding: i_divergence1_relu_Adam_0.001_0.8999999999999999_0.7999999999999999_0.0_False_62_x_test_numbers.png (deflated 31%)\n",
            "  adding: i_divergence1_relu_Adam_0.001_0.8999999999999999_0.7999999999999999_0.0_True_35_decoded_numbers.png (deflated 35%)\n",
            "  adding: i_divergence1_relu_Adam_0.001_0.8999999999999999_0.7999999999999999_0.0_True_35_x_test_numbers.png (deflated 30%)\n",
            "  adding: i_divergence1_relu_Adam_0.001_0.8999999999999999_0.7999999999999999_0.0_True_3_decoded_numbers.png (deflated 33%)\n",
            "  adding: i_divergence1_relu_Adam_0.001_0.8999999999999999_0.7999999999999999_0.0_True_3_x_test_numbers.png (deflated 31%)\n",
            "  adding: i_divergence1_relu_Adam_0.001_0.8999999999999999_0.7999999999999999_0.0_True_44_decoded_numbers.png (deflated 34%)\n",
            "  adding: i_divergence1_relu_Adam_0.001_0.8999999999999999_0.7999999999999999_0.0_True_44_x_test_numbers.png (deflated 32%)\n",
            "  adding: i_divergence1_relu_Adam_0.001_0.8999999999999999_0.7999999999999999_0.0_True_48_decoded_numbers.png (deflated 34%)\n",
            "  adding: i_divergence1_relu_Adam_0.001_0.8999999999999999_0.7999999999999999_0.0_True_48_x_test_numbers.png (deflated 31%)\n",
            "  adding: i_divergence1_relu_Adam_0.001_0.8999999999999999_0.7999999999999999_0.0_True_52_decoded_numbers.png (deflated 35%)\n",
            "  adding: i_divergence1_relu_Adam_0.001_0.8999999999999999_0.7999999999999999_0.0_True_52_x_test_numbers.png (deflated 31%)\n",
            "  adding: i_divergence1_relu_Adam_0.001_0.8999999999999999_0.7999999999999999_0.0_True_54_decoded_numbers.png (deflated 35%)\n",
            "  adding: i_divergence1_relu_Adam_0.001_0.8999999999999999_0.7999999999999999_0.0_True_54_x_test_numbers.png (deflated 31%)\n",
            "  adding: i_divergence1_relu_Adam_0.001_0.8999999999999999_0.7999999999999999_0.0_True_5_decoded_numbers.png (deflated 34%)\n",
            "  adding: i_divergence1_relu_Adam_0.001_0.8999999999999999_0.7999999999999999_0.0_True_5_x_test_numbers.png (deflated 34%)\n",
            "  adding: i_divergence1_relu_Adam_0.001_0.8999999999999999_0.7999999999999999_0.0_True_60_decoded_numbers.png (deflated 34%)\n",
            "  adding: i_divergence1_relu_Adam_0.001_0.8999999999999999_0.7999999999999999_0.0_True_60_x_test_numbers.png (deflated 34%)\n",
            "  adding: i_divergence1_relu_Adam_0.001_0.8999999999999999_0.7999999999999999_0.0_True_61_decoded_numbers.png (deflated 33%)\n",
            "  adding: i_divergence1_relu_Adam_0.001_0.8999999999999999_0.7999999999999999_0.0_True_61_x_test_numbers.png (deflated 31%)\n",
            "  adding: i_divergence1_relu_Adam_0.001_0.8999999999999999_0.7999999999999999_0.0_True_62_decoded_numbers.png (deflated 35%)\n",
            "  adding: i_divergence1_relu_Adam_0.001_0.8999999999999999_0.7999999999999999_0.0_True_62_x_test_numbers.png (deflated 31%)\n",
            "  adding: i_divergence1_relu_Adam_0.001_0.8999999999999999_0.8999999999999999_0.0_False_35_decoded_numbers.png (deflated 37%)\n",
            "  adding: i_divergence1_relu_Adam_0.001_0.8999999999999999_0.8999999999999999_0.0_False_35_x_test_numbers.png (deflated 30%)\n",
            "  adding: i_divergence1_relu_Adam_0.001_0.8999999999999999_0.8999999999999999_0.0_False_3_decoded_numbers.png (deflated 33%)\n",
            "  adding: i_divergence1_relu_Adam_0.001_0.8999999999999999_0.8999999999999999_0.0_False_3_x_test_numbers.png (deflated 31%)\n",
            "  adding: i_divergence1_relu_Adam_0.001_0.8999999999999999_0.8999999999999999_0.0_False_44_decoded_numbers.png (deflated 39%)\n",
            "  adding: i_divergence1_relu_Adam_0.001_0.8999999999999999_0.8999999999999999_0.0_False_44_x_test_numbers.png (deflated 32%)\n",
            "  adding: i_divergence1_relu_Adam_0.001_0.8999999999999999_0.8999999999999999_0.0_False_48_decoded_numbers.png (deflated 39%)\n",
            "  adding: i_divergence1_relu_Adam_0.001_0.8999999999999999_0.8999999999999999_0.0_False_48_x_test_numbers.png (deflated 31%)\n",
            "  adding: i_divergence1_relu_Adam_0.001_0.8999999999999999_0.8999999999999999_0.0_False_52_decoded_numbers.png (deflated 35%)\n",
            "  adding: i_divergence1_relu_Adam_0.001_0.8999999999999999_0.8999999999999999_0.0_False_52_x_test_numbers.png (deflated 31%)\n",
            "  adding: i_divergence1_relu_Adam_0.001_0.8999999999999999_0.8999999999999999_0.0_False_54_decoded_numbers.png (deflated 37%)\n",
            "  adding: i_divergence1_relu_Adam_0.001_0.8999999999999999_0.8999999999999999_0.0_False_54_x_test_numbers.png (deflated 31%)\n",
            "  adding: i_divergence1_relu_Adam_0.001_0.8999999999999999_0.8999999999999999_0.0_False_5_decoded_numbers.png (deflated 35%)\n",
            "  adding: i_divergence1_relu_Adam_0.001_0.8999999999999999_0.8999999999999999_0.0_False_5_x_test_numbers.png (deflated 34%)\n",
            "  adding: i_divergence1_relu_Adam_0.001_0.8999999999999999_0.8999999999999999_0.0_False_60_decoded_numbers.png (deflated 37%)\n",
            "  adding: i_divergence1_relu_Adam_0.001_0.8999999999999999_0.8999999999999999_0.0_False_60_x_test_numbers.png (deflated 34%)\n",
            "  adding: i_divergence1_relu_Adam_0.001_0.8999999999999999_0.8999999999999999_0.0_False_61_decoded_numbers.png (deflated 37%)\n",
            "  adding: i_divergence1_relu_Adam_0.001_0.8999999999999999_0.8999999999999999_0.0_False_61_x_test_numbers.png (deflated 31%)\n",
            "  adding: i_divergence1_relu_Adam_0.001_0.8999999999999999_0.8999999999999999_0.0_False_62_decoded_numbers.png (deflated 36%)\n",
            "  adding: i_divergence1_relu_Adam_0.001_0.8999999999999999_0.8999999999999999_0.0_False_62_x_test_numbers.png (deflated 31%)\n",
            "  adding: i_divergence1_relu_Adam_0.001_0.8999999999999999_0.8999999999999999_0.0_True_35_decoded_numbers.png (deflated 34%)\n",
            "  adding: i_divergence1_relu_Adam_0.001_0.8999999999999999_0.8999999999999999_0.0_True_35_x_test_numbers.png (deflated 30%)\n",
            "  adding: i_divergence1_relu_Adam_0.001_0.8999999999999999_0.8999999999999999_0.0_True_3_decoded_numbers.png (deflated 32%)\n",
            "  adding: i_divergence1_relu_Adam_0.001_0.8999999999999999_0.8999999999999999_0.0_True_3_x_test_numbers.png (deflated 31%)\n",
            "  adding: i_divergence1_relu_Adam_0.001_0.8999999999999999_0.8999999999999999_0.0_True_44_decoded_numbers.png (deflated 33%)\n",
            "  adding: i_divergence1_relu_Adam_0.001_0.8999999999999999_0.8999999999999999_0.0_True_44_x_test_numbers.png (deflated 32%)\n",
            "  adding: i_divergence1_relu_Adam_0.001_0.8999999999999999_0.8999999999999999_0.0_True_48_decoded_numbers.png (deflated 34%)\n",
            "  adding: i_divergence1_relu_Adam_0.001_0.8999999999999999_0.8999999999999999_0.0_True_48_x_test_numbers.png (deflated 31%)\n",
            "  adding: i_divergence1_relu_Adam_0.001_0.8999999999999999_0.8999999999999999_0.0_True_52_decoded_numbers.png (deflated 34%)\n",
            "  adding: i_divergence1_relu_Adam_0.001_0.8999999999999999_0.8999999999999999_0.0_True_52_x_test_numbers.png (deflated 31%)\n",
            "  adding: i_divergence1_relu_Adam_0.001_0.8999999999999999_0.8999999999999999_0.0_True_54_decoded_numbers.png (deflated 36%)\n",
            "  adding: i_divergence1_relu_Adam_0.001_0.8999999999999999_0.8999999999999999_0.0_True_54_x_test_numbers.png (deflated 31%)\n",
            "  adding: i_divergence1_relu_Adam_0.001_0.8999999999999999_0.8999999999999999_0.0_True_5_decoded_numbers.png (deflated 33%)\n",
            "  adding: i_divergence1_relu_Adam_0.001_0.8999999999999999_0.8999999999999999_0.0_True_5_x_test_numbers.png (deflated 34%)\n",
            "  adding: i_divergence1_relu_Adam_0.001_0.8999999999999999_0.8999999999999999_0.0_True_60_decoded_numbers.png (deflated 33%)\n",
            "  adding: i_divergence1_relu_Adam_0.001_0.8999999999999999_0.8999999999999999_0.0_True_60_x_test_numbers.png (deflated 34%)\n",
            "  adding: i_divergence1_relu_Adam_0.001_0.8999999999999999_0.8999999999999999_0.0_True_61_decoded_numbers.png (deflated 34%)\n",
            "  adding: i_divergence1_relu_Adam_0.001_0.8999999999999999_0.8999999999999999_0.0_True_61_x_test_numbers.png (deflated 31%)\n",
            "  adding: i_divergence1_relu_Adam_0.001_0.8999999999999999_0.8999999999999999_0.0_True_62_decoded_numbers.png (deflated 35%)\n",
            "  adding: i_divergence1_relu_Adam_0.001_0.8999999999999999_0.8999999999999999_0.0_True_62_x_test_numbers.png (deflated 31%)\n",
            "  adding: i_divergence1_relu_Adam_0.0005_0.7_0.7_0.0_False_loss_history.txt (deflated 56%)\n",
            "  adding: i_divergence1_relu_Adam_0.0005_0.7_0.7_0.0_False_val_loss_history.txt (deflated 56%)\n",
            "  adding: i_divergence1_relu_Adam_0.0005_0.7_0.7_0.0_True_loss_history.txt (deflated 60%)\n",
            "  adding: i_divergence1_relu_Adam_0.0005_0.7_0.7_0.0_True_val_loss_history.txt (deflated 60%)\n",
            "  adding: i_divergence1_relu_Adam_0.0005_0.7_0.7999999999999999_0.0_False_loss_history.txt (deflated 56%)\n",
            "  adding: i_divergence1_relu_Adam_0.0005_0.7_0.7999999999999999_0.0_False_val_loss_history.txt (deflated 57%)\n",
            "  adding: i_divergence1_relu_Adam_0.0005_0.7_0.7999999999999999_0.0_True_loss_history.txt (deflated 59%)\n",
            "  adding: i_divergence1_relu_Adam_0.0005_0.7_0.7999999999999999_0.0_True_val_loss_history.txt (deflated 59%)\n",
            "  adding: i_divergence1_relu_Adam_0.0005_0.7_0.8999999999999999_0.0_False_loss_history.txt (deflated 56%)\n",
            "  adding: i_divergence1_relu_Adam_0.0005_0.7_0.8999999999999999_0.0_False_val_loss_history.txt (deflated 56%)\n",
            "  adding: i_divergence1_relu_Adam_0.0005_0.7_0.8999999999999999_0.0_True_loss_history.txt (deflated 57%)\n",
            "  adding: i_divergence1_relu_Adam_0.0005_0.7_0.8999999999999999_0.0_True_val_loss_history.txt (deflated 57%)\n",
            "  adding: i_divergence1_relu_Adam_0.0005_0.7999999999999999_0.7_0.0_False_loss_history.txt (deflated 58%)\n",
            "  adding: i_divergence1_relu_Adam_0.0005_0.7999999999999999_0.7_0.0_False_val_loss_history.txt (deflated 58%)\n",
            "  adding: i_divergence1_relu_Adam_0.0005_0.7999999999999999_0.7_0.0_True_loss_history.txt (deflated 59%)\n",
            "  adding: i_divergence1_relu_Adam_0.0005_0.7999999999999999_0.7_0.0_True_val_loss_history.txt (deflated 59%)\n",
            "  adding: i_divergence1_relu_Adam_0.0005_0.7999999999999999_0.7999999999999999_0.0_False_loss_history.txt (deflated 57%)\n",
            "  adding: i_divergence1_relu_Adam_0.0005_0.7999999999999999_0.7999999999999999_0.0_False_val_loss_history.txt (deflated 57%)\n",
            "  adding: i_divergence1_relu_Adam_0.0005_0.7999999999999999_0.7999999999999999_0.0_True_loss_history.txt (deflated 59%)\n",
            "  adding: i_divergence1_relu_Adam_0.0005_0.7999999999999999_0.7999999999999999_0.0_True_val_loss_history.txt (deflated 59%)\n",
            "  adding: i_divergence1_relu_Adam_0.0005_0.7999999999999999_0.8999999999999999_0.0_False_loss_history.txt (deflated 56%)\n",
            "  adding: i_divergence1_relu_Adam_0.0005_0.7999999999999999_0.8999999999999999_0.0_False_val_loss_history.txt (deflated 57%)\n",
            "  adding: i_divergence1_relu_Adam_0.0005_0.7999999999999999_0.8999999999999999_0.0_True_loss_history.txt (deflated 60%)\n",
            "  adding: i_divergence1_relu_Adam_0.0005_0.7999999999999999_0.8999999999999999_0.0_True_val_loss_history.txt (deflated 60%)\n",
            "  adding: i_divergence1_relu_Adam_0.0005_0.8999999999999999_0.7_0.0_False_loss_history.txt (deflated 67%)\n",
            "  adding: i_divergence1_relu_Adam_0.0005_0.8999999999999999_0.7_0.0_False_val_loss_history.txt (deflated 65%)\n",
            "  adding: i_divergence1_relu_Adam_0.0005_0.8999999999999999_0.7_0.0_True_loss_history.txt (deflated 59%)\n",
            "  adding: i_divergence1_relu_Adam_0.0005_0.8999999999999999_0.7_0.0_True_val_loss_history.txt (deflated 59%)\n",
            "  adding: i_divergence1_relu_Adam_0.0005_0.8999999999999999_0.7999999999999999_0.0_False_loss_history.txt (deflated 61%)\n",
            "  adding: i_divergence1_relu_Adam_0.0005_0.8999999999999999_0.7999999999999999_0.0_False_val_loss_history.txt (deflated 61%)\n",
            "  adding: i_divergence1_relu_Adam_0.0005_0.8999999999999999_0.7999999999999999_0.0_True_loss_history.txt (deflated 60%)\n",
            "  adding: i_divergence1_relu_Adam_0.0005_0.8999999999999999_0.7999999999999999_0.0_True_val_loss_history.txt (deflated 60%)\n",
            "  adding: i_divergence1_relu_Adam_0.0005_0.8999999999999999_0.8999999999999999_0.0_False_loss_history.txt (deflated 56%)\n",
            "  adding: i_divergence1_relu_Adam_0.0005_0.8999999999999999_0.8999999999999999_0.0_False_val_loss_history.txt (deflated 57%)\n",
            "  adding: i_divergence1_relu_Adam_0.0005_0.8999999999999999_0.8999999999999999_0.0_True_loss_history.txt (deflated 59%)\n",
            "  adding: i_divergence1_relu_Adam_0.0005_0.8999999999999999_0.8999999999999999_0.0_True_val_loss_history.txt (deflated 59%)\n",
            "  adding: i_divergence1_relu_Adam_0.001_0.7_0.7_0.0_False_loss_history.txt (deflated 57%)\n",
            "  adding: i_divergence1_relu_Adam_0.001_0.7_0.7_0.0_False_val_loss_history.txt (deflated 57%)\n",
            "  adding: i_divergence1_relu_Adam_0.001_0.7_0.7_0.0_True_loss_history.txt (deflated 56%)\n",
            "  adding: i_divergence1_relu_Adam_0.001_0.7_0.7_0.0_True_val_loss_history.txt (deflated 56%)\n",
            "  adding: i_divergence1_relu_Adam_0.001_0.7_0.7999999999999999_0.0_False_loss_history.txt (deflated 57%)\n",
            "  adding: i_divergence1_relu_Adam_0.001_0.7_0.7999999999999999_0.0_False_val_loss_history.txt (deflated 57%)\n",
            "  adding: i_divergence1_relu_Adam_0.001_0.7_0.7999999999999999_0.0_True_loss_history.txt (deflated 57%)\n",
            "  adding: i_divergence1_relu_Adam_0.001_0.7_0.7999999999999999_0.0_True_val_loss_history.txt (deflated 57%)\n",
            "  adding: i_divergence1_relu_Adam_0.001_0.7_0.8999999999999999_0.0_False_loss_history.txt (deflated 57%)\n",
            "  adding: i_divergence1_relu_Adam_0.001_0.7_0.8999999999999999_0.0_False_val_loss_history.txt (deflated 57%)\n",
            "  adding: i_divergence1_relu_Adam_0.001_0.7_0.8999999999999999_0.0_True_loss_history.txt (deflated 56%)\n",
            "  adding: i_divergence1_relu_Adam_0.001_0.7_0.8999999999999999_0.0_True_val_loss_history.txt (deflated 56%)\n",
            "  adding: i_divergence1_relu_Adam_0.001_0.7999999999999999_0.7_0.0_False_loss_history.txt (deflated 60%)\n",
            "  adding: i_divergence1_relu_Adam_0.001_0.7999999999999999_0.7_0.0_False_val_loss_history.txt (deflated 61%)\n",
            "  adding: i_divergence1_relu_Adam_0.001_0.7999999999999999_0.7_0.0_True_loss_history.txt (deflated 58%)\n",
            "  adding: i_divergence1_relu_Adam_0.001_0.7999999999999999_0.7_0.0_True_val_loss_history.txt (deflated 58%)\n",
            "  adding: i_divergence1_relu_Adam_0.001_0.7999999999999999_0.7999999999999999_0.0_False_loss_history.txt (deflated 57%)\n",
            "  adding: i_divergence1_relu_Adam_0.001_0.7999999999999999_0.7999999999999999_0.0_False_val_loss_history.txt (deflated 57%)\n",
            "  adding: i_divergence1_relu_Adam_0.001_0.7999999999999999_0.7999999999999999_0.0_True_loss_history.txt (deflated 58%)\n",
            "  adding: i_divergence1_relu_Adam_0.001_0.7999999999999999_0.7999999999999999_0.0_True_val_loss_history.txt (deflated 58%)\n",
            "  adding: i_divergence1_relu_Adam_0.001_0.7999999999999999_0.8999999999999999_0.0_False_loss_history.txt (deflated 57%)\n",
            "  adding: i_divergence1_relu_Adam_0.001_0.7999999999999999_0.8999999999999999_0.0_False_val_loss_history.txt (deflated 57%)\n",
            "  adding: i_divergence1_relu_Adam_0.001_0.7999999999999999_0.8999999999999999_0.0_True_loss_history.txt (deflated 56%)\n",
            "  adding: i_divergence1_relu_Adam_0.001_0.7999999999999999_0.8999999999999999_0.0_True_val_loss_history.txt (deflated 56%)\n",
            "  adding: i_divergence1_relu_Adam_0.001_0.8999999999999999_0.7_0.0_False_loss_history.txt (deflated 66%)\n",
            "  adding: i_divergence1_relu_Adam_0.001_0.8999999999999999_0.7_0.0_False_val_loss_history.txt (deflated 65%)\n",
            "  adding: i_divergence1_relu_Adam_0.001_0.8999999999999999_0.7_0.0_True_loss_history.txt (deflated 60%)\n",
            "  adding: i_divergence1_relu_Adam_0.001_0.8999999999999999_0.7_0.0_True_val_loss_history.txt (deflated 60%)\n",
            "  adding: i_divergence1_relu_Adam_0.001_0.8999999999999999_0.7999999999999999_0.0_False_loss_history.txt (deflated 62%)\n",
            "  adding: i_divergence1_relu_Adam_0.001_0.8999999999999999_0.7999999999999999_0.0_False_val_loss_history.txt (deflated 62%)\n",
            "  adding: i_divergence1_relu_Adam_0.001_0.8999999999999999_0.7999999999999999_0.0_True_loss_history.txt (deflated 59%)\n",
            "  adding: i_divergence1_relu_Adam_0.001_0.8999999999999999_0.7999999999999999_0.0_True_val_loss_history.txt (deflated 59%)\n",
            "  adding: i_divergence1_relu_Adam_0.001_0.8999999999999999_0.8999999999999999_0.0_False_loss_history.txt (deflated 60%)\n",
            "  adding: i_divergence1_relu_Adam_0.001_0.8999999999999999_0.8999999999999999_0.0_False_val_loss_history.txt (deflated 60%)\n",
            "  adding: i_divergence1_relu_Adam_0.001_0.8999999999999999_0.8999999999999999_0.0_True_loss_history.txt (deflated 57%)\n",
            "  adding: i_divergence1_relu_Adam_0.001_0.8999999999999999_0.8999999999999999_0.0_True_val_loss_history.txt (deflated 58%)\n"
          ],
          "name": "stdout"
        }
      ]
    },
    {
      "metadata": {
        "id": "_j9zZq4yb4Sc",
        "colab_type": "code",
        "colab": {}
      },
      "cell_type": "code",
      "source": [
        "# https://www.tensorflow.org/api_docs/python/tf/image/ssim\n",
        "'''\n",
        "This function is based on the standard SSIM implementation from:\n",
        "Wang, Z., Bovik, A. C., Sheikh, H. R., & Simoncelli, E. P. (2004).\n",
        "Image quality assessment: from error visibility to structural similarity. \n",
        "IEEE transactions on image processing\n",
        "'''\n"
      ],
      "execution_count": 0,
      "outputs": []
    }
  ]
}