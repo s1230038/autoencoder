{
  "nbformat": 4,
  "nbformat_minor": 0,
  "metadata": {
    "colab": {
      "name": "I-divergenceAutoencoder.ipynb",
      "version": "0.3.2",
      "provenance": [],
      "collapsed_sections": [],
      "include_colab_link": true
    },
    "kernelspec": {
      "name": "python3",
      "display_name": "Python 3"
    },
    "accelerator": "GPU"
  },
  "cells": [
    {
      "cell_type": "markdown",
      "metadata": {
        "id": "view-in-github",
        "colab_type": "text"
      },
      "source": [
        "<a href=\"https://colab.research.google.com/github/s1230038/autoencoder/blob/master/I_divergenceAutoencoder.ipynb\" target=\"_parent\"><img src=\"https://colab.research.google.com/assets/colab-badge.svg\" alt=\"Open In Colab\"/></a>"
      ]
    },
    {
      "metadata": {
        "id": "d5NaL7in5Jc1",
        "colab_type": "code",
        "outputId": "999606a1-c0d5-435e-c978-421c5fc2fe1c",
        "colab": {
          "base_uri": "https://localhost:8080/",
          "height": 1928
        }
      },
      "cell_type": "code",
      "source": [
        "# Simple Autoencoder not using I-divergence\n",
        "# Original: https://elix-tech.github.io/ja/2016/07/17/autoencoder.html\n",
        "# https://colab.research.google.com/drive/1Z_d8APkMUDwXDQIg3OI7E13vH8IZhusM?authuser=1#scrollTo=WmBfOis_mWCH\n",
        "from keras.layers import Input, Dense\n",
        "from keras.models import Model\n",
        "from keras.datasets import mnist\n",
        "import numpy as np\n",
        "from keras.datasets import mnist\n",
        "from keras import backend as K\n",
        "from keras import metrics\n",
        "\n",
        "# imititing mean_squared_error():\n",
        "# 青イルカ P.57では二乗誤差の総和を使用しているが、これをKerasで実装する場合は平均二乗誤差（mean_squared_error)\n",
        "# をloss に渡す必要がある。なぜなら、Kerasはミニバッチでfit()を計算するからである。青イルカ P.27参照。\n",
        "# 𝒙 ̂_𝑛 :y_pred,  𝒙_𝑛 : y_true, because x_n is training data which means label.\n",
        "def i_divergence(y_true, y_pred):\n",
        "  print(\"Call i_divergence\")\n",
        "  y_true = K.clip(y_true, K.epsilon(), 1)\n",
        "  y_pred = K.clip(y_pred, K.epsilon(), 1)\n",
        "  return K.mean(y_pred * K.log(y_pred / y_true) - y_pred + y_true, axis=-1)\n",
        "# return K.mean(y_true * K.log(y_true / y_pred) - y_true + y_pred, axis=-1)\n",
        "\n",
        "\n",
        "encoding_dim = 32\n",
        "input_img = Input(shape=(784,))\n",
        "#　Let us apply ReLU to both encoder activation and decoder activation。 \n",
        "encoded = Dense(encoding_dim, activation='relu')(input_img)\n",
        "decoded = Dense(784, activation='relu')(encoded) \n",
        "autoencoder = Model(inputs=input_img, outputs=decoded) # https://medium.com/@zhuixiyou/userwarning-update-your-model-call-to-the-keras-2-api-8a6a5955daac\n",
        "\n",
        "autoencoder.compile(optimizer='adam', metrics=[metrics.binary_accuracy], loss=i_divergence)\n",
        "\n",
        "# Download MNIST and standardize, learning\n",
        "(x_train, _), (x_test, _) = mnist.load_data()\n",
        "# we will restrict domain of definition of the input data to the below expression with normalization of the input.\n",
        "x_train = x_train.astype('float32') / 255. # 画像データは0から1の値を取るように規格化\n",
        "x_test = x_test.astype('float32') / 255.\n",
        "# x_trainは (60000, 28, 28) という形をしていますが、784次元の入力になるように (60000, 784) に変形\n",
        "x_train = x_train.reshape((len(x_train), np.prod(x_train.shape[1:])))\n",
        "x_test = x_test.reshape((len(x_test), np.prod(x_test.shape[1:])))\n",
        "\n",
        "autoencoder.fit(x_train, x_train,\n",
        "                nb_epoch=50,\n",
        "                batch_size=256,\n",
        "                shuffle=True,\n",
        "                validation_data=(x_test, x_test))\n"
      ],
      "execution_count": 2,
      "outputs": [
        {
          "output_type": "stream",
          "text": [
            "Call i_divergence\n"
          ],
          "name": "stdout"
        },
        {
          "output_type": "stream",
          "text": [
            "/usr/local/lib/python3.6/dist-packages/ipykernel_launcher.py:43: UserWarning: The `nb_epoch` argument in `fit` has been renamed `epochs`.\n"
          ],
          "name": "stderr"
        },
        {
          "output_type": "stream",
          "text": [
            "Train on 60000 samples, validate on 10000 samples\n",
            "Epoch 1/50\n",
            "60000/60000 [==============================] - 2s 37us/step - loss: 0.1373 - binary_accuracy: 0.8088 - val_loss: 0.1325 - val_binary_accuracy: 0.8072\n",
            "Epoch 2/50\n",
            "60000/60000 [==============================] - 1s 25us/step - loss: 0.1306 - binary_accuracy: 0.8088 - val_loss: 0.1324 - val_binary_accuracy: 0.8072\n",
            "Epoch 3/50\n",
            "60000/60000 [==============================] - 1s 24us/step - loss: 0.1305 - binary_accuracy: 0.8088 - val_loss: 0.1322 - val_binary_accuracy: 0.8072\n",
            "Epoch 4/50\n",
            "60000/60000 [==============================] - 1s 23us/step - loss: 0.1298 - binary_accuracy: 0.8088 - val_loss: 0.1305 - val_binary_accuracy: 0.8073\n",
            "Epoch 5/50\n",
            "60000/60000 [==============================] - 1s 23us/step - loss: 0.1268 - binary_accuracy: 0.8089 - val_loss: 0.1271 - val_binary_accuracy: 0.8075\n",
            "Epoch 6/50\n",
            "60000/60000 [==============================] - 1s 24us/step - loss: 0.1238 - binary_accuracy: 0.8091 - val_loss: 0.1216 - val_binary_accuracy: 0.8077\n",
            "Epoch 7/50\n",
            "60000/60000 [==============================] - 1s 23us/step - loss: 0.1131 - binary_accuracy: 0.8095 - val_loss: 0.1085 - val_binary_accuracy: 0.8082\n",
            "Epoch 8/50\n",
            "60000/60000 [==============================] - 1s 23us/step - loss: 0.1033 - binary_accuracy: 0.8100 - val_loss: 0.1005 - val_binary_accuracy: 0.8087\n",
            "Epoch 9/50\n",
            "60000/60000 [==============================] - 1s 23us/step - loss: 0.0972 - binary_accuracy: 0.8103 - val_loss: 0.0939 - val_binary_accuracy: 0.8091\n",
            "Epoch 10/50\n",
            "60000/60000 [==============================] - 1s 23us/step - loss: 0.0911 - binary_accuracy: 0.8106 - val_loss: 0.0895 - val_binary_accuracy: 0.8095\n",
            "Epoch 11/50\n",
            "60000/60000 [==============================] - 1s 23us/step - loss: 0.0866 - binary_accuracy: 0.8109 - val_loss: 0.0844 - val_binary_accuracy: 0.8097\n",
            "Epoch 12/50\n",
            "60000/60000 [==============================] - 1s 24us/step - loss: 0.0817 - binary_accuracy: 0.8111 - val_loss: 0.0800 - val_binary_accuracy: 0.8099\n",
            "Epoch 13/50\n",
            "60000/60000 [==============================] - 1s 23us/step - loss: 0.0779 - binary_accuracy: 0.8113 - val_loss: 0.0765 - val_binary_accuracy: 0.8101\n",
            "Epoch 14/50\n",
            "60000/60000 [==============================] - 1s 23us/step - loss: 0.0746 - binary_accuracy: 0.8115 - val_loss: 0.0731 - val_binary_accuracy: 0.8102\n",
            "Epoch 15/50\n",
            "60000/60000 [==============================] - 1s 24us/step - loss: 0.0709 - binary_accuracy: 0.8116 - val_loss: 0.0692 - val_binary_accuracy: 0.8104\n",
            "Epoch 16/50\n",
            "60000/60000 [==============================] - 1s 23us/step - loss: 0.0684 - binary_accuracy: 0.8117 - val_loss: 0.0679 - val_binary_accuracy: 0.8104\n",
            "Epoch 17/50\n",
            "60000/60000 [==============================] - 1s 24us/step - loss: 0.0672 - binary_accuracy: 0.8117 - val_loss: 0.0669 - val_binary_accuracy: 0.8104\n",
            "Epoch 18/50\n",
            "60000/60000 [==============================] - 1s 23us/step - loss: 0.0662 - binary_accuracy: 0.8117 - val_loss: 0.0652 - val_binary_accuracy: 0.8104\n",
            "Epoch 19/50\n",
            "60000/60000 [==============================] - 1s 23us/step - loss: 0.0643 - binary_accuracy: 0.8118 - val_loss: 0.0641 - val_binary_accuracy: 0.8104\n",
            "Epoch 20/50\n",
            "60000/60000 [==============================] - 1s 23us/step - loss: 0.0636 - binary_accuracy: 0.8118 - val_loss: 0.0637 - val_binary_accuracy: 0.8104\n",
            "Epoch 21/50\n",
            "60000/60000 [==============================] - 1s 23us/step - loss: 0.0632 - binary_accuracy: 0.8117 - val_loss: 0.0630 - val_binary_accuracy: 0.8104\n",
            "Epoch 22/50\n",
            "60000/60000 [==============================] - 1s 24us/step - loss: 0.0623 - binary_accuracy: 0.8117 - val_loss: 0.0619 - val_binary_accuracy: 0.8103\n",
            "Epoch 23/50\n",
            "60000/60000 [==============================] - 1s 24us/step - loss: 0.0613 - binary_accuracy: 0.8117 - val_loss: 0.0613 - val_binary_accuracy: 0.8103\n",
            "Epoch 24/50\n",
            "60000/60000 [==============================] - 1s 24us/step - loss: 0.0609 - binary_accuracy: 0.8117 - val_loss: 0.0611 - val_binary_accuracy: 0.8103\n",
            "Epoch 25/50\n",
            "60000/60000 [==============================] - 1s 24us/step - loss: 0.0607 - binary_accuracy: 0.8117 - val_loss: 0.0609 - val_binary_accuracy: 0.8103\n",
            "Epoch 26/50\n",
            "60000/60000 [==============================] - 1s 24us/step - loss: 0.0606 - binary_accuracy: 0.8117 - val_loss: 0.0608 - val_binary_accuracy: 0.8103\n",
            "Epoch 27/50\n",
            "60000/60000 [==============================] - 1s 23us/step - loss: 0.0604 - binary_accuracy: 0.8116 - val_loss: 0.0604 - val_binary_accuracy: 0.8102\n",
            "Epoch 28/50\n",
            "60000/60000 [==============================] - 1s 23us/step - loss: 0.0600 - binary_accuracy: 0.8116 - val_loss: 0.0602 - val_binary_accuracy: 0.8102\n",
            "Epoch 29/50\n",
            "60000/60000 [==============================] - 1s 23us/step - loss: 0.0598 - binary_accuracy: 0.8116 - val_loss: 0.0599 - val_binary_accuracy: 0.8102\n",
            "Epoch 30/50\n",
            "60000/60000 [==============================] - 1s 23us/step - loss: 0.0594 - binary_accuracy: 0.8116 - val_loss: 0.0597 - val_binary_accuracy: 0.8102\n",
            "Epoch 31/50\n",
            "60000/60000 [==============================] - 1s 23us/step - loss: 0.0592 - binary_accuracy: 0.8116 - val_loss: 0.0593 - val_binary_accuracy: 0.8101\n",
            "Epoch 32/50\n",
            "60000/60000 [==============================] - 1s 23us/step - loss: 0.0588 - binary_accuracy: 0.8116 - val_loss: 0.0591 - val_binary_accuracy: 0.8101\n",
            "Epoch 33/50\n",
            "60000/60000 [==============================] - 1s 23us/step - loss: 0.0587 - binary_accuracy: 0.8116 - val_loss: 0.0590 - val_binary_accuracy: 0.8101\n",
            "Epoch 34/50\n",
            "60000/60000 [==============================] - 1s 23us/step - loss: 0.0586 - binary_accuracy: 0.8116 - val_loss: 0.0590 - val_binary_accuracy: 0.8101\n",
            "Epoch 35/50\n",
            "60000/60000 [==============================] - 1s 23us/step - loss: 0.0586 - binary_accuracy: 0.8116 - val_loss: 0.0589 - val_binary_accuracy: 0.8101\n",
            "Epoch 36/50\n",
            "60000/60000 [==============================] - 1s 23us/step - loss: 0.0585 - binary_accuracy: 0.8115 - val_loss: 0.0590 - val_binary_accuracy: 0.8101\n",
            "Epoch 37/50\n",
            "60000/60000 [==============================] - 1s 23us/step - loss: 0.0585 - binary_accuracy: 0.8115 - val_loss: 0.0588 - val_binary_accuracy: 0.8101\n",
            "Epoch 38/50\n",
            "60000/60000 [==============================] - 1s 23us/step - loss: 0.0584 - binary_accuracy: 0.8115 - val_loss: 0.0588 - val_binary_accuracy: 0.8101\n",
            "Epoch 39/50\n",
            "60000/60000 [==============================] - 1s 23us/step - loss: 0.0584 - binary_accuracy: 0.8115 - val_loss: 0.0588 - val_binary_accuracy: 0.8101\n",
            "Epoch 40/50\n",
            "60000/60000 [==============================] - 1s 23us/step - loss: 0.0584 - binary_accuracy: 0.8115 - val_loss: 0.0588 - val_binary_accuracy: 0.8101\n",
            "Epoch 41/50\n",
            "60000/60000 [==============================] - 1s 23us/step - loss: 0.0584 - binary_accuracy: 0.8115 - val_loss: 0.0588 - val_binary_accuracy: 0.8101\n",
            "Epoch 42/50\n",
            "60000/60000 [==============================] - 1s 23us/step - loss: 0.0584 - binary_accuracy: 0.8115 - val_loss: 0.0589 - val_binary_accuracy: 0.8100\n",
            "Epoch 43/50\n",
            "60000/60000 [==============================] - 1s 23us/step - loss: 0.0584 - binary_accuracy: 0.8115 - val_loss: 0.0588 - val_binary_accuracy: 0.8101\n",
            "Epoch 44/50\n",
            "60000/60000 [==============================] - 1s 23us/step - loss: 0.0583 - binary_accuracy: 0.8115 - val_loss: 0.0587 - val_binary_accuracy: 0.8101\n",
            "Epoch 45/50\n",
            "60000/60000 [==============================] - 1s 23us/step - loss: 0.0584 - binary_accuracy: 0.8115 - val_loss: 0.0589 - val_binary_accuracy: 0.8100\n",
            "Epoch 46/50\n",
            "60000/60000 [==============================] - 1s 23us/step - loss: 0.0583 - binary_accuracy: 0.8115 - val_loss: 0.0587 - val_binary_accuracy: 0.8100\n",
            "Epoch 47/50\n",
            "60000/60000 [==============================] - 1s 23us/step - loss: 0.0583 - binary_accuracy: 0.8115 - val_loss: 0.0587 - val_binary_accuracy: 0.8100\n",
            "Epoch 48/50\n",
            "60000/60000 [==============================] - 1s 23us/step - loss: 0.0583 - binary_accuracy: 0.8115 - val_loss: 0.0587 - val_binary_accuracy: 0.8100\n",
            "Epoch 49/50\n",
            "60000/60000 [==============================] - 1s 23us/step - loss: 0.0583 - binary_accuracy: 0.8115 - val_loss: 0.0587 - val_binary_accuracy: 0.8100\n",
            "Epoch 50/50\n",
            "60000/60000 [==============================] - 1s 23us/step - loss: 0.0583 - binary_accuracy: 0.8115 - val_loss: 0.0587 - val_binary_accuracy: 0.8100\n"
          ],
          "name": "stdout"
        },
        {
          "output_type": "execute_result",
          "data": {
            "text/plain": [
              "<keras.callbacks.History at 0x7f8bb0678128>"
            ]
          },
          "metadata": {
            "tags": []
          },
          "execution_count": 2
        }
      ]
    },
    {
      "metadata": {
        "id": "sdADk_wU70G9",
        "colab_type": "code",
        "outputId": "f030ff8d-6682-420a-c7d2-95042c5eed9d",
        "colab": {
          "base_uri": "https://localhost:8080/",
          "height": 265
        }
      },
      "cell_type": "code",
      "source": [
        "import matplotlib.pyplot as plt\n",
        "\n",
        "# 学習した重みを保存したり、読み込みたい場合\n",
        "autoencoder.save_weights('autoencoder.h5')\n",
        "autoencoder.load_weights('autoencoder.h5')\n",
        "\n",
        "# テスト画像を変換\n",
        "decoded_imgs = autoencoder.predict(x_test)\n",
        "\n",
        "# 何個表示するか\n",
        "n = 10\n",
        "plt.figure(figsize=(20, 4))\n",
        "for i in range(n):\n",
        "    # オリジナルのテスト画像を表示\n",
        "    ax = plt.subplot(2, n, i+1)\n",
        "    plt.imshow(x_test[i].reshape(28, 28))\n",
        "    plt.gray()\n",
        "    ax.get_xaxis().set_visible(False)\n",
        "    ax.get_yaxis().set_visible(False)\n",
        "\n",
        "    # 変換された画像を表示\n",
        "    ax = plt.subplot(2, n, i+1+n)\n",
        "    plt.imshow(decoded_imgs[i].reshape(28, 28))\n",
        "    plt.gray()\n",
        "    ax.get_xaxis().set_visible(False)\n",
        "    ax.get_yaxis().set_visible(False)\n",
        "plt.show()"
      ],
      "execution_count": 3,
      "outputs": [
        {
          "output_type": "display_data",
          "data": {
            "image/png": "[encoded data removed]",
            "text/plain": [
              "<matplotlib.figure.Figure at 0x7f8bb073de48>"
            ]
          },
          "metadata": {
            "tags": []
          }
        }
      ]
    }
  ]
}