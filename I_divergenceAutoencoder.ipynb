{
  "nbformat": 4,
  "nbformat_minor": 0,
  "metadata": {
    "colab": {
      "name": "I-divergenceAutoencoder.ipynb",
      "version": "0.3.2",
      "provenance": [],
      "collapsed_sections": [],
      "include_colab_link": true
    },
    "kernelspec": {
      "name": "python3",
      "display_name": "Python 3"
    },
    "accelerator": "GPU"
  },
  "cells": [
    {
      "cell_type": "markdown",
      "metadata": {
        "id": "view-in-github",
        "colab_type": "text"
      },
      "source": [
        "<a href=\"https://colab.research.google.com/github/s1230038/autoencoder/blob/master/I_divergenceAutoencoder.ipynb\" target=\"_parent\"><img src=\"https://colab.research.google.com/assets/colab-badge.svg\" alt=\"Open In Colab\"/></a>"
      ]
    },
    {
      "metadata": {
        "id": "d5NaL7in5Jc1",
        "colab_type": "code",
        "outputId": "4ed333ba-137f-4628-b2e5-4cb9b6b67921",
        "colab": {
          "base_uri": "https://localhost:8080/",
          "height": 1946
        }
      },
      "cell_type": "code",
      "source": [
        "# Simple Autoencoder using I-divergence\n",
        "# Original: https://elix-tech.github.io/ja/2016/07/17/autoencoder.html\n",
        "# https://colab.research.google.com/drive/1Z_d8APkMUDwXDQIg3OI7E13vH8IZhusM?authuser=1#scrollTo=WmBfOis_mWCH\n",
        "from keras.layers import Input, Dense\n",
        "from keras.models import Model\n",
        "from keras.datasets import mnist\n",
        "import numpy as np\n",
        "from keras.datasets import mnist\n",
        "from keras import backend as K\n",
        "from keras import metrics\n",
        "\n",
        "# imititing mean_squared_error():\n",
        "# 青イルカ P.57では二乗誤差の総和を使用しているが、これをKerasで実装する場合は平均二乗誤差（mean_squared_error)\n",
        "# をloss に渡す必要がある。なぜなら、Kerasはミニバッチでfit()を計算するからである。青イルカ P.27参照。\n",
        "# 𝒙 ̂_𝑛 :y_pred,  𝒙_𝑛 : y_true, because x_n is training data which means label.\n",
        "def i_divergence(y_true, y_pred):\n",
        "  print(\"Call i_divergence 1\")\n",
        "  y_true = K.clip(y_true, K.epsilon(), 1)\n",
        "  y_pred = K.clip(y_pred, K.epsilon(), 1)\n",
        "  return K.mean(y_pred * K.log(y_pred / y_true) - y_pred + y_true, axis=-1)\n",
        "# return K.mean(y_true * K.log(y_true / y_pred) - y_true + y_pred, axis=-1)\n",
        "\n",
        "encoding_dim = 32\n",
        "input_img = Input(shape=(784,))\n",
        "#　Let us apply ReLU to both encoder activation and decoder activation。 \n",
        "encoded = Dense(encoding_dim, activation='relu')(input_img)\n",
        "decoded = Dense(784, activation='relu')(encoded) \n",
        "autoencoder = Model(inputs=input_img, outputs=decoded) # https://medium.com/@zhuixiyou/userwarning-update-your-model-call-to-the-keras-2-api-8a6a5955daac\n",
        "# autoencoderではaccuracyの計算は不要。\n",
        "autoencoder.compile(optimizer='adam', loss=i_divergence)\n",
        "\n",
        "# Download MNIST and standardize, learning\n",
        "(x_train, _), (x_test, _) = mnist.load_data()\n",
        "# we will restrict domain of definition of the input data to the below expression with normalization of the input.\n",
        "x_train = x_train.astype('float32') / 255. # 画像データは0から1の値を取るように規格化\n",
        "x_test = x_test.astype('float32') / 255.\n",
        "# x_trainは (60000, 28, 28) という形をしていますが、784次元の入力になるように (60000, 784) に変形\n",
        "x_train = x_train.reshape((len(x_train), np.prod(x_train.shape[1:])))\n",
        "x_test = x_test.reshape((len(x_test), np.prod(x_test.shape[1:])))\n",
        "\n",
        "autoencoder.fit(x_train, x_train,\n",
        "                nb_epoch=50,\n",
        "                batch_size=256,\n",
        "                shuffle=True,\n",
        "                validation_data=(x_test, x_test))\n"
      ],
      "execution_count": 0,
      "outputs": [
        {
          "output_type": "stream",
          "text": [
            "Using TensorFlow backend.\n"
          ],
          "name": "stderr"
        },
        {
          "output_type": "stream",
          "text": [
            "Call i_divergence\n"
          ],
          "name": "stdout"
        },
        {
          "output_type": "stream",
          "text": [
            "/usr/local/lib/python3.6/dist-packages/ipykernel_launcher.py:48: UserWarning: The `nb_epoch` argument in `fit` has been renamed `epochs`.\n"
          ],
          "name": "stderr"
        },
        {
          "output_type": "stream",
          "text": [
            "Train on 60000 samples, validate on 10000 samples\n",
            "Epoch 1/50\n",
            "60000/60000 [==============================] - 2s 40us/step - loss: 0.1377 - binary_accuracy: 0.8088 - recon_accuracy: 0.8882 - val_loss: 0.1325 - val_binary_accuracy: 0.8072 - val_recon_accuracy: 0.8861\n",
            "Epoch 2/50\n",
            "60000/60000 [==============================] - 1s 25us/step - loss: 0.1306 - binary_accuracy: 0.8088 - recon_accuracy: 0.8880 - val_loss: 0.1325 - val_binary_accuracy: 0.8072 - val_recon_accuracy: 0.8861\n",
            "Epoch 3/50\n",
            "60000/60000 [==============================] - 1s 25us/step - loss: 0.1306 - binary_accuracy: 0.8088 - recon_accuracy: 0.8880 - val_loss: 0.1325 - val_binary_accuracy: 0.8072 - val_recon_accuracy: 0.8861\n",
            "Epoch 4/50\n",
            "60000/60000 [==============================] - 1s 25us/step - loss: 0.1306 - binary_accuracy: 0.8088 - recon_accuracy: 0.8880 - val_loss: 0.1325 - val_binary_accuracy: 0.8072 - val_recon_accuracy: 0.8861\n",
            "Epoch 5/50\n",
            "60000/60000 [==============================] - 1s 25us/step - loss: 0.1306 - binary_accuracy: 0.8088 - recon_accuracy: 0.8880 - val_loss: 0.1325 - val_binary_accuracy: 0.8072 - val_recon_accuracy: 0.8861\n",
            "Epoch 6/50\n",
            "60000/60000 [==============================] - 1s 24us/step - loss: 0.1306 - binary_accuracy: 0.8088 - recon_accuracy: 0.8880 - val_loss: 0.1325 - val_binary_accuracy: 0.8072 - val_recon_accuracy: 0.8861\n",
            "Epoch 7/50\n",
            "60000/60000 [==============================] - 1s 25us/step - loss: 0.1305 - binary_accuracy: 0.8088 - recon_accuracy: 0.8881 - val_loss: 0.1317 - val_binary_accuracy: 0.8072 - val_recon_accuracy: 0.8867\n",
            "Epoch 8/50\n",
            "60000/60000 [==============================] - 1s 24us/step - loss: 0.1263 - binary_accuracy: 0.8089 - recon_accuracy: 0.8925 - val_loss: 0.1249 - val_binary_accuracy: 0.8075 - val_recon_accuracy: 0.8936\n",
            "Epoch 9/50\n",
            "60000/60000 [==============================] - 1s 24us/step - loss: 0.1218 - binary_accuracy: 0.8091 - recon_accuracy: 0.8967 - val_loss: 0.1212 - val_binary_accuracy: 0.8077 - val_recon_accuracy: 0.8969\n",
            "Epoch 10/50\n",
            "60000/60000 [==============================] - 1s 25us/step - loss: 0.1183 - binary_accuracy: 0.8093 - recon_accuracy: 0.9001 - val_loss: 0.1164 - val_binary_accuracy: 0.8079 - val_recon_accuracy: 0.9012\n",
            "Epoch 11/50\n",
            "60000/60000 [==============================] - 1s 25us/step - loss: 0.1086 - binary_accuracy: 0.8097 - recon_accuracy: 0.9096 - val_loss: 0.1040 - val_binary_accuracy: 0.8085 - val_recon_accuracy: 0.9139\n",
            "Epoch 12/50\n",
            "60000/60000 [==============================] - 1s 24us/step - loss: 0.0966 - binary_accuracy: 0.8103 - recon_accuracy: 0.9209 - val_loss: 0.0899 - val_binary_accuracy: 0.8094 - val_recon_accuracy: 0.9264\n",
            "Epoch 13/50\n",
            "60000/60000 [==============================] - 1s 24us/step - loss: 0.0819 - binary_accuracy: 0.8111 - recon_accuracy: 0.9332 - val_loss: 0.0754 - val_binary_accuracy: 0.8102 - val_recon_accuracy: 0.9377\n",
            "Epoch 14/50\n",
            "60000/60000 [==============================] - 1s 25us/step - loss: 0.0720 - binary_accuracy: 0.8117 - recon_accuracy: 0.9408 - val_loss: 0.0697 - val_binary_accuracy: 0.8105 - val_recon_accuracy: 0.9416\n",
            "Epoch 15/50\n",
            "60000/60000 [==============================] - 1s 24us/step - loss: 0.0686 - binary_accuracy: 0.8118 - recon_accuracy: 0.9428 - val_loss: 0.0672 - val_binary_accuracy: 0.8106 - val_recon_accuracy: 0.9431\n",
            "Epoch 16/50\n",
            "60000/60000 [==============================] - 1s 24us/step - loss: 0.0667 - binary_accuracy: 0.8119 - recon_accuracy: 0.9435 - val_loss: 0.0661 - val_binary_accuracy: 0.8106 - val_recon_accuracy: 0.9432\n",
            "Epoch 17/50\n",
            "60000/60000 [==============================] - 1s 25us/step - loss: 0.0657 - binary_accuracy: 0.8119 - recon_accuracy: 0.9437 - val_loss: 0.0649 - val_binary_accuracy: 0.8106 - val_recon_accuracy: 0.9432\n",
            "Epoch 18/50\n",
            "60000/60000 [==============================] - 2s 25us/step - loss: 0.0639 - binary_accuracy: 0.8119 - recon_accuracy: 0.9441 - val_loss: 0.0628 - val_binary_accuracy: 0.8106 - val_recon_accuracy: 0.9442\n",
            "Epoch 19/50\n",
            "60000/60000 [==============================] - 1s 24us/step - loss: 0.0622 - binary_accuracy: 0.8119 - recon_accuracy: 0.9446 - val_loss: 0.0617 - val_binary_accuracy: 0.8106 - val_recon_accuracy: 0.9439\n",
            "Epoch 20/50\n",
            "60000/60000 [==============================] - 1s 25us/step - loss: 0.0615 - binary_accuracy: 0.8119 - recon_accuracy: 0.9445 - val_loss: 0.0610 - val_binary_accuracy: 0.8105 - val_recon_accuracy: 0.9436\n",
            "Epoch 21/50\n",
            "60000/60000 [==============================] - 1s 24us/step - loss: 0.0606 - binary_accuracy: 0.8119 - recon_accuracy: 0.9444 - val_loss: 0.0604 - val_binary_accuracy: 0.8105 - val_recon_accuracy: 0.9439\n",
            "Epoch 22/50\n",
            "60000/60000 [==============================] - 1s 25us/step - loss: 0.0602 - binary_accuracy: 0.8118 - recon_accuracy: 0.9442 - val_loss: 0.0602 - val_binary_accuracy: 0.8104 - val_recon_accuracy: 0.9432\n",
            "Epoch 23/50\n",
            "60000/60000 [==============================] - 1s 24us/step - loss: 0.0600 - binary_accuracy: 0.8118 - recon_accuracy: 0.9439 - val_loss: 0.0598 - val_binary_accuracy: 0.8105 - val_recon_accuracy: 0.9434\n",
            "Epoch 24/50\n",
            "60000/60000 [==============================] - 1s 25us/step - loss: 0.0597 - binary_accuracy: 0.8118 - recon_accuracy: 0.9437 - val_loss: 0.0597 - val_binary_accuracy: 0.8104 - val_recon_accuracy: 0.9426\n",
            "Epoch 25/50\n",
            "60000/60000 [==============================] - 1s 25us/step - loss: 0.0593 - binary_accuracy: 0.8118 - recon_accuracy: 0.9433 - val_loss: 0.0591 - val_binary_accuracy: 0.8104 - val_recon_accuracy: 0.9426\n",
            "Epoch 26/50\n",
            "60000/60000 [==============================] - 1s 24us/step - loss: 0.0589 - binary_accuracy: 0.8117 - recon_accuracy: 0.9431 - val_loss: 0.0588 - val_binary_accuracy: 0.8104 - val_recon_accuracy: 0.9426\n",
            "Epoch 27/50\n",
            "60000/60000 [==============================] - 1s 25us/step - loss: 0.0585 - binary_accuracy: 0.8117 - recon_accuracy: 0.9430 - val_loss: 0.0583 - val_binary_accuracy: 0.8104 - val_recon_accuracy: 0.9422\n",
            "Epoch 28/50\n",
            "60000/60000 [==============================] - 1s 24us/step - loss: 0.0579 - binary_accuracy: 0.8117 - recon_accuracy: 0.9429 - val_loss: 0.0578 - val_binary_accuracy: 0.8103 - val_recon_accuracy: 0.9419\n",
            "Epoch 29/50\n",
            "60000/60000 [==============================] - 1s 25us/step - loss: 0.0576 - binary_accuracy: 0.8117 - recon_accuracy: 0.9427 - val_loss: 0.0576 - val_binary_accuracy: 0.8103 - val_recon_accuracy: 0.9421\n",
            "Epoch 30/50\n",
            "60000/60000 [==============================] - 1s 24us/step - loss: 0.0574 - binary_accuracy: 0.8117 - recon_accuracy: 0.9427 - val_loss: 0.0576 - val_binary_accuracy: 0.8102 - val_recon_accuracy: 0.9409\n",
            "Epoch 31/50\n",
            "60000/60000 [==============================] - 1s 25us/step - loss: 0.0573 - binary_accuracy: 0.8117 - recon_accuracy: 0.9425 - val_loss: 0.0574 - val_binary_accuracy: 0.8102 - val_recon_accuracy: 0.9414\n",
            "Epoch 32/50\n",
            "60000/60000 [==============================] - 1s 25us/step - loss: 0.0572 - binary_accuracy: 0.8117 - recon_accuracy: 0.9425 - val_loss: 0.0573 - val_binary_accuracy: 0.8102 - val_recon_accuracy: 0.9409\n",
            "Epoch 33/50\n",
            "60000/60000 [==============================] - 1s 24us/step - loss: 0.0571 - binary_accuracy: 0.8117 - recon_accuracy: 0.9424 - val_loss: 0.0573 - val_binary_accuracy: 0.8102 - val_recon_accuracy: 0.9411\n",
            "Epoch 34/50\n",
            "60000/60000 [==============================] - 1s 24us/step - loss: 0.0570 - binary_accuracy: 0.8117 - recon_accuracy: 0.9423 - val_loss: 0.0573 - val_binary_accuracy: 0.8102 - val_recon_accuracy: 0.9412\n",
            "Epoch 35/50\n",
            "60000/60000 [==============================] - 1s 25us/step - loss: 0.0570 - binary_accuracy: 0.8116 - recon_accuracy: 0.9422 - val_loss: 0.0572 - val_binary_accuracy: 0.8103 - val_recon_accuracy: 0.9421\n",
            "Epoch 36/50\n",
            "60000/60000 [==============================] - 1s 24us/step - loss: 0.0569 - binary_accuracy: 0.8116 - recon_accuracy: 0.9421 - val_loss: 0.0572 - val_binary_accuracy: 0.8102 - val_recon_accuracy: 0.9412\n",
            "Epoch 37/50\n",
            "60000/60000 [==============================] - 2s 25us/step - loss: 0.0569 - binary_accuracy: 0.8116 - recon_accuracy: 0.9420 - val_loss: 0.0572 - val_binary_accuracy: 0.8102 - val_recon_accuracy: 0.9415\n",
            "Epoch 38/50\n",
            "60000/60000 [==============================] - 1s 24us/step - loss: 0.0568 - binary_accuracy: 0.8116 - recon_accuracy: 0.9419 - val_loss: 0.0571 - val_binary_accuracy: 0.8103 - val_recon_accuracy: 0.9415\n",
            "Epoch 39/50\n",
            "60000/60000 [==============================] - 1s 24us/step - loss: 0.0568 - binary_accuracy: 0.8116 - recon_accuracy: 0.9419 - val_loss: 0.0571 - val_binary_accuracy: 0.8102 - val_recon_accuracy: 0.9413\n",
            "Epoch 40/50\n",
            "60000/60000 [==============================] - 1s 25us/step - loss: 0.0568 - binary_accuracy: 0.8116 - recon_accuracy: 0.9418 - val_loss: 0.0570 - val_binary_accuracy: 0.8102 - val_recon_accuracy: 0.9407\n",
            "Epoch 41/50\n",
            "60000/60000 [==============================] - 1s 24us/step - loss: 0.0568 - binary_accuracy: 0.8116 - recon_accuracy: 0.9417 - val_loss: 0.0570 - val_binary_accuracy: 0.8102 - val_recon_accuracy: 0.9406\n",
            "Epoch 42/50\n",
            "60000/60000 [==============================] - 1s 25us/step - loss: 0.0567 - binary_accuracy: 0.8116 - recon_accuracy: 0.9416 - val_loss: 0.0571 - val_binary_accuracy: 0.8101 - val_recon_accuracy: 0.9398\n",
            "Epoch 43/50\n",
            "60000/60000 [==============================] - 1s 25us/step - loss: 0.0567 - binary_accuracy: 0.8116 - recon_accuracy: 0.9416 - val_loss: 0.0570 - val_binary_accuracy: 0.8101 - val_recon_accuracy: 0.9402\n",
            "Epoch 44/50\n",
            "60000/60000 [==============================] - 1s 25us/step - loss: 0.0567 - binary_accuracy: 0.8116 - recon_accuracy: 0.9414 - val_loss: 0.0570 - val_binary_accuracy: 0.8102 - val_recon_accuracy: 0.9407\n",
            "Epoch 45/50\n",
            "60000/60000 [==============================] - 1s 24us/step - loss: 0.0567 - binary_accuracy: 0.8116 - recon_accuracy: 0.9414 - val_loss: 0.0570 - val_binary_accuracy: 0.8101 - val_recon_accuracy: 0.9401\n",
            "Epoch 46/50\n",
            "60000/60000 [==============================] - 1s 24us/step - loss: 0.0567 - binary_accuracy: 0.8116 - recon_accuracy: 0.9414 - val_loss: 0.0570 - val_binary_accuracy: 0.8101 - val_recon_accuracy: 0.9402\n",
            "Epoch 47/50\n",
            "60000/60000 [==============================] - 1s 24us/step - loss: 0.0567 - binary_accuracy: 0.8116 - recon_accuracy: 0.9414 - val_loss: 0.0570 - val_binary_accuracy: 0.8102 - val_recon_accuracy: 0.9404\n",
            "Epoch 48/50\n",
            "60000/60000 [==============================] - 1s 25us/step - loss: 0.0567 - binary_accuracy: 0.8116 - recon_accuracy: 0.9413 - val_loss: 0.0569 - val_binary_accuracy: 0.8102 - val_recon_accuracy: 0.9403\n",
            "Epoch 49/50\n",
            "60000/60000 [==============================] - 1s 25us/step - loss: 0.0566 - binary_accuracy: 0.8116 - recon_accuracy: 0.9412 - val_loss: 0.0570 - val_binary_accuracy: 0.8101 - val_recon_accuracy: 0.9397\n",
            "Epoch 50/50\n",
            "60000/60000 [==============================] - 1s 24us/step - loss: 0.0566 - binary_accuracy: 0.8116 - recon_accuracy: 0.9412 - val_loss: 0.0569 - val_binary_accuracy: 0.8101 - val_recon_accuracy: 0.9398\n"
          ],
          "name": "stdout"
        },
        {
          "output_type": "execute_result",
          "data": {
            "text/plain": [
              "<keras.callbacks.History at 0x7f0bca92a668>"
            ]
          },
          "metadata": {
            "tags": []
          },
          "execution_count": 1
        }
      ]
    },
    {
      "metadata": {
        "id": "sdADk_wU70G9",
        "colab_type": "code",
        "outputId": "15318363-6195-4cb8-88bb-b8411b33f8ea",
        "colab": {
          "base_uri": "https://localhost:8080/",
          "height": 265
        }
      },
      "cell_type": "code",
      "source": [
        "import matplotlib.pyplot as plt\n",
        "\n",
        "# 学習した重みを保存したり、読み込みたい場合\n",
        "autoencoder.save_weights('autoencoder.h5')\n",
        "autoencoder.load_weights('autoencoder.h5')\n",
        "\n",
        "# テスト画像を変換\n",
        "decoded_imgs = autoencoder.predict(x_test)\n",
        "\n",
        "# 何個表示するか\n",
        "n = 10\n",
        "plt.figure(figsize=(20, 4))\n",
        "for i in range(n):\n",
        "    # オリジナルのテスト画像を表示\n",
        "    ax = plt.subplot(2, n, i+1)\n",
        "    plt.imshow(x_test[i].reshape(28, 28))\n",
        "    plt.gray()\n",
        "    ax.get_xaxis().set_visible(False)\n",
        "    ax.get_yaxis().set_visible(False)\n",
        "\n",
        "    # 変換された画像を表示\n",
        "    ax = plt.subplot(2, n, i+1+n)\n",
        "    plt.imshow(decoded_imgs[i].reshape(28, 28))\n",
        "    plt.gray()\n",
        "    ax.get_xaxis().set_visible(False)\n",
        "    ax.get_yaxis().set_visible(False)\n",
        "plt.show()"
      ],
      "execution_count": 0,
      "outputs": [
        {
          "output_type": "display_data",
          "data": {
            "image/png": "[encoded data removed]",
            "text/plain": [
              "<matplotlib.figure.Figure at 0x7f8bb07159e8>"
            ]
          },
          "metadata": {
            "tags": []
          }
        }
      ]
    }
  ]
}