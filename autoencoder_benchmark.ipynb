{
  "nbformat": 4,
  "nbformat_minor": 0,
  "metadata": {
    "colab": {
      "name": "autoencoder_benchmark.ipynb",
      "version": "0.3.2",
      "provenance": [],
      "collapsed_sections": [],
      "include_colab_link": true
    },
    "kernelspec": {
      "name": "python3",
      "display_name": "Python 3"
    },
    "accelerator": "GPU"
  },
  "cells": [
    {
      "cell_type": "markdown",
      "metadata": {
        "id": "view-in-github",
        "colab_type": "text"
      },
      "source": [
        "<a href=\"https://colab.research.google.com/github/s1230038/autoencoder/blob/master/autoencoder_benchmark.ipynb\" target=\"_parent\"><img src=\"https://colab.research.google.com/assets/colab-badge.svg\" alt=\"Open In Colab\"/></a>"
      ]
    },
    {
      "metadata": {
        "id": "G0mWuegD6cyK",
        "colab_type": "code",
        "outputId": "e2854e2f-e756-400a-f2d1-8f190e0944b8",
        "colab": {
          "base_uri": "https://localhost:8080/",
          "height": 1910
        }
      },
      "cell_type": "code",
      "source": [
        "# https://elix-tech.github.io/ja/2016/07/17/autoencoder.html\n",
        "# adding https://gertjanvandenburg.com/blog/autoencoder/\n",
        "from keras.layers import Input, Dense\n",
        "from keras.models import Model\n",
        "from keras.datasets import mnist\n",
        "import numpy as np\n",
        "from keras.datasets import mnist\n",
        "from keras import backend as K\n",
        "from keras import metrics\n",
        "\n",
        "encoding_dim = 32\n",
        "input_img = Input(shape=(784,))\n",
        "encoded = Dense(encoding_dim, activation='relu')(input_img)\n",
        "decoded = Dense(784, activation='relu')(encoded) \n",
        "autoencoder = Model(inputs=input_img, outputs=decoded) # https://medium.com/@zhuixiyou/userwarning-update-your-model-call-to-the-keras-2-api-8a6a5955daac\n",
        "autoencoder.compile(optimizer='adam', metrics=[metrics.binary_accuracy], loss='mean_squared_error')\n",
        "\n",
        "(x_train, _), (x_test, _) = mnist.load_data()\n",
        "x_train = x_train.astype('float32') / 255. # 画像データは0から1の値を取るように規格化\n",
        "x_test = x_test.astype('float32') / 255.\n",
        "# x_trainは (60000, 28, 28) という形をしていますが、784次元の入力になるように (60000, 784) に変形\n",
        "x_train = x_train.reshape((len(x_train), np.prod(x_train.shape[1:])))\n",
        "x_test = x_test.reshape((len(x_test), np.prod(x_test.shape[1:])))\n",
        "\n",
        "autoencoder.fit(x_train, x_train,\n",
        "                nb_epoch=50,\n",
        "                batch_size=256,\n",
        "                shuffle=True,\n",
        "                validation_data=(x_test, x_test))"
      ],
      "execution_count": 33,
      "outputs": [
        {
          "output_type": "stream",
          "text": [
            "/usr/local/lib/python3.6/dist-packages/ipykernel_launcher.py:27: UserWarning: The `nb_epoch` argument in `fit` has been renamed `epochs`.\n"
          ],
          "name": "stderr"
        },
        {
          "output_type": "stream",
          "text": [
            "Train on 60000 samples, validate on 10000 samples\n",
            "Epoch 1/50\n",
            "60000/60000 [==============================] - 2s 39us/step - loss: 0.0404 - binary_accuracy: 0.8057 - val_loss: 0.0220 - val_binary_accuracy: 0.8107\n",
            "Epoch 2/50\n",
            "60000/60000 [==============================] - 1s 23us/step - loss: 0.0190 - binary_accuracy: 0.8128 - val_loss: 0.0167 - val_binary_accuracy: 0.8125\n",
            "Epoch 3/50\n",
            "60000/60000 [==============================] - 1s 23us/step - loss: 0.0163 - binary_accuracy: 0.8137 - val_loss: 0.0155 - val_binary_accuracy: 0.8129\n",
            "Epoch 4/50\n",
            "60000/60000 [==============================] - 1s 23us/step - loss: 0.0156 - binary_accuracy: 0.8139 - val_loss: 0.0151 - val_binary_accuracy: 0.8131\n",
            "Epoch 5/50\n",
            "60000/60000 [==============================] - 1s 23us/step - loss: 0.0152 - binary_accuracy: 0.8140 - val_loss: 0.0148 - val_binary_accuracy: 0.8131\n",
            "Epoch 6/50\n",
            "60000/60000 [==============================] - 1s 23us/step - loss: 0.0150 - binary_accuracy: 0.8141 - val_loss: 0.0146 - val_binary_accuracy: 0.8132\n",
            "Epoch 7/50\n",
            "60000/60000 [==============================] - 1s 23us/step - loss: 0.0148 - binary_accuracy: 0.8141 - val_loss: 0.0143 - val_binary_accuracy: 0.8133\n",
            "Epoch 8/50\n",
            "60000/60000 [==============================] - 1s 23us/step - loss: 0.0144 - binary_accuracy: 0.8142 - val_loss: 0.0141 - val_binary_accuracy: 0.8133\n",
            "Epoch 9/50\n",
            "60000/60000 [==============================] - 1s 23us/step - loss: 0.0143 - binary_accuracy: 0.8142 - val_loss: 0.0141 - val_binary_accuracy: 0.8133\n",
            "Epoch 10/50\n",
            "60000/60000 [==============================] - 1s 23us/step - loss: 0.0143 - binary_accuracy: 0.8143 - val_loss: 0.0141 - val_binary_accuracy: 0.8133\n",
            "Epoch 11/50\n",
            "60000/60000 [==============================] - 1s 23us/step - loss: 0.0143 - binary_accuracy: 0.8143 - val_loss: 0.0140 - val_binary_accuracy: 0.8133\n",
            "Epoch 12/50\n",
            "60000/60000 [==============================] - 1s 23us/step - loss: 0.0142 - binary_accuracy: 0.8143 - val_loss: 0.0140 - val_binary_accuracy: 0.8133\n",
            "Epoch 13/50\n",
            "60000/60000 [==============================] - 1s 23us/step - loss: 0.0142 - binary_accuracy: 0.8143 - val_loss: 0.0139 - val_binary_accuracy: 0.8133\n",
            "Epoch 14/50\n",
            "60000/60000 [==============================] - 1s 23us/step - loss: 0.0142 - binary_accuracy: 0.8143 - val_loss: 0.0139 - val_binary_accuracy: 0.8133\n",
            "Epoch 15/50\n",
            "60000/60000 [==============================] - 1s 23us/step - loss: 0.0141 - binary_accuracy: 0.8143 - val_loss: 0.0139 - val_binary_accuracy: 0.8134\n",
            "Epoch 16/50\n",
            "60000/60000 [==============================] - 1s 23us/step - loss: 0.0141 - binary_accuracy: 0.8143 - val_loss: 0.0139 - val_binary_accuracy: 0.8134\n",
            "Epoch 17/50\n",
            "60000/60000 [==============================] - 1s 23us/step - loss: 0.0141 - binary_accuracy: 0.8143 - val_loss: 0.0139 - val_binary_accuracy: 0.8134\n",
            "Epoch 18/50\n",
            "60000/60000 [==============================] - 1s 23us/step - loss: 0.0141 - binary_accuracy: 0.8143 - val_loss: 0.0139 - val_binary_accuracy: 0.8134\n",
            "Epoch 19/50\n",
            "60000/60000 [==============================] - 1s 23us/step - loss: 0.0141 - binary_accuracy: 0.8143 - val_loss: 0.0139 - val_binary_accuracy: 0.8134\n",
            "Epoch 20/50\n",
            "60000/60000 [==============================] - 1s 24us/step - loss: 0.0141 - binary_accuracy: 0.8143 - val_loss: 0.0138 - val_binary_accuracy: 0.8134\n",
            "Epoch 21/50\n",
            "60000/60000 [==============================] - 1s 23us/step - loss: 0.0141 - binary_accuracy: 0.8143 - val_loss: 0.0139 - val_binary_accuracy: 0.8134\n",
            "Epoch 22/50\n",
            "60000/60000 [==============================] - 1s 23us/step - loss: 0.0141 - binary_accuracy: 0.8143 - val_loss: 0.0139 - val_binary_accuracy: 0.8134\n",
            "Epoch 23/50\n",
            "60000/60000 [==============================] - 1s 24us/step - loss: 0.0141 - binary_accuracy: 0.8143 - val_loss: 0.0138 - val_binary_accuracy: 0.8134\n",
            "Epoch 24/50\n",
            "60000/60000 [==============================] - 1s 23us/step - loss: 0.0141 - binary_accuracy: 0.8143 - val_loss: 0.0138 - val_binary_accuracy: 0.8134\n",
            "Epoch 25/50\n",
            "60000/60000 [==============================] - 1s 23us/step - loss: 0.0141 - binary_accuracy: 0.8143 - val_loss: 0.0138 - val_binary_accuracy: 0.8134\n",
            "Epoch 26/50\n",
            "60000/60000 [==============================] - 1s 23us/step - loss: 0.0141 - binary_accuracy: 0.8143 - val_loss: 0.0138 - val_binary_accuracy: 0.8134\n",
            "Epoch 27/50\n",
            "60000/60000 [==============================] - 1s 23us/step - loss: 0.0141 - binary_accuracy: 0.8143 - val_loss: 0.0138 - val_binary_accuracy: 0.8134\n",
            "Epoch 28/50\n",
            "60000/60000 [==============================] - 1s 23us/step - loss: 0.0141 - binary_accuracy: 0.8143 - val_loss: 0.0138 - val_binary_accuracy: 0.8134\n",
            "Epoch 29/50\n",
            "60000/60000 [==============================] - 1s 24us/step - loss: 0.0141 - binary_accuracy: 0.8143 - val_loss: 0.0138 - val_binary_accuracy: 0.8134\n",
            "Epoch 30/50\n",
            "60000/60000 [==============================] - 1s 24us/step - loss: 0.0141 - binary_accuracy: 0.8143 - val_loss: 0.0138 - val_binary_accuracy: 0.8134\n",
            "Epoch 31/50\n",
            "60000/60000 [==============================] - 1s 24us/step - loss: 0.0141 - binary_accuracy: 0.8143 - val_loss: 0.0139 - val_binary_accuracy: 0.8134\n",
            "Epoch 32/50\n",
            "60000/60000 [==============================] - 1s 24us/step - loss: 0.0141 - binary_accuracy: 0.8143 - val_loss: 0.0138 - val_binary_accuracy: 0.8134\n",
            "Epoch 33/50\n",
            "60000/60000 [==============================] - 1s 23us/step - loss: 0.0141 - binary_accuracy: 0.8143 - val_loss: 0.0138 - val_binary_accuracy: 0.8134\n",
            "Epoch 34/50\n",
            "60000/60000 [==============================] - 1s 24us/step - loss: 0.0141 - binary_accuracy: 0.8143 - val_loss: 0.0138 - val_binary_accuracy: 0.8133\n",
            "Epoch 35/50\n",
            "60000/60000 [==============================] - 1s 23us/step - loss: 0.0141 - binary_accuracy: 0.8143 - val_loss: 0.0138 - val_binary_accuracy: 0.8134\n",
            "Epoch 36/50\n",
            "60000/60000 [==============================] - 1s 23us/step - loss: 0.0141 - binary_accuracy: 0.8143 - val_loss: 0.0138 - val_binary_accuracy: 0.8134\n",
            "Epoch 37/50\n",
            "60000/60000 [==============================] - 1s 23us/step - loss: 0.0141 - binary_accuracy: 0.8143 - val_loss: 0.0138 - val_binary_accuracy: 0.8134\n",
            "Epoch 38/50\n",
            "60000/60000 [==============================] - 1s 23us/step - loss: 0.0141 - binary_accuracy: 0.8143 - val_loss: 0.0138 - val_binary_accuracy: 0.8134\n",
            "Epoch 39/50\n",
            "60000/60000 [==============================] - 1s 23us/step - loss: 0.0141 - binary_accuracy: 0.8143 - val_loss: 0.0138 - val_binary_accuracy: 0.8134\n",
            "Epoch 40/50\n",
            "60000/60000 [==============================] - 1s 23us/step - loss: 0.0141 - binary_accuracy: 0.8143 - val_loss: 0.0138 - val_binary_accuracy: 0.8134\n",
            "Epoch 41/50\n",
            "60000/60000 [==============================] - 1s 23us/step - loss: 0.0141 - binary_accuracy: 0.8143 - val_loss: 0.0138 - val_binary_accuracy: 0.8134\n",
            "Epoch 42/50\n",
            "60000/60000 [==============================] - 1s 23us/step - loss: 0.0140 - binary_accuracy: 0.8143 - val_loss: 0.0138 - val_binary_accuracy: 0.8134\n",
            "Epoch 43/50\n",
            "60000/60000 [==============================] - 1s 23us/step - loss: 0.0141 - binary_accuracy: 0.8143 - val_loss: 0.0138 - val_binary_accuracy: 0.8134\n",
            "Epoch 44/50\n",
            "60000/60000 [==============================] - 1s 23us/step - loss: 0.0140 - binary_accuracy: 0.8143 - val_loss: 0.0138 - val_binary_accuracy: 0.8134\n",
            "Epoch 45/50\n",
            "60000/60000 [==============================] - 1s 23us/step - loss: 0.0140 - binary_accuracy: 0.8143 - val_loss: 0.0138 - val_binary_accuracy: 0.8134\n",
            "Epoch 46/50\n",
            "60000/60000 [==============================] - 1s 23us/step - loss: 0.0140 - binary_accuracy: 0.8143 - val_loss: 0.0138 - val_binary_accuracy: 0.8134\n",
            "Epoch 47/50\n",
            "60000/60000 [==============================] - 1s 23us/step - loss: 0.0141 - binary_accuracy: 0.8143 - val_loss: 0.0138 - val_binary_accuracy: 0.8134\n",
            "Epoch 48/50\n",
            "60000/60000 [==============================] - 1s 23us/step - loss: 0.0140 - binary_accuracy: 0.8143 - val_loss: 0.0138 - val_binary_accuracy: 0.8134\n",
            "Epoch 49/50\n",
            "60000/60000 [==============================] - 1s 23us/step - loss: 0.0140 - binary_accuracy: 0.8143 - val_loss: 0.0138 - val_binary_accuracy: 0.8134\n",
            "Epoch 50/50\n",
            "60000/60000 [==============================] - 1s 23us/step - loss: 0.0140 - binary_accuracy: 0.8143 - val_loss: 0.0138 - val_binary_accuracy: 0.8134\n"
          ],
          "name": "stdout"
        },
        {
          "output_type": "execute_result",
          "data": {
            "text/plain": [
              "<keras.callbacks.History at 0x7f7a816b7160>"
            ]
          },
          "metadata": {
            "tags": []
          },
          "execution_count": 33
        }
      ]
    },
    {
      "metadata": {
        "id": "_UBTsMfR6tb6",
        "colab_type": "code",
        "outputId": "7abbcaa0-924b-491c-c0fa-b40f1e60bf2f",
        "colab": {
          "base_uri": "https://localhost:8080/",
          "height": 245
        }
      },
      "cell_type": "code",
      "source": [
        "import matplotlib.pyplot as plt\n",
        "\n",
        "# 学習した重みを保存したり、読み込みたい場合\n",
        "autoencoder.save_weights('autoencoder.h5')\n",
        "autoencoder.load_weights('autoencoder.h5')\n",
        "\n",
        "# テスト画像を変換\n",
        "decoded_imgs = autoencoder.predict(x_test)\n",
        "\n",
        "# 何個表示するか\n",
        "n = 10\n",
        "plt.figure(figsize=(20, 4))\n",
        "for i in range(n):\n",
        "    # オリジナルのテスト画像を表示\n",
        "    ax = plt.subplot(2, n, i+1)\n",
        "    plt.imshow(x_test[i].reshape(28, 28))\n",
        "    plt.gray()\n",
        "    ax.get_xaxis().set_visible(False)\n",
        "    ax.get_yaxis().set_visible(False)\n",
        "\n",
        "    # 変換された画像を表示\n",
        "    ax = plt.subplot(2, n, i+1+n)\n",
        "    plt.imshow(decoded_imgs[i].reshape(28, 28))\n",
        "    plt.gray()\n",
        "    ax.get_xaxis().set_visible(False)\n",
        "    ax.get_yaxis().set_visible(False)\n",
        "plt.show()"
      ],
      "execution_count": 35,
      "outputs": [
        {
          "output_type": "display_data",
          "data": {
            "image/png": "[encoded data removed]",
            "text/plain": [
              "<matplotlib.figure.Figure at 0x7f7a80fc8c18>"
            ]
          },
          "metadata": {
            "tags": []
          }
        }
      ]
    },
    {
      "metadata": {
        "id": "6pP4V8ttJS5v",
        "colab_type": "code",
        "colab": {}
      },
      "cell_type": "code",
      "source": [
        "from google.colab import files\n",
        "# files.download('autoencoder.h5')"
      ],
      "execution_count": 0,
      "outputs": []
    }
  ]
}