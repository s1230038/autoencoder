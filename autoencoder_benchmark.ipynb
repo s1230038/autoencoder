{
  "nbformat": 4,
  "nbformat_minor": 0,
  "metadata": {
    "colab": {
      "name": "autoencoder_benchmark.ipynb",
      "version": "0.3.2",
      "provenance": [],
      "collapsed_sections": [],
      "include_colab_link": true
    },
    "kernelspec": {
      "name": "python3",
      "display_name": "Python 3"
    },
    "accelerator": "GPU"
  },
  "cells": [
    {
      "cell_type": "markdown",
      "metadata": {
        "id": "view-in-github",
        "colab_type": "text"
      },
      "source": [
        "<a href=\"https://colab.research.google.com/github/s1230038/autoencoder/blob/master/autoencoder_benchmark.ipynb\" target=\"_parent\"><img src=\"https://colab.research.google.com/assets/colab-badge.svg\" alt=\"Open In Colab\"/></a>"
      ]
    },
    {
      "metadata": {
        "id": "G0mWuegD6cyK",
        "colab_type": "code",
        "outputId": "133f3912-80fc-4e10-e27e-38a84c9246fd",
        "colab": {
          "base_uri": "https://localhost:8080/",
          "height": 1965
        }
      },
      "cell_type": "code",
      "source": [
        "# https://elix-tech.github.io/ja/2016/07/17/autoencoder.html\n",
        "# adding https://gertjanvandenburg.com/blog/autoencoder/\n",
        "from keras.layers import Input, Dense\n",
        "from keras.models import Model\n",
        "from keras.datasets import mnist\n",
        "import numpy as np\n",
        "from keras.datasets import mnist\n",
        "from keras import backend as K\n",
        "from keras import metrics\n",
        "\n",
        "encoding_dim = 32\n",
        "input_img = Input(shape=(784,))\n",
        "encoded = Dense(encoding_dim, activation='relu')(input_img)\n",
        "decoded = Dense(784, activation='relu')(encoded) \n",
        "autoencoder = Model(inputs=input_img, outputs=decoded) # https://medium.com/@zhuixiyou/userwarning-update-your-model-call-to-the-keras-2-api-8a6a5955daac\n",
        "# autoencoderではaccuracyの計算は不要。https://qiita.com/trtd56/items/acf42277c29b57c05651\n",
        "autoencoder.compile(optimizer='adam', loss='mean_squared_error')\n",
        "\n",
        "(x_train, _), (x_test, _) = mnist.load_data()\n",
        "x_train = x_train.astype('float32') / 255. # 画像データは0から1の値を取るように規格化\n",
        "x_test = x_test.astype('float32') / 255.\n",
        "# x_trainは (60000, 28, 28) という形をしていますが、784次元の入力になるように (60000, 784) に変形\n",
        "x_train = x_train.reshape((len(x_train), np.prod(x_train.shape[1:])))\n",
        "x_test = x_test.reshape((len(x_test), np.prod(x_test.shape[1:])))\n",
        "\n",
        "autoencoder.fit(x_train, x_train,\n",
        "                nb_epoch=50,\n",
        "                batch_size=256,\n",
        "                shuffle=True,\n",
        "                validation_data=(x_test, x_test))"
      ],
      "execution_count": 0,
      "outputs": [
        {
          "output_type": "stream",
          "text": [
            "Using TensorFlow backend.\n"
          ],
          "name": "stderr"
        },
        {
          "output_type": "stream",
          "text": [
            "Downloading data from https://s3.amazonaws.com/img-datasets/mnist.npz\n",
            "11493376/11490434 [==============================] - 1s 0us/step\n"
          ],
          "name": "stdout"
        },
        {
          "output_type": "stream",
          "text": [
            "/usr/local/lib/python3.6/dist-packages/ipykernel_launcher.py:32: UserWarning: The `nb_epoch` argument in `fit` has been renamed `epochs`.\n"
          ],
          "name": "stderr"
        },
        {
          "output_type": "stream",
          "text": [
            "Train on 60000 samples, validate on 10000 samples\n",
            "Epoch 1/50\n",
            "60000/60000 [==============================] - 3s 56us/step - loss: 0.0408 - binary_accuracy: 0.8056 - recon_accuracy: 0.9592 - val_loss: 0.0224 - val_binary_accuracy: 0.8107 - val_recon_accuracy: 0.9776\n",
            "Epoch 2/50\n",
            "60000/60000 [==============================] - 1s 22us/step - loss: 0.0194 - binary_accuracy: 0.8129 - recon_accuracy: 0.9806 - val_loss: 0.0171 - val_binary_accuracy: 0.8127 - val_recon_accuracy: 0.9829\n",
            "Epoch 3/50\n",
            "60000/60000 [==============================] - 1s 23us/step - loss: 0.0166 - binary_accuracy: 0.8138 - recon_accuracy: 0.9834 - val_loss: 0.0157 - val_binary_accuracy: 0.8130 - val_recon_accuracy: 0.9843\n",
            "Epoch 4/50\n",
            "60000/60000 [==============================] - 1s 23us/step - loss: 0.0157 - binary_accuracy: 0.8140 - recon_accuracy: 0.9843 - val_loss: 0.0151 - val_binary_accuracy: 0.8131 - val_recon_accuracy: 0.9849\n",
            "Epoch 5/50\n",
            "60000/60000 [==============================] - 1s 23us/step - loss: 0.0153 - binary_accuracy: 0.8141 - recon_accuracy: 0.9847 - val_loss: 0.0150 - val_binary_accuracy: 0.8132 - val_recon_accuracy: 0.9850\n",
            "Epoch 6/50\n",
            "60000/60000 [==============================] - 1s 23us/step - loss: 0.0151 - binary_accuracy: 0.8142 - recon_accuracy: 0.9849 - val_loss: 0.0148 - val_binary_accuracy: 0.8133 - val_recon_accuracy: 0.9852\n",
            "Epoch 7/50\n",
            "60000/60000 [==============================] - 1s 24us/step - loss: 0.0150 - binary_accuracy: 0.8142 - recon_accuracy: 0.9850 - val_loss: 0.0147 - val_binary_accuracy: 0.8133 - val_recon_accuracy: 0.9853\n",
            "Epoch 8/50\n",
            "60000/60000 [==============================] - 1s 23us/step - loss: 0.0150 - binary_accuracy: 0.8142 - recon_accuracy: 0.9850 - val_loss: 0.0146 - val_binary_accuracy: 0.8133 - val_recon_accuracy: 0.9854\n",
            "Epoch 9/50\n",
            "60000/60000 [==============================] - 1s 22us/step - loss: 0.0149 - binary_accuracy: 0.8142 - recon_accuracy: 0.9851 - val_loss: 0.0146 - val_binary_accuracy: 0.8133 - val_recon_accuracy: 0.9854\n",
            "Epoch 10/50\n",
            "60000/60000 [==============================] - 1s 23us/step - loss: 0.0149 - binary_accuracy: 0.8142 - recon_accuracy: 0.9851 - val_loss: 0.0146 - val_binary_accuracy: 0.8133 - val_recon_accuracy: 0.9854\n",
            "Epoch 11/50\n",
            "60000/60000 [==============================] - 1s 23us/step - loss: 0.0148 - binary_accuracy: 0.8142 - recon_accuracy: 0.9852 - val_loss: 0.0145 - val_binary_accuracy: 0.8133 - val_recon_accuracy: 0.9855\n",
            "Epoch 12/50\n",
            "60000/60000 [==============================] - 1s 23us/step - loss: 0.0148 - binary_accuracy: 0.8143 - recon_accuracy: 0.9852 - val_loss: 0.0145 - val_binary_accuracy: 0.8133 - val_recon_accuracy: 0.9855\n",
            "Epoch 13/50\n",
            "60000/60000 [==============================] - 1s 23us/step - loss: 0.0148 - binary_accuracy: 0.8143 - recon_accuracy: 0.9852 - val_loss: 0.0145 - val_binary_accuracy: 0.8133 - val_recon_accuracy: 0.9855\n",
            "Epoch 14/50\n",
            "60000/60000 [==============================] - 1s 22us/step - loss: 0.0148 - binary_accuracy: 0.8143 - recon_accuracy: 0.9852 - val_loss: 0.0145 - val_binary_accuracy: 0.8133 - val_recon_accuracy: 0.9855\n",
            "Epoch 15/50\n",
            "60000/60000 [==============================] - 1s 23us/step - loss: 0.0148 - binary_accuracy: 0.8143 - recon_accuracy: 0.9852 - val_loss: 0.0145 - val_binary_accuracy: 0.8133 - val_recon_accuracy: 0.9855\n",
            "Epoch 16/50\n",
            "60000/60000 [==============================] - 1s 23us/step - loss: 0.0147 - binary_accuracy: 0.8143 - recon_accuracy: 0.9853 - val_loss: 0.0145 - val_binary_accuracy: 0.8133 - val_recon_accuracy: 0.9855\n",
            "Epoch 17/50\n",
            "60000/60000 [==============================] - 1s 23us/step - loss: 0.0147 - binary_accuracy: 0.8143 - recon_accuracy: 0.9853 - val_loss: 0.0145 - val_binary_accuracy: 0.8133 - val_recon_accuracy: 0.9855\n",
            "Epoch 18/50\n",
            "60000/60000 [==============================] - 1s 23us/step - loss: 0.0147 - binary_accuracy: 0.8143 - recon_accuracy: 0.9853 - val_loss: 0.0144 - val_binary_accuracy: 0.8134 - val_recon_accuracy: 0.9856\n",
            "Epoch 19/50\n",
            "60000/60000 [==============================] - 1s 23us/step - loss: 0.0147 - binary_accuracy: 0.8143 - recon_accuracy: 0.9853 - val_loss: 0.0144 - val_binary_accuracy: 0.8134 - val_recon_accuracy: 0.9856\n",
            "Epoch 20/50\n",
            "60000/60000 [==============================] - 1s 23us/step - loss: 0.0147 - binary_accuracy: 0.8143 - recon_accuracy: 0.9853 - val_loss: 0.0144 - val_binary_accuracy: 0.8133 - val_recon_accuracy: 0.9856\n",
            "Epoch 21/50\n",
            "60000/60000 [==============================] - 1s 23us/step - loss: 0.0147 - binary_accuracy: 0.8143 - recon_accuracy: 0.9853 - val_loss: 0.0144 - val_binary_accuracy: 0.8133 - val_recon_accuracy: 0.9856\n",
            "Epoch 22/50\n",
            "60000/60000 [==============================] - 1s 24us/step - loss: 0.0147 - binary_accuracy: 0.8143 - recon_accuracy: 0.9853 - val_loss: 0.0144 - val_binary_accuracy: 0.8133 - val_recon_accuracy: 0.9856\n",
            "Epoch 23/50\n",
            "60000/60000 [==============================] - 1s 23us/step - loss: 0.0147 - binary_accuracy: 0.8143 - recon_accuracy: 0.9853 - val_loss: 0.0144 - val_binary_accuracy: 0.8133 - val_recon_accuracy: 0.9856\n",
            "Epoch 24/50\n",
            "60000/60000 [==============================] - 1s 23us/step - loss: 0.0147 - binary_accuracy: 0.8143 - recon_accuracy: 0.9853 - val_loss: 0.0144 - val_binary_accuracy: 0.8133 - val_recon_accuracy: 0.9856\n",
            "Epoch 25/50\n",
            "60000/60000 [==============================] - 1s 23us/step - loss: 0.0147 - binary_accuracy: 0.8143 - recon_accuracy: 0.9853 - val_loss: 0.0144 - val_binary_accuracy: 0.8134 - val_recon_accuracy: 0.9856\n",
            "Epoch 26/50\n",
            "60000/60000 [==============================] - 1s 23us/step - loss: 0.0147 - binary_accuracy: 0.8143 - recon_accuracy: 0.9853 - val_loss: 0.0144 - val_binary_accuracy: 0.8133 - val_recon_accuracy: 0.9856\n",
            "Epoch 27/50\n",
            "60000/60000 [==============================] - 1s 23us/step - loss: 0.0147 - binary_accuracy: 0.8143 - recon_accuracy: 0.9853 - val_loss: 0.0144 - val_binary_accuracy: 0.8134 - val_recon_accuracy: 0.9856\n",
            "Epoch 28/50\n",
            "60000/60000 [==============================] - 1s 24us/step - loss: 0.0147 - binary_accuracy: 0.8143 - recon_accuracy: 0.9853 - val_loss: 0.0144 - val_binary_accuracy: 0.8134 - val_recon_accuracy: 0.9856\n",
            "Epoch 29/50\n",
            "60000/60000 [==============================] - 1s 23us/step - loss: 0.0147 - binary_accuracy: 0.8143 - recon_accuracy: 0.9853 - val_loss: 0.0144 - val_binary_accuracy: 0.8133 - val_recon_accuracy: 0.9856\n",
            "Epoch 30/50\n",
            "60000/60000 [==============================] - 1s 23us/step - loss: 0.0147 - binary_accuracy: 0.8143 - recon_accuracy: 0.9853 - val_loss: 0.0144 - val_binary_accuracy: 0.8133 - val_recon_accuracy: 0.9856\n",
            "Epoch 31/50\n",
            "60000/60000 [==============================] - 1s 23us/step - loss: 0.0147 - binary_accuracy: 0.8143 - recon_accuracy: 0.9853 - val_loss: 0.0144 - val_binary_accuracy: 0.8133 - val_recon_accuracy: 0.9856\n",
            "Epoch 32/50\n",
            "60000/60000 [==============================] - 1s 23us/step - loss: 0.0146 - binary_accuracy: 0.8143 - recon_accuracy: 0.9854 - val_loss: 0.0144 - val_binary_accuracy: 0.8134 - val_recon_accuracy: 0.9856\n",
            "Epoch 33/50\n",
            "60000/60000 [==============================] - 1s 23us/step - loss: 0.0146 - binary_accuracy: 0.8143 - recon_accuracy: 0.9854 - val_loss: 0.0143 - val_binary_accuracy: 0.8134 - val_recon_accuracy: 0.9857\n",
            "Epoch 34/50\n",
            "60000/60000 [==============================] - 1s 23us/step - loss: 0.0146 - binary_accuracy: 0.8143 - recon_accuracy: 0.9854 - val_loss: 0.0144 - val_binary_accuracy: 0.8134 - val_recon_accuracy: 0.9856\n",
            "Epoch 35/50\n",
            "60000/60000 [==============================] - 1s 23us/step - loss: 0.0146 - binary_accuracy: 0.8143 - recon_accuracy: 0.9854 - val_loss: 0.0143 - val_binary_accuracy: 0.8133 - val_recon_accuracy: 0.9857\n",
            "Epoch 36/50\n",
            "60000/60000 [==============================] - 1s 23us/step - loss: 0.0146 - binary_accuracy: 0.8143 - recon_accuracy: 0.9854 - val_loss: 0.0143 - val_binary_accuracy: 0.8133 - val_recon_accuracy: 0.9857\n",
            "Epoch 37/50\n",
            "60000/60000 [==============================] - 1s 23us/step - loss: 0.0146 - binary_accuracy: 0.8143 - recon_accuracy: 0.9854 - val_loss: 0.0144 - val_binary_accuracy: 0.8133 - val_recon_accuracy: 0.9856\n",
            "Epoch 38/50\n",
            "60000/60000 [==============================] - 1s 23us/step - loss: 0.0146 - binary_accuracy: 0.8143 - recon_accuracy: 0.9854 - val_loss: 0.0144 - val_binary_accuracy: 0.8133 - val_recon_accuracy: 0.9856\n",
            "Epoch 39/50\n",
            "60000/60000 [==============================] - 1s 23us/step - loss: 0.0146 - binary_accuracy: 0.8143 - recon_accuracy: 0.9854 - val_loss: 0.0144 - val_binary_accuracy: 0.8133 - val_recon_accuracy: 0.9856\n",
            "Epoch 40/50\n",
            "60000/60000 [==============================] - 1s 23us/step - loss: 0.0146 - binary_accuracy: 0.8143 - recon_accuracy: 0.9854 - val_loss: 0.0144 - val_binary_accuracy: 0.8133 - val_recon_accuracy: 0.9856\n",
            "Epoch 41/50\n",
            "60000/60000 [==============================] - 1s 23us/step - loss: 0.0146 - binary_accuracy: 0.8143 - recon_accuracy: 0.9854 - val_loss: 0.0144 - val_binary_accuracy: 0.8134 - val_recon_accuracy: 0.9856\n",
            "Epoch 42/50\n",
            "60000/60000 [==============================] - 1s 23us/step - loss: 0.0146 - binary_accuracy: 0.8143 - recon_accuracy: 0.9854 - val_loss: 0.0144 - val_binary_accuracy: 0.8134 - val_recon_accuracy: 0.9856\n",
            "Epoch 43/50\n",
            "60000/60000 [==============================] - 1s 23us/step - loss: 0.0146 - binary_accuracy: 0.8143 - recon_accuracy: 0.9854 - val_loss: 0.0144 - val_binary_accuracy: 0.8133 - val_recon_accuracy: 0.9856\n",
            "Epoch 44/50\n",
            "60000/60000 [==============================] - 1s 23us/step - loss: 0.0146 - binary_accuracy: 0.8143 - recon_accuracy: 0.9854 - val_loss: 0.0143 - val_binary_accuracy: 0.8134 - val_recon_accuracy: 0.9857\n",
            "Epoch 45/50\n",
            "60000/60000 [==============================] - 1s 24us/step - loss: 0.0146 - binary_accuracy: 0.8143 - recon_accuracy: 0.9854 - val_loss: 0.0143 - val_binary_accuracy: 0.8134 - val_recon_accuracy: 0.9857\n",
            "Epoch 46/50\n",
            "60000/60000 [==============================] - 1s 24us/step - loss: 0.0146 - binary_accuracy: 0.8143 - recon_accuracy: 0.9854 - val_loss: 0.0143 - val_binary_accuracy: 0.8134 - val_recon_accuracy: 0.9857\n",
            "Epoch 47/50\n",
            "60000/60000 [==============================] - 1s 23us/step - loss: 0.0146 - binary_accuracy: 0.8143 - recon_accuracy: 0.9854 - val_loss: 0.0143 - val_binary_accuracy: 0.8134 - val_recon_accuracy: 0.9857\n",
            "Epoch 48/50\n",
            "60000/60000 [==============================] - 1s 23us/step - loss: 0.0146 - binary_accuracy: 0.8143 - recon_accuracy: 0.9854 - val_loss: 0.0144 - val_binary_accuracy: 0.8133 - val_recon_accuracy: 0.9856\n",
            "Epoch 49/50\n",
            "60000/60000 [==============================] - 1s 23us/step - loss: 0.0146 - binary_accuracy: 0.8143 - recon_accuracy: 0.9854 - val_loss: 0.0143 - val_binary_accuracy: 0.8133 - val_recon_accuracy: 0.9857\n",
            "Epoch 50/50\n",
            "60000/60000 [==============================] - 1s 23us/step - loss: 0.0146 - binary_accuracy: 0.8143 - recon_accuracy: 0.9854 - val_loss: 0.0143 - val_binary_accuracy: 0.8133 - val_recon_accuracy: 0.9857\n"
          ],
          "name": "stdout"
        },
        {
          "output_type": "execute_result",
          "data": {
            "text/plain": [
              "<keras.callbacks.History at 0x7f2847769f28>"
            ]
          },
          "metadata": {
            "tags": []
          },
          "execution_count": 1
        }
      ]
    },
    {
      "metadata": {
        "id": "_UBTsMfR6tb6",
        "colab_type": "code",
        "outputId": "ca21d067-b743-4e14-f0ec-db24ce713fab",
        "colab": {
          "base_uri": "https://localhost:8080/",
          "height": 265
        }
      },
      "cell_type": "code",
      "source": [
        "import matplotlib.pyplot as plt\n",
        "\n",
        "# 学習した重みを保存したり、読み込みたい場合\n",
        "autoencoder.save_weights('autoencoder.h5')\n",
        "autoencoder.load_weights('autoencoder.h5')\n",
        "\n",
        "# テスト画像を変換\n",
        "decoded_imgs = autoencoder.predict(x_test)\n",
        "\n",
        "# 何個表示するか\n",
        "n = 10\n",
        "plt.figure(figsize=(20, 4))\n",
        "for i in range(n):\n",
        "    # オリジナルのテスト画像を表示\n",
        "    ax = plt.subplot(2, n, i+1)\n",
        "    plt.imshow(x_test[i].reshape(28, 28))\n",
        "    plt.gray()\n",
        "    ax.get_xaxis().set_visible(False)\n",
        "    ax.get_yaxis().set_visible(False)\n",
        "\n",
        "    # 変換された画像を表示\n",
        "    ax = plt.subplot(2, n, i+1+n)\n",
        "    plt.imshow(decoded_imgs[i].reshape(28, 28))\n",
        "    plt.gray()\n",
        "    ax.get_xaxis().set_visible(False)\n",
        "    ax.get_yaxis().set_visible(False)\n",
        "plt.show()"
      ],
      "execution_count": 0,
      "outputs": [
        {
          "output_type": "display_data",
          "data": {
            "image/png": "[encoded data removed]",
            "text/plain": [
              "<matplotlib.figure.Figure at 0x7f7a813a7c18>"
            ]
          },
          "metadata": {
            "tags": []
          }
        }
      ]
    },
    {
      "metadata": {
        "id": "6pP4V8ttJS5v",
        "colab_type": "code",
        "colab": {}
      },
      "cell_type": "code",
      "source": [
        "from google.colab import files\n",
        "# files.download('autoencoder.h5')"
      ],
      "execution_count": 0,
      "outputs": []
    }
  ]
}